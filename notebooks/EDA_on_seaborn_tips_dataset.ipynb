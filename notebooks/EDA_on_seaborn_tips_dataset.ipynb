{
 "cells": [
  {
   "cell_type": "code",
   "execution_count": 224,
   "id": "0c6649c8",
   "metadata": {},
   "outputs": [],
   "source": [
    "import seaborn as sns\n",
    "import pandas as pd\n",
    "import altair as alt\n",
    "import matplotlib.pyplot as plt\n",
    "import plotly.express as px\n",
    "from plotly.subplots import make_subplots\n"
   ]
  },
  {
   "cell_type": "markdown",
   "id": "78ec8a43",
   "metadata": {},
   "source": [
    "##  Seaborn `tips` Dataset Overview\n",
    "\n",
    "###  Dataset Background\n",
    "\n",
    "* **Context**: Represents tipping behavior at a restaurant in the U.S.\n",
    "\n",
    "### Column Descriptions\n",
    "\n",
    "| **Column**   | **Type**            | **Description**                                                         |\n",
    "| ------------ | ------------------- | ----------------------------------------------------------------------- |\n",
    "| `total_bill` | `float`             | Total amount of the bill (in USD), including food and drinks.           |\n",
    "| `tip`        | `float`             | Tip amount (in USD) given to the server.                                |\n",
    "| `sex`        | `category (string)` | Gender of the person paying the bill (`Male` or `Female`).              |\n",
    "| `smoker`     | `category (string)` | Whether the party included smokers (`Yes` or `No`).                     |\n",
    "| `day`        | `category (string)` | Day of the week when the meal was served (`Thur`, `Fri`, `Sat`, `Sun`). |\n",
    "| `time`       | `category (string)` | Time of day of the meal (`Lunch` or `Dinner`).                          |\n",
    "| `size`       | `int`               | Number of people in the dining party.                                   |\n",
    "\n",
    "---\n",
    "\n",
    "\n",
    "\n",
    "\n",
    "####  Typical Questions Explored:\n",
    "\n",
    "* Do men or women tip more?\n",
    "* Are tips higher during lunch or dinner?\n",
    "* Does smoking status influence tipping?\n",
    "* Is there a relationship between bill size and tip amount?\n",
    "* How does party size affect the tip?\n",
    "\n",
    "And many more question answered."
   ]
  },
  {
   "cell_type": "code",
   "execution_count": 225,
   "id": "7e95ca88",
   "metadata": {},
   "outputs": [],
   "source": [
    "tip_df = sns.load_dataset('tips')"
   ]
  },
  {
   "cell_type": "code",
   "execution_count": 226,
   "id": "8716c15f",
   "metadata": {},
   "outputs": [
    {
     "data": {
      "application/vnd.microsoft.datawrangler.viewer.v0+json": {
       "columns": [
        {
         "name": "index",
         "rawType": "int64",
         "type": "integer"
        },
        {
         "name": "total_bill",
         "rawType": "float64",
         "type": "float"
        },
        {
         "name": "tip",
         "rawType": "float64",
         "type": "float"
        },
        {
         "name": "sex",
         "rawType": "category",
         "type": "unknown"
        },
        {
         "name": "smoker",
         "rawType": "category",
         "type": "unknown"
        },
        {
         "name": "day",
         "rawType": "category",
         "type": "unknown"
        },
        {
         "name": "time",
         "rawType": "category",
         "type": "unknown"
        },
        {
         "name": "size",
         "rawType": "int64",
         "type": "integer"
        }
       ],
       "ref": "606d634c-00e9-4bf2-a036-24ccfae839b7",
       "rows": [
        [
         "0",
         "16.99",
         "1.01",
         "Female",
         "No",
         "Sun",
         "Dinner",
         "2"
        ],
        [
         "1",
         "10.34",
         "1.66",
         "Male",
         "No",
         "Sun",
         "Dinner",
         "3"
        ],
        [
         "2",
         "21.01",
         "3.5",
         "Male",
         "No",
         "Sun",
         "Dinner",
         "3"
        ],
        [
         "3",
         "23.68",
         "3.31",
         "Male",
         "No",
         "Sun",
         "Dinner",
         "2"
        ],
        [
         "4",
         "24.59",
         "3.61",
         "Female",
         "No",
         "Sun",
         "Dinner",
         "4"
        ]
       ],
       "shape": {
        "columns": 7,
        "rows": 5
       }
      },
      "text/html": [
       "<div>\n",
       "<style scoped>\n",
       "    .dataframe tbody tr th:only-of-type {\n",
       "        vertical-align: middle;\n",
       "    }\n",
       "\n",
       "    .dataframe tbody tr th {\n",
       "        vertical-align: top;\n",
       "    }\n",
       "\n",
       "    .dataframe thead th {\n",
       "        text-align: right;\n",
       "    }\n",
       "</style>\n",
       "<table border=\"1\" class=\"dataframe\">\n",
       "  <thead>\n",
       "    <tr style=\"text-align: right;\">\n",
       "      <th></th>\n",
       "      <th>total_bill</th>\n",
       "      <th>tip</th>\n",
       "      <th>sex</th>\n",
       "      <th>smoker</th>\n",
       "      <th>day</th>\n",
       "      <th>time</th>\n",
       "      <th>size</th>\n",
       "    </tr>\n",
       "  </thead>\n",
       "  <tbody>\n",
       "    <tr>\n",
       "      <th>0</th>\n",
       "      <td>16.99</td>\n",
       "      <td>1.01</td>\n",
       "      <td>Female</td>\n",
       "      <td>No</td>\n",
       "      <td>Sun</td>\n",
       "      <td>Dinner</td>\n",
       "      <td>2</td>\n",
       "    </tr>\n",
       "    <tr>\n",
       "      <th>1</th>\n",
       "      <td>10.34</td>\n",
       "      <td>1.66</td>\n",
       "      <td>Male</td>\n",
       "      <td>No</td>\n",
       "      <td>Sun</td>\n",
       "      <td>Dinner</td>\n",
       "      <td>3</td>\n",
       "    </tr>\n",
       "    <tr>\n",
       "      <th>2</th>\n",
       "      <td>21.01</td>\n",
       "      <td>3.50</td>\n",
       "      <td>Male</td>\n",
       "      <td>No</td>\n",
       "      <td>Sun</td>\n",
       "      <td>Dinner</td>\n",
       "      <td>3</td>\n",
       "    </tr>\n",
       "    <tr>\n",
       "      <th>3</th>\n",
       "      <td>23.68</td>\n",
       "      <td>3.31</td>\n",
       "      <td>Male</td>\n",
       "      <td>No</td>\n",
       "      <td>Sun</td>\n",
       "      <td>Dinner</td>\n",
       "      <td>2</td>\n",
       "    </tr>\n",
       "    <tr>\n",
       "      <th>4</th>\n",
       "      <td>24.59</td>\n",
       "      <td>3.61</td>\n",
       "      <td>Female</td>\n",
       "      <td>No</td>\n",
       "      <td>Sun</td>\n",
       "      <td>Dinner</td>\n",
       "      <td>4</td>\n",
       "    </tr>\n",
       "  </tbody>\n",
       "</table>\n",
       "</div>"
      ],
      "text/plain": [
       "   total_bill   tip     sex smoker  day    time  size\n",
       "0       16.99  1.01  Female     No  Sun  Dinner     2\n",
       "1       10.34  1.66    Male     No  Sun  Dinner     3\n",
       "2       21.01  3.50    Male     No  Sun  Dinner     3\n",
       "3       23.68  3.31    Male     No  Sun  Dinner     2\n",
       "4       24.59  3.61  Female     No  Sun  Dinner     4"
      ]
     },
     "execution_count": 226,
     "metadata": {},
     "output_type": "execute_result"
    }
   ],
   "source": [
    "tip_df.head()"
   ]
  },
  {
   "cell_type": "code",
   "execution_count": 227,
   "id": "45e78338",
   "metadata": {},
   "outputs": [
    {
     "name": "stdout",
     "output_type": "stream",
     "text": [
      "<class 'pandas.core.frame.DataFrame'>\n",
      "RangeIndex: 244 entries, 0 to 243\n",
      "Data columns (total 7 columns):\n",
      " #   Column      Non-Null Count  Dtype   \n",
      "---  ------      --------------  -----   \n",
      " 0   total_bill  244 non-null    float64 \n",
      " 1   tip         244 non-null    float64 \n",
      " 2   sex         244 non-null    category\n",
      " 3   smoker      244 non-null    category\n",
      " 4   day         244 non-null    category\n",
      " 5   time        244 non-null    category\n",
      " 6   size        244 non-null    int64   \n",
      "dtypes: category(4), float64(2), int64(1)\n",
      "memory usage: 7.4 KB\n",
      "None\n"
     ]
    }
   ],
   "source": [
    "print(tip_df.info())"
   ]
  },
  {
   "cell_type": "markdown",
   "id": "2530d618",
   "metadata": {},
   "source": [
    "**Tips Dataset Overview**\n",
    "\n",
    "- **Rows:** 244  \n",
    "- **Columns:** 7  \n",
    "- **No missing values**"
   ]
  },
  {
   "cell_type": "code",
   "execution_count": 228,
   "id": "2af680de",
   "metadata": {},
   "outputs": [
    {
     "data": {
      "application/vnd.microsoft.datawrangler.viewer.v0+json": {
       "columns": [
        {
         "name": "index",
         "rawType": "object",
         "type": "string"
        },
        {
         "name": "total_bill",
         "rawType": "float64",
         "type": "float"
        },
        {
         "name": "tip",
         "rawType": "float64",
         "type": "float"
        },
        {
         "name": "size",
         "rawType": "float64",
         "type": "float"
        }
       ],
       "ref": "7e36f2c5-b41c-4e23-8fcc-dcec689a4163",
       "rows": [
        [
         "count",
         "244.0",
         "244.0",
         "244.0"
        ],
        [
         "mean",
         "19.78594262295082",
         "2.99827868852459",
         "2.569672131147541"
        ],
        [
         "std",
         "8.902411954856856",
         "1.3836381890011822",
         "0.9510998047322344"
        ],
        [
         "min",
         "3.07",
         "1.0",
         "1.0"
        ],
        [
         "25%",
         "13.3475",
         "2.0",
         "2.0"
        ],
        [
         "50%",
         "17.795",
         "2.9",
         "2.0"
        ],
        [
         "75%",
         "24.127499999999998",
         "3.5625",
         "3.0"
        ],
        [
         "max",
         "50.81",
         "10.0",
         "6.0"
        ]
       ],
       "shape": {
        "columns": 3,
        "rows": 8
       }
      },
      "text/html": [
       "<div>\n",
       "<style scoped>\n",
       "    .dataframe tbody tr th:only-of-type {\n",
       "        vertical-align: middle;\n",
       "    }\n",
       "\n",
       "    .dataframe tbody tr th {\n",
       "        vertical-align: top;\n",
       "    }\n",
       "\n",
       "    .dataframe thead th {\n",
       "        text-align: right;\n",
       "    }\n",
       "</style>\n",
       "<table border=\"1\" class=\"dataframe\">\n",
       "  <thead>\n",
       "    <tr style=\"text-align: right;\">\n",
       "      <th></th>\n",
       "      <th>total_bill</th>\n",
       "      <th>tip</th>\n",
       "      <th>size</th>\n",
       "    </tr>\n",
       "  </thead>\n",
       "  <tbody>\n",
       "    <tr>\n",
       "      <th>count</th>\n",
       "      <td>244.000000</td>\n",
       "      <td>244.000000</td>\n",
       "      <td>244.000000</td>\n",
       "    </tr>\n",
       "    <tr>\n",
       "      <th>mean</th>\n",
       "      <td>19.785943</td>\n",
       "      <td>2.998279</td>\n",
       "      <td>2.569672</td>\n",
       "    </tr>\n",
       "    <tr>\n",
       "      <th>std</th>\n",
       "      <td>8.902412</td>\n",
       "      <td>1.383638</td>\n",
       "      <td>0.951100</td>\n",
       "    </tr>\n",
       "    <tr>\n",
       "      <th>min</th>\n",
       "      <td>3.070000</td>\n",
       "      <td>1.000000</td>\n",
       "      <td>1.000000</td>\n",
       "    </tr>\n",
       "    <tr>\n",
       "      <th>25%</th>\n",
       "      <td>13.347500</td>\n",
       "      <td>2.000000</td>\n",
       "      <td>2.000000</td>\n",
       "    </tr>\n",
       "    <tr>\n",
       "      <th>50%</th>\n",
       "      <td>17.795000</td>\n",
       "      <td>2.900000</td>\n",
       "      <td>2.000000</td>\n",
       "    </tr>\n",
       "    <tr>\n",
       "      <th>75%</th>\n",
       "      <td>24.127500</td>\n",
       "      <td>3.562500</td>\n",
       "      <td>3.000000</td>\n",
       "    </tr>\n",
       "    <tr>\n",
       "      <th>max</th>\n",
       "      <td>50.810000</td>\n",
       "      <td>10.000000</td>\n",
       "      <td>6.000000</td>\n",
       "    </tr>\n",
       "  </tbody>\n",
       "</table>\n",
       "</div>"
      ],
      "text/plain": [
       "       total_bill         tip        size\n",
       "count  244.000000  244.000000  244.000000\n",
       "mean    19.785943    2.998279    2.569672\n",
       "std      8.902412    1.383638    0.951100\n",
       "min      3.070000    1.000000    1.000000\n",
       "25%     13.347500    2.000000    2.000000\n",
       "50%     17.795000    2.900000    2.000000\n",
       "75%     24.127500    3.562500    3.000000\n",
       "max     50.810000   10.000000    6.000000"
      ]
     },
     "execution_count": 228,
     "metadata": {},
     "output_type": "execute_result"
    }
   ],
   "source": [
    "# let's get the quick statistical overview of the dataframe\n",
    "tip_df.describe()"
   ]
  },
  {
   "cell_type": "markdown",
   "id": "feddafe3",
   "metadata": {},
   "source": [
    "\n",
    "**Key Statistics:**\n",
    "- **Average total bill:** \\$19.78 &nbsp;|&nbsp; **Maximum bill:** \\$50.81\n",
    "- **Average tip:** \\$2.99 &nbsp;|&nbsp; **Maximum tip:** \\$10.00\n",
    "- **Typical party size:** 2–3 people &nbsp;|&nbsp; **Maximum party size:** 6\n",
    "\n",
    "**Columns:**\n",
    "- `total_bill`, `tip`, `sex`, `smoker`, `day`, `time`, `size`"
   ]
  },
  {
   "cell_type": "code",
   "execution_count": 229,
   "id": "43d38a67",
   "metadata": {},
   "outputs": [
    {
     "name": "stdout",
     "output_type": "stream",
     "text": [
      "         sex smoker  day    time\n",
      "count    244    244  244     244\n",
      "unique     2      2    4       2\n",
      "top     Male     No  Sat  Dinner\n",
      "freq     157    151   87     176\n"
     ]
    }
   ],
   "source": [
    "print(tip_df.describe(exclude='number'))"
   ]
  },
  {
   "cell_type": "markdown",
   "id": "76e20dcb",
   "metadata": {},
   "source": [
    "**Categorical Variable Summary**\n",
    "\n",
    "- **Sex:** Majority are Male (157 out of 244)\n",
    "- **Smoker:** Most are Non-smokers (151 out of 244)\n",
    "- **Day:** Most visits occur on Saturday (87 out of 244)\n",
    "- **Time:** Dinner is the most common meal time (176 out of 244)\n",
    "\n",
    "These statistics indicate that the dataset is dominated by male, non-smoking customers dining at dinner, especially on Saturdays.\n"
   ]
  },
  {
   "cell_type": "code",
   "execution_count": 230,
   "id": "d5cc42be",
   "metadata": {},
   "outputs": [
    {
     "data": {
      "application/vnd.microsoft.datawrangler.viewer.v0+json": {
       "columns": [
        {
         "name": "index",
         "rawType": "object",
         "type": "string"
        },
        {
         "name": "tip",
         "rawType": "float64",
         "type": "float"
        }
       ],
       "ref": "a095965a-ab5c-45b0-b005-1669926fb4f5",
       "rows": [
        [
         "count",
         "244.0"
        ],
        [
         "mean",
         "2.99827868852459"
        ],
        [
         "std",
         "1.3836381890011822"
        ],
        [
         "min",
         "1.0"
        ],
        [
         "25%",
         "2.0"
        ],
        [
         "50%",
         "2.9"
        ],
        [
         "75%",
         "3.5625"
        ],
        [
         "max",
         "10.0"
        ]
       ],
       "shape": {
        "columns": 1,
        "rows": 8
       }
      },
      "text/plain": [
       "count    244.000000\n",
       "mean       2.998279\n",
       "std        1.383638\n",
       "min        1.000000\n",
       "25%        2.000000\n",
       "50%        2.900000\n",
       "75%        3.562500\n",
       "max       10.000000\n",
       "Name: tip, dtype: float64"
      ]
     },
     "execution_count": 230,
     "metadata": {},
     "output_type": "execute_result"
    }
   ],
   "source": [
    "tip_df.tip.describe()"
   ]
  },
  {
   "cell_type": "code",
   "execution_count": 231,
   "id": "09fa9806",
   "metadata": {},
   "outputs": [
    {
     "data": {
      "text/html": [
       "\n",
       "<style>\n",
       "  #altair-viz-4fae1a11b7ca44859a0604343f07738e.vega-embed {\n",
       "    width: 100%;\n",
       "    display: flex;\n",
       "  }\n",
       "\n",
       "  #altair-viz-4fae1a11b7ca44859a0604343f07738e.vega-embed details,\n",
       "  #altair-viz-4fae1a11b7ca44859a0604343f07738e.vega-embed details summary {\n",
       "    position: relative;\n",
       "  }\n",
       "</style>\n",
       "<div id=\"altair-viz-4fae1a11b7ca44859a0604343f07738e\"></div>\n",
       "<script type=\"text/javascript\">\n",
       "  var VEGA_DEBUG = (typeof VEGA_DEBUG == \"undefined\") ? {} : VEGA_DEBUG;\n",
       "  (function(spec, embedOpt){\n",
       "    let outputDiv = document.currentScript.previousElementSibling;\n",
       "    if (outputDiv.id !== \"altair-viz-4fae1a11b7ca44859a0604343f07738e\") {\n",
       "      outputDiv = document.getElementById(\"altair-viz-4fae1a11b7ca44859a0604343f07738e\");\n",
       "    }\n",
       "\n",
       "    const paths = {\n",
       "      \"vega\": \"https://cdn.jsdelivr.net/npm/vega@5?noext\",\n",
       "      \"vega-lib\": \"https://cdn.jsdelivr.net/npm/vega-lib?noext\",\n",
       "      \"vega-lite\": \"https://cdn.jsdelivr.net/npm/vega-lite@5.20.1?noext\",\n",
       "      \"vega-embed\": \"https://cdn.jsdelivr.net/npm/vega-embed@6?noext\",\n",
       "    };\n",
       "\n",
       "    function maybeLoadScript(lib, version) {\n",
       "      var key = `${lib.replace(\"-\", \"\")}_version`;\n",
       "      return (VEGA_DEBUG[key] == version) ?\n",
       "        Promise.resolve(paths[lib]) :\n",
       "        new Promise(function(resolve, reject) {\n",
       "          var s = document.createElement('script');\n",
       "          document.getElementsByTagName(\"head\")[0].appendChild(s);\n",
       "          s.async = true;\n",
       "          s.onload = () => {\n",
       "            VEGA_DEBUG[key] = version;\n",
       "            return resolve(paths[lib]);\n",
       "          };\n",
       "          s.onerror = () => reject(`Error loading script: ${paths[lib]}`);\n",
       "          s.src = paths[lib];\n",
       "        });\n",
       "    }\n",
       "\n",
       "    function showError(err) {\n",
       "      outputDiv.innerHTML = `<div class=\"error\" style=\"color:red;\">${err}</div>`;\n",
       "      throw err;\n",
       "    }\n",
       "\n",
       "    function displayChart(vegaEmbed) {\n",
       "      vegaEmbed(outputDiv, spec, embedOpt)\n",
       "        .catch(err => showError(`Javascript Error: ${err.message}<br>This usually means there's a typo in your chart specification. See the javascript console for the full traceback.`));\n",
       "    }\n",
       "\n",
       "    if(typeof define === \"function\" && define.amd) {\n",
       "      requirejs.config({paths});\n",
       "      let deps = [\"vega-embed\"];\n",
       "      require(deps, displayChart, err => showError(`Error loading script: ${err.message}`));\n",
       "    } else {\n",
       "      maybeLoadScript(\"vega\", \"5\")\n",
       "        .then(() => maybeLoadScript(\"vega-lite\", \"5.20.1\"))\n",
       "        .then(() => maybeLoadScript(\"vega-embed\", \"6\"))\n",
       "        .catch(showError)\n",
       "        .then(() => displayChart(vegaEmbed));\n",
       "    }\n",
       "  })({\"config\": {\"view\": {\"continuousWidth\": 300, \"continuousHeight\": 300, \"strokeWidth\": 0}}, \"hconcat\": [{\"mark\": {\"type\": \"boxplot\", \"color\": \"#F58518\", \"size\": 60}, \"encoding\": {\"tooltip\": [{\"field\": \"total_bill\", \"title\": \"Total Bill\", \"type\": \"quantitative\"}], \"x\": {\"field\": \"total_bill\", \"title\": \"Total Bill (USD)\", \"type\": \"quantitative\"}}, \"height\": 400, \"title\": \"\", \"width\": 400}, {\"mark\": {\"type\": \"bar\", \"color\": \"#4C78A8\", \"opacity\": 0.85}, \"encoding\": {\"tooltip\": [{\"aggregate\": \"count\", \"title\": \"Count\", \"type\": \"quantitative\"}], \"x\": {\"bin\": {\"maxbins\": 30}, \"field\": \"total_bill\", \"title\": \"Total Bill (USD)\", \"type\": \"quantitative\"}, \"y\": {\"aggregate\": \"count\", \"title\": \"Number of Bills\", \"type\": \"quantitative\"}}, \"height\": 400, \"title\": \"\", \"width\": 400}], \"data\": {\"name\": \"data-f795d6974a782cd165ff81948ea68153\"}, \"title\": {\"text\": \"Distribution of Total Bills: Most parties spend moderately.\", \"align\": \"center\", \"anchor\": \"middle\", \"fontSize\": 20, \"subtitle\": [\"Most bills are between $10\\u2013$20, median \\u2248 $18;\", \"A few outliers above $40\"]}, \"$schema\": \"https://vega.github.io/schema/vega-lite/v5.20.1.json\", \"datasets\": {\"data-f795d6974a782cd165ff81948ea68153\": [{\"total_bill\": 16.99, \"tip\": 1.01, \"sex\": \"Female\", \"smoker\": \"No\", \"day\": \"Sun\", \"time\": \"Dinner\", \"size\": 2}, {\"total_bill\": 10.34, \"tip\": 1.66, \"sex\": \"Male\", \"smoker\": \"No\", \"day\": \"Sun\", \"time\": \"Dinner\", \"size\": 3}, {\"total_bill\": 21.01, \"tip\": 3.5, \"sex\": \"Male\", \"smoker\": \"No\", \"day\": \"Sun\", \"time\": \"Dinner\", \"size\": 3}, {\"total_bill\": 23.68, \"tip\": 3.31, \"sex\": \"Male\", \"smoker\": \"No\", \"day\": \"Sun\", \"time\": \"Dinner\", \"size\": 2}, {\"total_bill\": 24.59, \"tip\": 3.61, \"sex\": \"Female\", \"smoker\": \"No\", \"day\": \"Sun\", \"time\": \"Dinner\", \"size\": 4}, {\"total_bill\": 25.29, \"tip\": 4.71, \"sex\": \"Male\", \"smoker\": \"No\", \"day\": \"Sun\", \"time\": \"Dinner\", \"size\": 4}, {\"total_bill\": 8.77, \"tip\": 2.0, \"sex\": \"Male\", \"smoker\": \"No\", \"day\": \"Sun\", \"time\": \"Dinner\", \"size\": 2}, {\"total_bill\": 26.88, \"tip\": 3.12, \"sex\": \"Male\", \"smoker\": \"No\", \"day\": \"Sun\", \"time\": \"Dinner\", \"size\": 4}, {\"total_bill\": 15.04, \"tip\": 1.96, \"sex\": \"Male\", \"smoker\": \"No\", \"day\": \"Sun\", \"time\": \"Dinner\", \"size\": 2}, {\"total_bill\": 14.78, \"tip\": 3.23, \"sex\": \"Male\", \"smoker\": \"No\", \"day\": \"Sun\", \"time\": \"Dinner\", \"size\": 2}, {\"total_bill\": 10.27, \"tip\": 1.71, \"sex\": \"Male\", \"smoker\": \"No\", \"day\": \"Sun\", \"time\": \"Dinner\", \"size\": 2}, {\"total_bill\": 35.26, \"tip\": 5.0, \"sex\": \"Female\", \"smoker\": \"No\", \"day\": \"Sun\", \"time\": \"Dinner\", \"size\": 4}, {\"total_bill\": 15.42, \"tip\": 1.57, \"sex\": \"Male\", \"smoker\": \"No\", \"day\": \"Sun\", \"time\": \"Dinner\", \"size\": 2}, {\"total_bill\": 18.43, \"tip\": 3.0, \"sex\": \"Male\", \"smoker\": \"No\", \"day\": \"Sun\", \"time\": \"Dinner\", \"size\": 4}, {\"total_bill\": 14.83, \"tip\": 3.02, \"sex\": \"Female\", \"smoker\": \"No\", \"day\": \"Sun\", \"time\": \"Dinner\", \"size\": 2}, {\"total_bill\": 21.58, \"tip\": 3.92, \"sex\": \"Male\", \"smoker\": \"No\", \"day\": \"Sun\", \"time\": \"Dinner\", \"size\": 2}, {\"total_bill\": 10.33, \"tip\": 1.67, \"sex\": \"Female\", \"smoker\": \"No\", \"day\": \"Sun\", \"time\": \"Dinner\", \"size\": 3}, {\"total_bill\": 16.29, \"tip\": 3.71, \"sex\": \"Male\", \"smoker\": \"No\", \"day\": \"Sun\", \"time\": \"Dinner\", \"size\": 3}, {\"total_bill\": 16.97, \"tip\": 3.5, \"sex\": \"Female\", \"smoker\": \"No\", \"day\": \"Sun\", \"time\": \"Dinner\", \"size\": 3}, {\"total_bill\": 20.65, \"tip\": 3.35, \"sex\": \"Male\", \"smoker\": \"No\", \"day\": \"Sat\", \"time\": \"Dinner\", \"size\": 3}, {\"total_bill\": 17.92, \"tip\": 4.08, \"sex\": \"Male\", \"smoker\": \"No\", \"day\": \"Sat\", \"time\": \"Dinner\", \"size\": 2}, {\"total_bill\": 20.29, \"tip\": 2.75, \"sex\": \"Female\", \"smoker\": \"No\", \"day\": \"Sat\", \"time\": \"Dinner\", \"size\": 2}, {\"total_bill\": 15.77, \"tip\": 2.23, \"sex\": \"Female\", \"smoker\": \"No\", \"day\": \"Sat\", \"time\": \"Dinner\", \"size\": 2}, {\"total_bill\": 39.42, \"tip\": 7.58, \"sex\": \"Male\", \"smoker\": \"No\", \"day\": \"Sat\", \"time\": \"Dinner\", \"size\": 4}, {\"total_bill\": 19.82, \"tip\": 3.18, \"sex\": \"Male\", \"smoker\": \"No\", \"day\": \"Sat\", \"time\": \"Dinner\", \"size\": 2}, {\"total_bill\": 17.81, \"tip\": 2.34, \"sex\": \"Male\", \"smoker\": \"No\", \"day\": \"Sat\", \"time\": \"Dinner\", \"size\": 4}, {\"total_bill\": 13.37, \"tip\": 2.0, \"sex\": \"Male\", \"smoker\": \"No\", \"day\": \"Sat\", \"time\": \"Dinner\", \"size\": 2}, {\"total_bill\": 12.69, \"tip\": 2.0, \"sex\": \"Male\", \"smoker\": \"No\", \"day\": \"Sat\", \"time\": \"Dinner\", \"size\": 2}, {\"total_bill\": 21.7, \"tip\": 4.3, \"sex\": \"Male\", \"smoker\": \"No\", \"day\": \"Sat\", \"time\": \"Dinner\", \"size\": 2}, {\"total_bill\": 19.65, \"tip\": 3.0, \"sex\": \"Female\", \"smoker\": \"No\", \"day\": \"Sat\", \"time\": \"Dinner\", \"size\": 2}, {\"total_bill\": 9.55, \"tip\": 1.45, \"sex\": \"Male\", \"smoker\": \"No\", \"day\": \"Sat\", \"time\": \"Dinner\", \"size\": 2}, {\"total_bill\": 18.35, \"tip\": 2.5, \"sex\": \"Male\", \"smoker\": \"No\", \"day\": \"Sat\", \"time\": \"Dinner\", \"size\": 4}, {\"total_bill\": 15.06, \"tip\": 3.0, \"sex\": \"Female\", \"smoker\": \"No\", \"day\": \"Sat\", \"time\": \"Dinner\", \"size\": 2}, {\"total_bill\": 20.69, \"tip\": 2.45, \"sex\": \"Female\", \"smoker\": \"No\", \"day\": \"Sat\", \"time\": \"Dinner\", \"size\": 4}, {\"total_bill\": 17.78, \"tip\": 3.27, \"sex\": \"Male\", \"smoker\": \"No\", \"day\": \"Sat\", \"time\": \"Dinner\", \"size\": 2}, {\"total_bill\": 24.06, \"tip\": 3.6, \"sex\": \"Male\", \"smoker\": \"No\", \"day\": \"Sat\", \"time\": \"Dinner\", \"size\": 3}, {\"total_bill\": 16.31, \"tip\": 2.0, \"sex\": \"Male\", \"smoker\": \"No\", \"day\": \"Sat\", \"time\": \"Dinner\", \"size\": 3}, {\"total_bill\": 16.93, \"tip\": 3.07, \"sex\": \"Female\", \"smoker\": \"No\", \"day\": \"Sat\", \"time\": \"Dinner\", \"size\": 3}, {\"total_bill\": 18.69, \"tip\": 2.31, \"sex\": \"Male\", \"smoker\": \"No\", \"day\": \"Sat\", \"time\": \"Dinner\", \"size\": 3}, {\"total_bill\": 31.27, \"tip\": 5.0, \"sex\": \"Male\", \"smoker\": \"No\", \"day\": \"Sat\", \"time\": \"Dinner\", \"size\": 3}, {\"total_bill\": 16.04, \"tip\": 2.24, \"sex\": \"Male\", \"smoker\": \"No\", \"day\": \"Sat\", \"time\": \"Dinner\", \"size\": 3}, {\"total_bill\": 17.46, \"tip\": 2.54, \"sex\": \"Male\", \"smoker\": \"No\", \"day\": \"Sun\", \"time\": \"Dinner\", \"size\": 2}, {\"total_bill\": 13.94, \"tip\": 3.06, \"sex\": \"Male\", \"smoker\": \"No\", \"day\": \"Sun\", \"time\": \"Dinner\", \"size\": 2}, {\"total_bill\": 9.68, \"tip\": 1.32, \"sex\": \"Male\", \"smoker\": \"No\", \"day\": \"Sun\", \"time\": \"Dinner\", \"size\": 2}, {\"total_bill\": 30.4, \"tip\": 5.6, \"sex\": \"Male\", \"smoker\": \"No\", \"day\": \"Sun\", \"time\": \"Dinner\", \"size\": 4}, {\"total_bill\": 18.29, \"tip\": 3.0, \"sex\": \"Male\", \"smoker\": \"No\", \"day\": \"Sun\", \"time\": \"Dinner\", \"size\": 2}, {\"total_bill\": 22.23, \"tip\": 5.0, \"sex\": \"Male\", \"smoker\": \"No\", \"day\": \"Sun\", \"time\": \"Dinner\", \"size\": 2}, {\"total_bill\": 32.4, \"tip\": 6.0, \"sex\": \"Male\", \"smoker\": \"No\", \"day\": \"Sun\", \"time\": \"Dinner\", \"size\": 4}, {\"total_bill\": 28.55, \"tip\": 2.05, \"sex\": \"Male\", \"smoker\": \"No\", \"day\": \"Sun\", \"time\": \"Dinner\", \"size\": 3}, {\"total_bill\": 18.04, \"tip\": 3.0, \"sex\": \"Male\", \"smoker\": \"No\", \"day\": \"Sun\", \"time\": \"Dinner\", \"size\": 2}, {\"total_bill\": 12.54, \"tip\": 2.5, \"sex\": \"Male\", \"smoker\": \"No\", \"day\": \"Sun\", \"time\": \"Dinner\", \"size\": 2}, {\"total_bill\": 10.29, \"tip\": 2.6, \"sex\": \"Female\", \"smoker\": \"No\", \"day\": \"Sun\", \"time\": \"Dinner\", \"size\": 2}, {\"total_bill\": 34.81, \"tip\": 5.2, \"sex\": \"Female\", \"smoker\": \"No\", \"day\": \"Sun\", \"time\": \"Dinner\", \"size\": 4}, {\"total_bill\": 9.94, \"tip\": 1.56, \"sex\": \"Male\", \"smoker\": \"No\", \"day\": \"Sun\", \"time\": \"Dinner\", \"size\": 2}, {\"total_bill\": 25.56, \"tip\": 4.34, \"sex\": \"Male\", \"smoker\": \"No\", \"day\": \"Sun\", \"time\": \"Dinner\", \"size\": 4}, {\"total_bill\": 19.49, \"tip\": 3.51, \"sex\": \"Male\", \"smoker\": \"No\", \"day\": \"Sun\", \"time\": \"Dinner\", \"size\": 2}, {\"total_bill\": 38.01, \"tip\": 3.0, \"sex\": \"Male\", \"smoker\": \"Yes\", \"day\": \"Sat\", \"time\": \"Dinner\", \"size\": 4}, {\"total_bill\": 26.41, \"tip\": 1.5, \"sex\": \"Female\", \"smoker\": \"No\", \"day\": \"Sat\", \"time\": \"Dinner\", \"size\": 2}, {\"total_bill\": 11.24, \"tip\": 1.76, \"sex\": \"Male\", \"smoker\": \"Yes\", \"day\": \"Sat\", \"time\": \"Dinner\", \"size\": 2}, {\"total_bill\": 48.27, \"tip\": 6.73, \"sex\": \"Male\", \"smoker\": \"No\", \"day\": \"Sat\", \"time\": \"Dinner\", \"size\": 4}, {\"total_bill\": 20.29, \"tip\": 3.21, \"sex\": \"Male\", \"smoker\": \"Yes\", \"day\": \"Sat\", \"time\": \"Dinner\", \"size\": 2}, {\"total_bill\": 13.81, \"tip\": 2.0, \"sex\": \"Male\", \"smoker\": \"Yes\", \"day\": \"Sat\", \"time\": \"Dinner\", \"size\": 2}, {\"total_bill\": 11.02, \"tip\": 1.98, \"sex\": \"Male\", \"smoker\": \"Yes\", \"day\": \"Sat\", \"time\": \"Dinner\", \"size\": 2}, {\"total_bill\": 18.29, \"tip\": 3.76, \"sex\": \"Male\", \"smoker\": \"Yes\", \"day\": \"Sat\", \"time\": \"Dinner\", \"size\": 4}, {\"total_bill\": 17.59, \"tip\": 2.64, \"sex\": \"Male\", \"smoker\": \"No\", \"day\": \"Sat\", \"time\": \"Dinner\", \"size\": 3}, {\"total_bill\": 20.08, \"tip\": 3.15, \"sex\": \"Male\", \"smoker\": \"No\", \"day\": \"Sat\", \"time\": \"Dinner\", \"size\": 3}, {\"total_bill\": 16.45, \"tip\": 2.47, \"sex\": \"Female\", \"smoker\": \"No\", \"day\": \"Sat\", \"time\": \"Dinner\", \"size\": 2}, {\"total_bill\": 3.07, \"tip\": 1.0, \"sex\": \"Female\", \"smoker\": \"Yes\", \"day\": \"Sat\", \"time\": \"Dinner\", \"size\": 1}, {\"total_bill\": 20.23, \"tip\": 2.01, \"sex\": \"Male\", \"smoker\": \"No\", \"day\": \"Sat\", \"time\": \"Dinner\", \"size\": 2}, {\"total_bill\": 15.01, \"tip\": 2.09, \"sex\": \"Male\", \"smoker\": \"Yes\", \"day\": \"Sat\", \"time\": \"Dinner\", \"size\": 2}, {\"total_bill\": 12.02, \"tip\": 1.97, \"sex\": \"Male\", \"smoker\": \"No\", \"day\": \"Sat\", \"time\": \"Dinner\", \"size\": 2}, {\"total_bill\": 17.07, \"tip\": 3.0, \"sex\": \"Female\", \"smoker\": \"No\", \"day\": \"Sat\", \"time\": \"Dinner\", \"size\": 3}, {\"total_bill\": 26.86, \"tip\": 3.14, \"sex\": \"Female\", \"smoker\": \"Yes\", \"day\": \"Sat\", \"time\": \"Dinner\", \"size\": 2}, {\"total_bill\": 25.28, \"tip\": 5.0, \"sex\": \"Female\", \"smoker\": \"Yes\", \"day\": \"Sat\", \"time\": \"Dinner\", \"size\": 2}, {\"total_bill\": 14.73, \"tip\": 2.2, \"sex\": \"Female\", \"smoker\": \"No\", \"day\": \"Sat\", \"time\": \"Dinner\", \"size\": 2}, {\"total_bill\": 10.51, \"tip\": 1.25, \"sex\": \"Male\", \"smoker\": \"No\", \"day\": \"Sat\", \"time\": \"Dinner\", \"size\": 2}, {\"total_bill\": 17.92, \"tip\": 3.08, \"sex\": \"Male\", \"smoker\": \"Yes\", \"day\": \"Sat\", \"time\": \"Dinner\", \"size\": 2}, {\"total_bill\": 27.2, \"tip\": 4.0, \"sex\": \"Male\", \"smoker\": \"No\", \"day\": \"Thur\", \"time\": \"Lunch\", \"size\": 4}, {\"total_bill\": 22.76, \"tip\": 3.0, \"sex\": \"Male\", \"smoker\": \"No\", \"day\": \"Thur\", \"time\": \"Lunch\", \"size\": 2}, {\"total_bill\": 17.29, \"tip\": 2.71, \"sex\": \"Male\", \"smoker\": \"No\", \"day\": \"Thur\", \"time\": \"Lunch\", \"size\": 2}, {\"total_bill\": 19.44, \"tip\": 3.0, \"sex\": \"Male\", \"smoker\": \"Yes\", \"day\": \"Thur\", \"time\": \"Lunch\", \"size\": 2}, {\"total_bill\": 16.66, \"tip\": 3.4, \"sex\": \"Male\", \"smoker\": \"No\", \"day\": \"Thur\", \"time\": \"Lunch\", \"size\": 2}, {\"total_bill\": 10.07, \"tip\": 1.83, \"sex\": \"Female\", \"smoker\": \"No\", \"day\": \"Thur\", \"time\": \"Lunch\", \"size\": 1}, {\"total_bill\": 32.68, \"tip\": 5.0, \"sex\": \"Male\", \"smoker\": \"Yes\", \"day\": \"Thur\", \"time\": \"Lunch\", \"size\": 2}, {\"total_bill\": 15.98, \"tip\": 2.03, \"sex\": \"Male\", \"smoker\": \"No\", \"day\": \"Thur\", \"time\": \"Lunch\", \"size\": 2}, {\"total_bill\": 34.83, \"tip\": 5.17, \"sex\": \"Female\", \"smoker\": \"No\", \"day\": \"Thur\", \"time\": \"Lunch\", \"size\": 4}, {\"total_bill\": 13.03, \"tip\": 2.0, \"sex\": \"Male\", \"smoker\": \"No\", \"day\": \"Thur\", \"time\": \"Lunch\", \"size\": 2}, {\"total_bill\": 18.28, \"tip\": 4.0, \"sex\": \"Male\", \"smoker\": \"No\", \"day\": \"Thur\", \"time\": \"Lunch\", \"size\": 2}, {\"total_bill\": 24.71, \"tip\": 5.85, \"sex\": \"Male\", \"smoker\": \"No\", \"day\": \"Thur\", \"time\": \"Lunch\", \"size\": 2}, {\"total_bill\": 21.16, \"tip\": 3.0, \"sex\": \"Male\", \"smoker\": \"No\", \"day\": \"Thur\", \"time\": \"Lunch\", \"size\": 2}, {\"total_bill\": 28.97, \"tip\": 3.0, \"sex\": \"Male\", \"smoker\": \"Yes\", \"day\": \"Fri\", \"time\": \"Dinner\", \"size\": 2}, {\"total_bill\": 22.49, \"tip\": 3.5, \"sex\": \"Male\", \"smoker\": \"No\", \"day\": \"Fri\", \"time\": \"Dinner\", \"size\": 2}, {\"total_bill\": 5.75, \"tip\": 1.0, \"sex\": \"Female\", \"smoker\": \"Yes\", \"day\": \"Fri\", \"time\": \"Dinner\", \"size\": 2}, {\"total_bill\": 16.32, \"tip\": 4.3, \"sex\": \"Female\", \"smoker\": \"Yes\", \"day\": \"Fri\", \"time\": \"Dinner\", \"size\": 2}, {\"total_bill\": 22.75, \"tip\": 3.25, \"sex\": \"Female\", \"smoker\": \"No\", \"day\": \"Fri\", \"time\": \"Dinner\", \"size\": 2}, {\"total_bill\": 40.17, \"tip\": 4.73, \"sex\": \"Male\", \"smoker\": \"Yes\", \"day\": \"Fri\", \"time\": \"Dinner\", \"size\": 4}, {\"total_bill\": 27.28, \"tip\": 4.0, \"sex\": \"Male\", \"smoker\": \"Yes\", \"day\": \"Fri\", \"time\": \"Dinner\", \"size\": 2}, {\"total_bill\": 12.03, \"tip\": 1.5, \"sex\": \"Male\", \"smoker\": \"Yes\", \"day\": \"Fri\", \"time\": \"Dinner\", \"size\": 2}, {\"total_bill\": 21.01, \"tip\": 3.0, \"sex\": \"Male\", \"smoker\": \"Yes\", \"day\": \"Fri\", \"time\": \"Dinner\", \"size\": 2}, {\"total_bill\": 12.46, \"tip\": 1.5, \"sex\": \"Male\", \"smoker\": \"No\", \"day\": \"Fri\", \"time\": \"Dinner\", \"size\": 2}, {\"total_bill\": 11.35, \"tip\": 2.5, \"sex\": \"Female\", \"smoker\": \"Yes\", \"day\": \"Fri\", \"time\": \"Dinner\", \"size\": 2}, {\"total_bill\": 15.38, \"tip\": 3.0, \"sex\": \"Female\", \"smoker\": \"Yes\", \"day\": \"Fri\", \"time\": \"Dinner\", \"size\": 2}, {\"total_bill\": 44.3, \"tip\": 2.5, \"sex\": \"Female\", \"smoker\": \"Yes\", \"day\": \"Sat\", \"time\": \"Dinner\", \"size\": 3}, {\"total_bill\": 22.42, \"tip\": 3.48, \"sex\": \"Female\", \"smoker\": \"Yes\", \"day\": \"Sat\", \"time\": \"Dinner\", \"size\": 2}, {\"total_bill\": 20.92, \"tip\": 4.08, \"sex\": \"Female\", \"smoker\": \"No\", \"day\": \"Sat\", \"time\": \"Dinner\", \"size\": 2}, {\"total_bill\": 15.36, \"tip\": 1.64, \"sex\": \"Male\", \"smoker\": \"Yes\", \"day\": \"Sat\", \"time\": \"Dinner\", \"size\": 2}, {\"total_bill\": 20.49, \"tip\": 4.06, \"sex\": \"Male\", \"smoker\": \"Yes\", \"day\": \"Sat\", \"time\": \"Dinner\", \"size\": 2}, {\"total_bill\": 25.21, \"tip\": 4.29, \"sex\": \"Male\", \"smoker\": \"Yes\", \"day\": \"Sat\", \"time\": \"Dinner\", \"size\": 2}, {\"total_bill\": 18.24, \"tip\": 3.76, \"sex\": \"Male\", \"smoker\": \"No\", \"day\": \"Sat\", \"time\": \"Dinner\", \"size\": 2}, {\"total_bill\": 14.31, \"tip\": 4.0, \"sex\": \"Female\", \"smoker\": \"Yes\", \"day\": \"Sat\", \"time\": \"Dinner\", \"size\": 2}, {\"total_bill\": 14.0, \"tip\": 3.0, \"sex\": \"Male\", \"smoker\": \"No\", \"day\": \"Sat\", \"time\": \"Dinner\", \"size\": 2}, {\"total_bill\": 7.25, \"tip\": 1.0, \"sex\": \"Female\", \"smoker\": \"No\", \"day\": \"Sat\", \"time\": \"Dinner\", \"size\": 1}, {\"total_bill\": 38.07, \"tip\": 4.0, \"sex\": \"Male\", \"smoker\": \"No\", \"day\": \"Sun\", \"time\": \"Dinner\", \"size\": 3}, {\"total_bill\": 23.95, \"tip\": 2.55, \"sex\": \"Male\", \"smoker\": \"No\", \"day\": \"Sun\", \"time\": \"Dinner\", \"size\": 2}, {\"total_bill\": 25.71, \"tip\": 4.0, \"sex\": \"Female\", \"smoker\": \"No\", \"day\": \"Sun\", \"time\": \"Dinner\", \"size\": 3}, {\"total_bill\": 17.31, \"tip\": 3.5, \"sex\": \"Female\", \"smoker\": \"No\", \"day\": \"Sun\", \"time\": \"Dinner\", \"size\": 2}, {\"total_bill\": 29.93, \"tip\": 5.07, \"sex\": \"Male\", \"smoker\": \"No\", \"day\": \"Sun\", \"time\": \"Dinner\", \"size\": 4}, {\"total_bill\": 10.65, \"tip\": 1.5, \"sex\": \"Female\", \"smoker\": \"No\", \"day\": \"Thur\", \"time\": \"Lunch\", \"size\": 2}, {\"total_bill\": 12.43, \"tip\": 1.8, \"sex\": \"Female\", \"smoker\": \"No\", \"day\": \"Thur\", \"time\": \"Lunch\", \"size\": 2}, {\"total_bill\": 24.08, \"tip\": 2.92, \"sex\": \"Female\", \"smoker\": \"No\", \"day\": \"Thur\", \"time\": \"Lunch\", \"size\": 4}, {\"total_bill\": 11.69, \"tip\": 2.31, \"sex\": \"Male\", \"smoker\": \"No\", \"day\": \"Thur\", \"time\": \"Lunch\", \"size\": 2}, {\"total_bill\": 13.42, \"tip\": 1.68, \"sex\": \"Female\", \"smoker\": \"No\", \"day\": \"Thur\", \"time\": \"Lunch\", \"size\": 2}, {\"total_bill\": 14.26, \"tip\": 2.5, \"sex\": \"Male\", \"smoker\": \"No\", \"day\": \"Thur\", \"time\": \"Lunch\", \"size\": 2}, {\"total_bill\": 15.95, \"tip\": 2.0, \"sex\": \"Male\", \"smoker\": \"No\", \"day\": \"Thur\", \"time\": \"Lunch\", \"size\": 2}, {\"total_bill\": 12.48, \"tip\": 2.52, \"sex\": \"Female\", \"smoker\": \"No\", \"day\": \"Thur\", \"time\": \"Lunch\", \"size\": 2}, {\"total_bill\": 29.8, \"tip\": 4.2, \"sex\": \"Female\", \"smoker\": \"No\", \"day\": \"Thur\", \"time\": \"Lunch\", \"size\": 6}, {\"total_bill\": 8.52, \"tip\": 1.48, \"sex\": \"Male\", \"smoker\": \"No\", \"day\": \"Thur\", \"time\": \"Lunch\", \"size\": 2}, {\"total_bill\": 14.52, \"tip\": 2.0, \"sex\": \"Female\", \"smoker\": \"No\", \"day\": \"Thur\", \"time\": \"Lunch\", \"size\": 2}, {\"total_bill\": 11.38, \"tip\": 2.0, \"sex\": \"Female\", \"smoker\": \"No\", \"day\": \"Thur\", \"time\": \"Lunch\", \"size\": 2}, {\"total_bill\": 22.82, \"tip\": 2.18, \"sex\": \"Male\", \"smoker\": \"No\", \"day\": \"Thur\", \"time\": \"Lunch\", \"size\": 3}, {\"total_bill\": 19.08, \"tip\": 1.5, \"sex\": \"Male\", \"smoker\": \"No\", \"day\": \"Thur\", \"time\": \"Lunch\", \"size\": 2}, {\"total_bill\": 20.27, \"tip\": 2.83, \"sex\": \"Female\", \"smoker\": \"No\", \"day\": \"Thur\", \"time\": \"Lunch\", \"size\": 2}, {\"total_bill\": 11.17, \"tip\": 1.5, \"sex\": \"Female\", \"smoker\": \"No\", \"day\": \"Thur\", \"time\": \"Lunch\", \"size\": 2}, {\"total_bill\": 12.26, \"tip\": 2.0, \"sex\": \"Female\", \"smoker\": \"No\", \"day\": \"Thur\", \"time\": \"Lunch\", \"size\": 2}, {\"total_bill\": 18.26, \"tip\": 3.25, \"sex\": \"Female\", \"smoker\": \"No\", \"day\": \"Thur\", \"time\": \"Lunch\", \"size\": 2}, {\"total_bill\": 8.51, \"tip\": 1.25, \"sex\": \"Female\", \"smoker\": \"No\", \"day\": \"Thur\", \"time\": \"Lunch\", \"size\": 2}, {\"total_bill\": 10.33, \"tip\": 2.0, \"sex\": \"Female\", \"smoker\": \"No\", \"day\": \"Thur\", \"time\": \"Lunch\", \"size\": 2}, {\"total_bill\": 14.15, \"tip\": 2.0, \"sex\": \"Female\", \"smoker\": \"No\", \"day\": \"Thur\", \"time\": \"Lunch\", \"size\": 2}, {\"total_bill\": 16.0, \"tip\": 2.0, \"sex\": \"Male\", \"smoker\": \"Yes\", \"day\": \"Thur\", \"time\": \"Lunch\", \"size\": 2}, {\"total_bill\": 13.16, \"tip\": 2.75, \"sex\": \"Female\", \"smoker\": \"No\", \"day\": \"Thur\", \"time\": \"Lunch\", \"size\": 2}, {\"total_bill\": 17.47, \"tip\": 3.5, \"sex\": \"Female\", \"smoker\": \"No\", \"day\": \"Thur\", \"time\": \"Lunch\", \"size\": 2}, {\"total_bill\": 34.3, \"tip\": 6.7, \"sex\": \"Male\", \"smoker\": \"No\", \"day\": \"Thur\", \"time\": \"Lunch\", \"size\": 6}, {\"total_bill\": 41.19, \"tip\": 5.0, \"sex\": \"Male\", \"smoker\": \"No\", \"day\": \"Thur\", \"time\": \"Lunch\", \"size\": 5}, {\"total_bill\": 27.05, \"tip\": 5.0, \"sex\": \"Female\", \"smoker\": \"No\", \"day\": \"Thur\", \"time\": \"Lunch\", \"size\": 6}, {\"total_bill\": 16.43, \"tip\": 2.3, \"sex\": \"Female\", \"smoker\": \"No\", \"day\": \"Thur\", \"time\": \"Lunch\", \"size\": 2}, {\"total_bill\": 8.35, \"tip\": 1.5, \"sex\": \"Female\", \"smoker\": \"No\", \"day\": \"Thur\", \"time\": \"Lunch\", \"size\": 2}, {\"total_bill\": 18.64, \"tip\": 1.36, \"sex\": \"Female\", \"smoker\": \"No\", \"day\": \"Thur\", \"time\": \"Lunch\", \"size\": 3}, {\"total_bill\": 11.87, \"tip\": 1.63, \"sex\": \"Female\", \"smoker\": \"No\", \"day\": \"Thur\", \"time\": \"Lunch\", \"size\": 2}, {\"total_bill\": 9.78, \"tip\": 1.73, \"sex\": \"Male\", \"smoker\": \"No\", \"day\": \"Thur\", \"time\": \"Lunch\", \"size\": 2}, {\"total_bill\": 7.51, \"tip\": 2.0, \"sex\": \"Male\", \"smoker\": \"No\", \"day\": \"Thur\", \"time\": \"Lunch\", \"size\": 2}, {\"total_bill\": 14.07, \"tip\": 2.5, \"sex\": \"Male\", \"smoker\": \"No\", \"day\": \"Sun\", \"time\": \"Dinner\", \"size\": 2}, {\"total_bill\": 13.13, \"tip\": 2.0, \"sex\": \"Male\", \"smoker\": \"No\", \"day\": \"Sun\", \"time\": \"Dinner\", \"size\": 2}, {\"total_bill\": 17.26, \"tip\": 2.74, \"sex\": \"Male\", \"smoker\": \"No\", \"day\": \"Sun\", \"time\": \"Dinner\", \"size\": 3}, {\"total_bill\": 24.55, \"tip\": 2.0, \"sex\": \"Male\", \"smoker\": \"No\", \"day\": \"Sun\", \"time\": \"Dinner\", \"size\": 4}, {\"total_bill\": 19.77, \"tip\": 2.0, \"sex\": \"Male\", \"smoker\": \"No\", \"day\": \"Sun\", \"time\": \"Dinner\", \"size\": 4}, {\"total_bill\": 29.85, \"tip\": 5.14, \"sex\": \"Female\", \"smoker\": \"No\", \"day\": \"Sun\", \"time\": \"Dinner\", \"size\": 5}, {\"total_bill\": 48.17, \"tip\": 5.0, \"sex\": \"Male\", \"smoker\": \"No\", \"day\": \"Sun\", \"time\": \"Dinner\", \"size\": 6}, {\"total_bill\": 25.0, \"tip\": 3.75, \"sex\": \"Female\", \"smoker\": \"No\", \"day\": \"Sun\", \"time\": \"Dinner\", \"size\": 4}, {\"total_bill\": 13.39, \"tip\": 2.61, \"sex\": \"Female\", \"smoker\": \"No\", \"day\": \"Sun\", \"time\": \"Dinner\", \"size\": 2}, {\"total_bill\": 16.49, \"tip\": 2.0, \"sex\": \"Male\", \"smoker\": \"No\", \"day\": \"Sun\", \"time\": \"Dinner\", \"size\": 4}, {\"total_bill\": 21.5, \"tip\": 3.5, \"sex\": \"Male\", \"smoker\": \"No\", \"day\": \"Sun\", \"time\": \"Dinner\", \"size\": 4}, {\"total_bill\": 12.66, \"tip\": 2.5, \"sex\": \"Male\", \"smoker\": \"No\", \"day\": \"Sun\", \"time\": \"Dinner\", \"size\": 2}, {\"total_bill\": 16.21, \"tip\": 2.0, \"sex\": \"Female\", \"smoker\": \"No\", \"day\": \"Sun\", \"time\": \"Dinner\", \"size\": 3}, {\"total_bill\": 13.81, \"tip\": 2.0, \"sex\": \"Male\", \"smoker\": \"No\", \"day\": \"Sun\", \"time\": \"Dinner\", \"size\": 2}, {\"total_bill\": 17.51, \"tip\": 3.0, \"sex\": \"Female\", \"smoker\": \"Yes\", \"day\": \"Sun\", \"time\": \"Dinner\", \"size\": 2}, {\"total_bill\": 24.52, \"tip\": 3.48, \"sex\": \"Male\", \"smoker\": \"No\", \"day\": \"Sun\", \"time\": \"Dinner\", \"size\": 3}, {\"total_bill\": 20.76, \"tip\": 2.24, \"sex\": \"Male\", \"smoker\": \"No\", \"day\": \"Sun\", \"time\": \"Dinner\", \"size\": 2}, {\"total_bill\": 31.71, \"tip\": 4.5, \"sex\": \"Male\", \"smoker\": \"No\", \"day\": \"Sun\", \"time\": \"Dinner\", \"size\": 4}, {\"total_bill\": 10.59, \"tip\": 1.61, \"sex\": \"Female\", \"smoker\": \"Yes\", \"day\": \"Sat\", \"time\": \"Dinner\", \"size\": 2}, {\"total_bill\": 10.63, \"tip\": 2.0, \"sex\": \"Female\", \"smoker\": \"Yes\", \"day\": \"Sat\", \"time\": \"Dinner\", \"size\": 2}, {\"total_bill\": 50.81, \"tip\": 10.0, \"sex\": \"Male\", \"smoker\": \"Yes\", \"day\": \"Sat\", \"time\": \"Dinner\", \"size\": 3}, {\"total_bill\": 15.81, \"tip\": 3.16, \"sex\": \"Male\", \"smoker\": \"Yes\", \"day\": \"Sat\", \"time\": \"Dinner\", \"size\": 2}, {\"total_bill\": 7.25, \"tip\": 5.15, \"sex\": \"Male\", \"smoker\": \"Yes\", \"day\": \"Sun\", \"time\": \"Dinner\", \"size\": 2}, {\"total_bill\": 31.85, \"tip\": 3.18, \"sex\": \"Male\", \"smoker\": \"Yes\", \"day\": \"Sun\", \"time\": \"Dinner\", \"size\": 2}, {\"total_bill\": 16.82, \"tip\": 4.0, \"sex\": \"Male\", \"smoker\": \"Yes\", \"day\": \"Sun\", \"time\": \"Dinner\", \"size\": 2}, {\"total_bill\": 32.9, \"tip\": 3.11, \"sex\": \"Male\", \"smoker\": \"Yes\", \"day\": \"Sun\", \"time\": \"Dinner\", \"size\": 2}, {\"total_bill\": 17.89, \"tip\": 2.0, \"sex\": \"Male\", \"smoker\": \"Yes\", \"day\": \"Sun\", \"time\": \"Dinner\", \"size\": 2}, {\"total_bill\": 14.48, \"tip\": 2.0, \"sex\": \"Male\", \"smoker\": \"Yes\", \"day\": \"Sun\", \"time\": \"Dinner\", \"size\": 2}, {\"total_bill\": 9.6, \"tip\": 4.0, \"sex\": \"Female\", \"smoker\": \"Yes\", \"day\": \"Sun\", \"time\": \"Dinner\", \"size\": 2}, {\"total_bill\": 34.63, \"tip\": 3.55, \"sex\": \"Male\", \"smoker\": \"Yes\", \"day\": \"Sun\", \"time\": \"Dinner\", \"size\": 2}, {\"total_bill\": 34.65, \"tip\": 3.68, \"sex\": \"Male\", \"smoker\": \"Yes\", \"day\": \"Sun\", \"time\": \"Dinner\", \"size\": 4}, {\"total_bill\": 23.33, \"tip\": 5.65, \"sex\": \"Male\", \"smoker\": \"Yes\", \"day\": \"Sun\", \"time\": \"Dinner\", \"size\": 2}, {\"total_bill\": 45.35, \"tip\": 3.5, \"sex\": \"Male\", \"smoker\": \"Yes\", \"day\": \"Sun\", \"time\": \"Dinner\", \"size\": 3}, {\"total_bill\": 23.17, \"tip\": 6.5, \"sex\": \"Male\", \"smoker\": \"Yes\", \"day\": \"Sun\", \"time\": \"Dinner\", \"size\": 4}, {\"total_bill\": 40.55, \"tip\": 3.0, \"sex\": \"Male\", \"smoker\": \"Yes\", \"day\": \"Sun\", \"time\": \"Dinner\", \"size\": 2}, {\"total_bill\": 20.69, \"tip\": 5.0, \"sex\": \"Male\", \"smoker\": \"No\", \"day\": \"Sun\", \"time\": \"Dinner\", \"size\": 5}, {\"total_bill\": 20.9, \"tip\": 3.5, \"sex\": \"Female\", \"smoker\": \"Yes\", \"day\": \"Sun\", \"time\": \"Dinner\", \"size\": 3}, {\"total_bill\": 30.46, \"tip\": 2.0, \"sex\": \"Male\", \"smoker\": \"Yes\", \"day\": \"Sun\", \"time\": \"Dinner\", \"size\": 5}, {\"total_bill\": 18.15, \"tip\": 3.5, \"sex\": \"Female\", \"smoker\": \"Yes\", \"day\": \"Sun\", \"time\": \"Dinner\", \"size\": 3}, {\"total_bill\": 23.1, \"tip\": 4.0, \"sex\": \"Male\", \"smoker\": \"Yes\", \"day\": \"Sun\", \"time\": \"Dinner\", \"size\": 3}, {\"total_bill\": 15.69, \"tip\": 1.5, \"sex\": \"Male\", \"smoker\": \"Yes\", \"day\": \"Sun\", \"time\": \"Dinner\", \"size\": 2}, {\"total_bill\": 19.81, \"tip\": 4.19, \"sex\": \"Female\", \"smoker\": \"Yes\", \"day\": \"Thur\", \"time\": \"Lunch\", \"size\": 2}, {\"total_bill\": 28.44, \"tip\": 2.56, \"sex\": \"Male\", \"smoker\": \"Yes\", \"day\": \"Thur\", \"time\": \"Lunch\", \"size\": 2}, {\"total_bill\": 15.48, \"tip\": 2.02, \"sex\": \"Male\", \"smoker\": \"Yes\", \"day\": \"Thur\", \"time\": \"Lunch\", \"size\": 2}, {\"total_bill\": 16.58, \"tip\": 4.0, \"sex\": \"Male\", \"smoker\": \"Yes\", \"day\": \"Thur\", \"time\": \"Lunch\", \"size\": 2}, {\"total_bill\": 7.56, \"tip\": 1.44, \"sex\": \"Male\", \"smoker\": \"No\", \"day\": \"Thur\", \"time\": \"Lunch\", \"size\": 2}, {\"total_bill\": 10.34, \"tip\": 2.0, \"sex\": \"Male\", \"smoker\": \"Yes\", \"day\": \"Thur\", \"time\": \"Lunch\", \"size\": 2}, {\"total_bill\": 43.11, \"tip\": 5.0, \"sex\": \"Female\", \"smoker\": \"Yes\", \"day\": \"Thur\", \"time\": \"Lunch\", \"size\": 4}, {\"total_bill\": 13.0, \"tip\": 2.0, \"sex\": \"Female\", \"smoker\": \"Yes\", \"day\": \"Thur\", \"time\": \"Lunch\", \"size\": 2}, {\"total_bill\": 13.51, \"tip\": 2.0, \"sex\": \"Male\", \"smoker\": \"Yes\", \"day\": \"Thur\", \"time\": \"Lunch\", \"size\": 2}, {\"total_bill\": 18.71, \"tip\": 4.0, \"sex\": \"Male\", \"smoker\": \"Yes\", \"day\": \"Thur\", \"time\": \"Lunch\", \"size\": 3}, {\"total_bill\": 12.74, \"tip\": 2.01, \"sex\": \"Female\", \"smoker\": \"Yes\", \"day\": \"Thur\", \"time\": \"Lunch\", \"size\": 2}, {\"total_bill\": 13.0, \"tip\": 2.0, \"sex\": \"Female\", \"smoker\": \"Yes\", \"day\": \"Thur\", \"time\": \"Lunch\", \"size\": 2}, {\"total_bill\": 16.4, \"tip\": 2.5, \"sex\": \"Female\", \"smoker\": \"Yes\", \"day\": \"Thur\", \"time\": \"Lunch\", \"size\": 2}, {\"total_bill\": 20.53, \"tip\": 4.0, \"sex\": \"Male\", \"smoker\": \"Yes\", \"day\": \"Thur\", \"time\": \"Lunch\", \"size\": 4}, {\"total_bill\": 16.47, \"tip\": 3.23, \"sex\": \"Female\", \"smoker\": \"Yes\", \"day\": \"Thur\", \"time\": \"Lunch\", \"size\": 3}, {\"total_bill\": 26.59, \"tip\": 3.41, \"sex\": \"Male\", \"smoker\": \"Yes\", \"day\": \"Sat\", \"time\": \"Dinner\", \"size\": 3}, {\"total_bill\": 38.73, \"tip\": 3.0, \"sex\": \"Male\", \"smoker\": \"Yes\", \"day\": \"Sat\", \"time\": \"Dinner\", \"size\": 4}, {\"total_bill\": 24.27, \"tip\": 2.03, \"sex\": \"Male\", \"smoker\": \"Yes\", \"day\": \"Sat\", \"time\": \"Dinner\", \"size\": 2}, {\"total_bill\": 12.76, \"tip\": 2.23, \"sex\": \"Female\", \"smoker\": \"Yes\", \"day\": \"Sat\", \"time\": \"Dinner\", \"size\": 2}, {\"total_bill\": 30.06, \"tip\": 2.0, \"sex\": \"Male\", \"smoker\": \"Yes\", \"day\": \"Sat\", \"time\": \"Dinner\", \"size\": 3}, {\"total_bill\": 25.89, \"tip\": 5.16, \"sex\": \"Male\", \"smoker\": \"Yes\", \"day\": \"Sat\", \"time\": \"Dinner\", \"size\": 4}, {\"total_bill\": 48.33, \"tip\": 9.0, \"sex\": \"Male\", \"smoker\": \"No\", \"day\": \"Sat\", \"time\": \"Dinner\", \"size\": 4}, {\"total_bill\": 13.27, \"tip\": 2.5, \"sex\": \"Female\", \"smoker\": \"Yes\", \"day\": \"Sat\", \"time\": \"Dinner\", \"size\": 2}, {\"total_bill\": 28.17, \"tip\": 6.5, \"sex\": \"Female\", \"smoker\": \"Yes\", \"day\": \"Sat\", \"time\": \"Dinner\", \"size\": 3}, {\"total_bill\": 12.9, \"tip\": 1.1, \"sex\": \"Female\", \"smoker\": \"Yes\", \"day\": \"Sat\", \"time\": \"Dinner\", \"size\": 2}, {\"total_bill\": 28.15, \"tip\": 3.0, \"sex\": \"Male\", \"smoker\": \"Yes\", \"day\": \"Sat\", \"time\": \"Dinner\", \"size\": 5}, {\"total_bill\": 11.59, \"tip\": 1.5, \"sex\": \"Male\", \"smoker\": \"Yes\", \"day\": \"Sat\", \"time\": \"Dinner\", \"size\": 2}, {\"total_bill\": 7.74, \"tip\": 1.44, \"sex\": \"Male\", \"smoker\": \"Yes\", \"day\": \"Sat\", \"time\": \"Dinner\", \"size\": 2}, {\"total_bill\": 30.14, \"tip\": 3.09, \"sex\": \"Female\", \"smoker\": \"Yes\", \"day\": \"Sat\", \"time\": \"Dinner\", \"size\": 4}, {\"total_bill\": 12.16, \"tip\": 2.2, \"sex\": \"Male\", \"smoker\": \"Yes\", \"day\": \"Fri\", \"time\": \"Lunch\", \"size\": 2}, {\"total_bill\": 13.42, \"tip\": 3.48, \"sex\": \"Female\", \"smoker\": \"Yes\", \"day\": \"Fri\", \"time\": \"Lunch\", \"size\": 2}, {\"total_bill\": 8.58, \"tip\": 1.92, \"sex\": \"Male\", \"smoker\": \"Yes\", \"day\": \"Fri\", \"time\": \"Lunch\", \"size\": 1}, {\"total_bill\": 15.98, \"tip\": 3.0, \"sex\": \"Female\", \"smoker\": \"No\", \"day\": \"Fri\", \"time\": \"Lunch\", \"size\": 3}, {\"total_bill\": 13.42, \"tip\": 1.58, \"sex\": \"Male\", \"smoker\": \"Yes\", \"day\": \"Fri\", \"time\": \"Lunch\", \"size\": 2}, {\"total_bill\": 16.27, \"tip\": 2.5, \"sex\": \"Female\", \"smoker\": \"Yes\", \"day\": \"Fri\", \"time\": \"Lunch\", \"size\": 2}, {\"total_bill\": 10.09, \"tip\": 2.0, \"sex\": \"Female\", \"smoker\": \"Yes\", \"day\": \"Fri\", \"time\": \"Lunch\", \"size\": 2}, {\"total_bill\": 20.45, \"tip\": 3.0, \"sex\": \"Male\", \"smoker\": \"No\", \"day\": \"Sat\", \"time\": \"Dinner\", \"size\": 4}, {\"total_bill\": 13.28, \"tip\": 2.72, \"sex\": \"Male\", \"smoker\": \"No\", \"day\": \"Sat\", \"time\": \"Dinner\", \"size\": 2}, {\"total_bill\": 22.12, \"tip\": 2.88, \"sex\": \"Female\", \"smoker\": \"Yes\", \"day\": \"Sat\", \"time\": \"Dinner\", \"size\": 2}, {\"total_bill\": 24.01, \"tip\": 2.0, \"sex\": \"Male\", \"smoker\": \"Yes\", \"day\": \"Sat\", \"time\": \"Dinner\", \"size\": 4}, {\"total_bill\": 15.69, \"tip\": 3.0, \"sex\": \"Male\", \"smoker\": \"Yes\", \"day\": \"Sat\", \"time\": \"Dinner\", \"size\": 3}, {\"total_bill\": 11.61, \"tip\": 3.39, \"sex\": \"Male\", \"smoker\": \"No\", \"day\": \"Sat\", \"time\": \"Dinner\", \"size\": 2}, {\"total_bill\": 10.77, \"tip\": 1.47, \"sex\": \"Male\", \"smoker\": \"No\", \"day\": \"Sat\", \"time\": \"Dinner\", \"size\": 2}, {\"total_bill\": 15.53, \"tip\": 3.0, \"sex\": \"Male\", \"smoker\": \"Yes\", \"day\": \"Sat\", \"time\": \"Dinner\", \"size\": 2}, {\"total_bill\": 10.07, \"tip\": 1.25, \"sex\": \"Male\", \"smoker\": \"No\", \"day\": \"Sat\", \"time\": \"Dinner\", \"size\": 2}, {\"total_bill\": 12.6, \"tip\": 1.0, \"sex\": \"Male\", \"smoker\": \"Yes\", \"day\": \"Sat\", \"time\": \"Dinner\", \"size\": 2}, {\"total_bill\": 32.83, \"tip\": 1.17, \"sex\": \"Male\", \"smoker\": \"Yes\", \"day\": \"Sat\", \"time\": \"Dinner\", \"size\": 2}, {\"total_bill\": 35.83, \"tip\": 4.67, \"sex\": \"Female\", \"smoker\": \"No\", \"day\": \"Sat\", \"time\": \"Dinner\", \"size\": 3}, {\"total_bill\": 29.03, \"tip\": 5.92, \"sex\": \"Male\", \"smoker\": \"No\", \"day\": \"Sat\", \"time\": \"Dinner\", \"size\": 3}, {\"total_bill\": 27.18, \"tip\": 2.0, \"sex\": \"Female\", \"smoker\": \"Yes\", \"day\": \"Sat\", \"time\": \"Dinner\", \"size\": 2}, {\"total_bill\": 22.67, \"tip\": 2.0, \"sex\": \"Male\", \"smoker\": \"Yes\", \"day\": \"Sat\", \"time\": \"Dinner\", \"size\": 2}, {\"total_bill\": 17.82, \"tip\": 1.75, \"sex\": \"Male\", \"smoker\": \"No\", \"day\": \"Sat\", \"time\": \"Dinner\", \"size\": 2}, {\"total_bill\": 18.78, \"tip\": 3.0, \"sex\": \"Female\", \"smoker\": \"No\", \"day\": \"Thur\", \"time\": \"Dinner\", \"size\": 2}]}}, {\"mode\": \"vega-lite\"});\n",
       "</script>"
      ],
      "text/plain": [
       "alt.HConcatChart(...)"
      ]
     },
     "execution_count": 231,
     "metadata": {},
     "output_type": "execute_result"
    }
   ],
   "source": [
    "# Bar plot\n",
    "bar_plot = alt.Chart(tip_df).mark_bar(color='#4C78A8', opacity=0.85).encode(\n",
    "    x=alt.X('total_bill', bin=alt.Bin(maxbins=30), title='Total Bill (USD)'),\n",
    "    y=alt.Y('count()', title='Number of Bills'),\n",
    "    tooltip=[alt.Tooltip('count()', title='Count')]\n",
    ").properties(\n",
    "    height=400, width=400, title=''\n",
    ")\n",
    "\n",
    "# Box plot\n",
    "box_plot = alt.Chart(tip_df).mark_boxplot(size=60, color='#F58518').encode(\n",
    "    x=alt.X('total_bill', title='Total Bill (USD)'),\n",
    "    tooltip=[alt.Tooltip('total_bill', title='Total Bill')]\n",
    ").properties(\n",
    "    height=400, width=400, title=''\n",
    ")\n",
    "\n",
    "# Titles for full visualization\n",
    "titles = alt.TitleParams(\n",
    "    text='Distribution of Total Bills: Most parties spend moderately.',\n",
    "    fontSize=20,\n",
    "    align='center',\n",
    "    anchor='middle',\n",
    "    subtitle=[\n",
    "        \"Most bills are between $10–$20, median ≈ $18;\",\n",
    "        \"A few outliers above $40\"\n",
    "    ]\n",
    ")\n",
    "\n",
    "# Concatenate and apply configuration to the combined chart\n",
    "combined_chart = (box_plot | bar_plot ).properties(title= titles).configure_view(strokeWidth=0)\n",
    "\n",
    "\n",
    "combined_chart\n"
   ]
  },
  {
   "cell_type": "markdown",
   "id": "2f6ff9ae",
   "metadata": {},
   "source": [
    "What's the tiping behaviour? "
   ]
  },
  {
   "cell_type": "code",
   "execution_count": 232,
   "id": "63b485ba",
   "metadata": {},
   "outputs": [
    {
     "data": {
      "text/html": [
       "\n",
       "<style>\n",
       "  #altair-viz-e2601ae22b894be29a70ec338c61d318.vega-embed {\n",
       "    width: 100%;\n",
       "    display: flex;\n",
       "  }\n",
       "\n",
       "  #altair-viz-e2601ae22b894be29a70ec338c61d318.vega-embed details,\n",
       "  #altair-viz-e2601ae22b894be29a70ec338c61d318.vega-embed details summary {\n",
       "    position: relative;\n",
       "  }\n",
       "</style>\n",
       "<div id=\"altair-viz-e2601ae22b894be29a70ec338c61d318\"></div>\n",
       "<script type=\"text/javascript\">\n",
       "  var VEGA_DEBUG = (typeof VEGA_DEBUG == \"undefined\") ? {} : VEGA_DEBUG;\n",
       "  (function(spec, embedOpt){\n",
       "    let outputDiv = document.currentScript.previousElementSibling;\n",
       "    if (outputDiv.id !== \"altair-viz-e2601ae22b894be29a70ec338c61d318\") {\n",
       "      outputDiv = document.getElementById(\"altair-viz-e2601ae22b894be29a70ec338c61d318\");\n",
       "    }\n",
       "\n",
       "    const paths = {\n",
       "      \"vega\": \"https://cdn.jsdelivr.net/npm/vega@5?noext\",\n",
       "      \"vega-lib\": \"https://cdn.jsdelivr.net/npm/vega-lib?noext\",\n",
       "      \"vega-lite\": \"https://cdn.jsdelivr.net/npm/vega-lite@5.20.1?noext\",\n",
       "      \"vega-embed\": \"https://cdn.jsdelivr.net/npm/vega-embed@6?noext\",\n",
       "    };\n",
       "\n",
       "    function maybeLoadScript(lib, version) {\n",
       "      var key = `${lib.replace(\"-\", \"\")}_version`;\n",
       "      return (VEGA_DEBUG[key] == version) ?\n",
       "        Promise.resolve(paths[lib]) :\n",
       "        new Promise(function(resolve, reject) {\n",
       "          var s = document.createElement('script');\n",
       "          document.getElementsByTagName(\"head\")[0].appendChild(s);\n",
       "          s.async = true;\n",
       "          s.onload = () => {\n",
       "            VEGA_DEBUG[key] = version;\n",
       "            return resolve(paths[lib]);\n",
       "          };\n",
       "          s.onerror = () => reject(`Error loading script: ${paths[lib]}`);\n",
       "          s.src = paths[lib];\n",
       "        });\n",
       "    }\n",
       "\n",
       "    function showError(err) {\n",
       "      outputDiv.innerHTML = `<div class=\"error\" style=\"color:red;\">${err}</div>`;\n",
       "      throw err;\n",
       "    }\n",
       "\n",
       "    function displayChart(vegaEmbed) {\n",
       "      vegaEmbed(outputDiv, spec, embedOpt)\n",
       "        .catch(err => showError(`Javascript Error: ${err.message}<br>This usually means there's a typo in your chart specification. See the javascript console for the full traceback.`));\n",
       "    }\n",
       "\n",
       "    if(typeof define === \"function\" && define.amd) {\n",
       "      requirejs.config({paths});\n",
       "      let deps = [\"vega-embed\"];\n",
       "      require(deps, displayChart, err => showError(`Error loading script: ${err.message}`));\n",
       "    } else {\n",
       "      maybeLoadScript(\"vega\", \"5\")\n",
       "        .then(() => maybeLoadScript(\"vega-lite\", \"5.20.1\"))\n",
       "        .then(() => maybeLoadScript(\"vega-embed\", \"6\"))\n",
       "        .catch(showError)\n",
       "        .then(() => displayChart(vegaEmbed));\n",
       "    }\n",
       "  })({\"config\": {\"view\": {\"continuousWidth\": 300, \"continuousHeight\": 300, \"strokeWidth\": 0}}, \"hconcat\": [{\"mark\": {\"type\": \"boxplot\", \"color\": \"#F58518\", \"size\": 60}, \"encoding\": {\"tooltip\": [{\"field\": \"tip\", \"title\": \"Tip\", \"type\": \"quantitative\"}], \"x\": {\"field\": \"tip\", \"title\": \"Tip (USD)\", \"type\": \"quantitative\"}}, \"height\": 400, \"title\": \"\", \"width\": 400}, {\"mark\": {\"type\": \"bar\", \"color\": \"#4C78A8\", \"opacity\": 0.85}, \"encoding\": {\"tooltip\": [{\"aggregate\": \"count\", \"title\": \"Count\", \"type\": \"quantitative\"}], \"x\": {\"bin\": {\"maxbins\": 30}, \"field\": \"tip\", \"title\": \"Tip (USD)\", \"type\": \"quantitative\"}, \"y\": {\"aggregate\": \"count\", \"title\": \"Number of Bills\", \"type\": \"quantitative\"}}, \"height\": 400, \"title\": \"\", \"width\": 400}], \"data\": {\"name\": \"data-f795d6974a782cd165ff81948ea68153\"}, \"title\": {\"text\": \"Tip Amounts: Most tips are small, with a few large exceptions.\", \"align\": \"center\", \"anchor\": \"middle\", \"fontSize\": 20, \"subtitle\": [\"Most tips are between $2\\u2013$3.50, median \\u2248 $2.90;\", \"A few outliers above $7, max = $10\"]}, \"$schema\": \"https://vega.github.io/schema/vega-lite/v5.20.1.json\", \"datasets\": {\"data-f795d6974a782cd165ff81948ea68153\": [{\"total_bill\": 16.99, \"tip\": 1.01, \"sex\": \"Female\", \"smoker\": \"No\", \"day\": \"Sun\", \"time\": \"Dinner\", \"size\": 2}, {\"total_bill\": 10.34, \"tip\": 1.66, \"sex\": \"Male\", \"smoker\": \"No\", \"day\": \"Sun\", \"time\": \"Dinner\", \"size\": 3}, {\"total_bill\": 21.01, \"tip\": 3.5, \"sex\": \"Male\", \"smoker\": \"No\", \"day\": \"Sun\", \"time\": \"Dinner\", \"size\": 3}, {\"total_bill\": 23.68, \"tip\": 3.31, \"sex\": \"Male\", \"smoker\": \"No\", \"day\": \"Sun\", \"time\": \"Dinner\", \"size\": 2}, {\"total_bill\": 24.59, \"tip\": 3.61, \"sex\": \"Female\", \"smoker\": \"No\", \"day\": \"Sun\", \"time\": \"Dinner\", \"size\": 4}, {\"total_bill\": 25.29, \"tip\": 4.71, \"sex\": \"Male\", \"smoker\": \"No\", \"day\": \"Sun\", \"time\": \"Dinner\", \"size\": 4}, {\"total_bill\": 8.77, \"tip\": 2.0, \"sex\": \"Male\", \"smoker\": \"No\", \"day\": \"Sun\", \"time\": \"Dinner\", \"size\": 2}, {\"total_bill\": 26.88, \"tip\": 3.12, \"sex\": \"Male\", \"smoker\": \"No\", \"day\": \"Sun\", \"time\": \"Dinner\", \"size\": 4}, {\"total_bill\": 15.04, \"tip\": 1.96, \"sex\": \"Male\", \"smoker\": \"No\", \"day\": \"Sun\", \"time\": \"Dinner\", \"size\": 2}, {\"total_bill\": 14.78, \"tip\": 3.23, \"sex\": \"Male\", \"smoker\": \"No\", \"day\": \"Sun\", \"time\": \"Dinner\", \"size\": 2}, {\"total_bill\": 10.27, \"tip\": 1.71, \"sex\": \"Male\", \"smoker\": \"No\", \"day\": \"Sun\", \"time\": \"Dinner\", \"size\": 2}, {\"total_bill\": 35.26, \"tip\": 5.0, \"sex\": \"Female\", \"smoker\": \"No\", \"day\": \"Sun\", \"time\": \"Dinner\", \"size\": 4}, {\"total_bill\": 15.42, \"tip\": 1.57, \"sex\": \"Male\", \"smoker\": \"No\", \"day\": \"Sun\", \"time\": \"Dinner\", \"size\": 2}, {\"total_bill\": 18.43, \"tip\": 3.0, \"sex\": \"Male\", \"smoker\": \"No\", \"day\": \"Sun\", \"time\": \"Dinner\", \"size\": 4}, {\"total_bill\": 14.83, \"tip\": 3.02, \"sex\": \"Female\", \"smoker\": \"No\", \"day\": \"Sun\", \"time\": \"Dinner\", \"size\": 2}, {\"total_bill\": 21.58, \"tip\": 3.92, \"sex\": \"Male\", \"smoker\": \"No\", \"day\": \"Sun\", \"time\": \"Dinner\", \"size\": 2}, {\"total_bill\": 10.33, \"tip\": 1.67, \"sex\": \"Female\", \"smoker\": \"No\", \"day\": \"Sun\", \"time\": \"Dinner\", \"size\": 3}, {\"total_bill\": 16.29, \"tip\": 3.71, \"sex\": \"Male\", \"smoker\": \"No\", \"day\": \"Sun\", \"time\": \"Dinner\", \"size\": 3}, {\"total_bill\": 16.97, \"tip\": 3.5, \"sex\": \"Female\", \"smoker\": \"No\", \"day\": \"Sun\", \"time\": \"Dinner\", \"size\": 3}, {\"total_bill\": 20.65, \"tip\": 3.35, \"sex\": \"Male\", \"smoker\": \"No\", \"day\": \"Sat\", \"time\": \"Dinner\", \"size\": 3}, {\"total_bill\": 17.92, \"tip\": 4.08, \"sex\": \"Male\", \"smoker\": \"No\", \"day\": \"Sat\", \"time\": \"Dinner\", \"size\": 2}, {\"total_bill\": 20.29, \"tip\": 2.75, \"sex\": \"Female\", \"smoker\": \"No\", \"day\": \"Sat\", \"time\": \"Dinner\", \"size\": 2}, {\"total_bill\": 15.77, \"tip\": 2.23, \"sex\": \"Female\", \"smoker\": \"No\", \"day\": \"Sat\", \"time\": \"Dinner\", \"size\": 2}, {\"total_bill\": 39.42, \"tip\": 7.58, \"sex\": \"Male\", \"smoker\": \"No\", \"day\": \"Sat\", \"time\": \"Dinner\", \"size\": 4}, {\"total_bill\": 19.82, \"tip\": 3.18, \"sex\": \"Male\", \"smoker\": \"No\", \"day\": \"Sat\", \"time\": \"Dinner\", \"size\": 2}, {\"total_bill\": 17.81, \"tip\": 2.34, \"sex\": \"Male\", \"smoker\": \"No\", \"day\": \"Sat\", \"time\": \"Dinner\", \"size\": 4}, {\"total_bill\": 13.37, \"tip\": 2.0, \"sex\": \"Male\", \"smoker\": \"No\", \"day\": \"Sat\", \"time\": \"Dinner\", \"size\": 2}, {\"total_bill\": 12.69, \"tip\": 2.0, \"sex\": \"Male\", \"smoker\": \"No\", \"day\": \"Sat\", \"time\": \"Dinner\", \"size\": 2}, {\"total_bill\": 21.7, \"tip\": 4.3, \"sex\": \"Male\", \"smoker\": \"No\", \"day\": \"Sat\", \"time\": \"Dinner\", \"size\": 2}, {\"total_bill\": 19.65, \"tip\": 3.0, \"sex\": \"Female\", \"smoker\": \"No\", \"day\": \"Sat\", \"time\": \"Dinner\", \"size\": 2}, {\"total_bill\": 9.55, \"tip\": 1.45, \"sex\": \"Male\", \"smoker\": \"No\", \"day\": \"Sat\", \"time\": \"Dinner\", \"size\": 2}, {\"total_bill\": 18.35, \"tip\": 2.5, \"sex\": \"Male\", \"smoker\": \"No\", \"day\": \"Sat\", \"time\": \"Dinner\", \"size\": 4}, {\"total_bill\": 15.06, \"tip\": 3.0, \"sex\": \"Female\", \"smoker\": \"No\", \"day\": \"Sat\", \"time\": \"Dinner\", \"size\": 2}, {\"total_bill\": 20.69, \"tip\": 2.45, \"sex\": \"Female\", \"smoker\": \"No\", \"day\": \"Sat\", \"time\": \"Dinner\", \"size\": 4}, {\"total_bill\": 17.78, \"tip\": 3.27, \"sex\": \"Male\", \"smoker\": \"No\", \"day\": \"Sat\", \"time\": \"Dinner\", \"size\": 2}, {\"total_bill\": 24.06, \"tip\": 3.6, \"sex\": \"Male\", \"smoker\": \"No\", \"day\": \"Sat\", \"time\": \"Dinner\", \"size\": 3}, {\"total_bill\": 16.31, \"tip\": 2.0, \"sex\": \"Male\", \"smoker\": \"No\", \"day\": \"Sat\", \"time\": \"Dinner\", \"size\": 3}, {\"total_bill\": 16.93, \"tip\": 3.07, \"sex\": \"Female\", \"smoker\": \"No\", \"day\": \"Sat\", \"time\": \"Dinner\", \"size\": 3}, {\"total_bill\": 18.69, \"tip\": 2.31, \"sex\": \"Male\", \"smoker\": \"No\", \"day\": \"Sat\", \"time\": \"Dinner\", \"size\": 3}, {\"total_bill\": 31.27, \"tip\": 5.0, \"sex\": \"Male\", \"smoker\": \"No\", \"day\": \"Sat\", \"time\": \"Dinner\", \"size\": 3}, {\"total_bill\": 16.04, \"tip\": 2.24, \"sex\": \"Male\", \"smoker\": \"No\", \"day\": \"Sat\", \"time\": \"Dinner\", \"size\": 3}, {\"total_bill\": 17.46, \"tip\": 2.54, \"sex\": \"Male\", \"smoker\": \"No\", \"day\": \"Sun\", \"time\": \"Dinner\", \"size\": 2}, {\"total_bill\": 13.94, \"tip\": 3.06, \"sex\": \"Male\", \"smoker\": \"No\", \"day\": \"Sun\", \"time\": \"Dinner\", \"size\": 2}, {\"total_bill\": 9.68, \"tip\": 1.32, \"sex\": \"Male\", \"smoker\": \"No\", \"day\": \"Sun\", \"time\": \"Dinner\", \"size\": 2}, {\"total_bill\": 30.4, \"tip\": 5.6, \"sex\": \"Male\", \"smoker\": \"No\", \"day\": \"Sun\", \"time\": \"Dinner\", \"size\": 4}, {\"total_bill\": 18.29, \"tip\": 3.0, \"sex\": \"Male\", \"smoker\": \"No\", \"day\": \"Sun\", \"time\": \"Dinner\", \"size\": 2}, {\"total_bill\": 22.23, \"tip\": 5.0, \"sex\": \"Male\", \"smoker\": \"No\", \"day\": \"Sun\", \"time\": \"Dinner\", \"size\": 2}, {\"total_bill\": 32.4, \"tip\": 6.0, \"sex\": \"Male\", \"smoker\": \"No\", \"day\": \"Sun\", \"time\": \"Dinner\", \"size\": 4}, {\"total_bill\": 28.55, \"tip\": 2.05, \"sex\": \"Male\", \"smoker\": \"No\", \"day\": \"Sun\", \"time\": \"Dinner\", \"size\": 3}, {\"total_bill\": 18.04, \"tip\": 3.0, \"sex\": \"Male\", \"smoker\": \"No\", \"day\": \"Sun\", \"time\": \"Dinner\", \"size\": 2}, {\"total_bill\": 12.54, \"tip\": 2.5, \"sex\": \"Male\", \"smoker\": \"No\", \"day\": \"Sun\", \"time\": \"Dinner\", \"size\": 2}, {\"total_bill\": 10.29, \"tip\": 2.6, \"sex\": \"Female\", \"smoker\": \"No\", \"day\": \"Sun\", \"time\": \"Dinner\", \"size\": 2}, {\"total_bill\": 34.81, \"tip\": 5.2, \"sex\": \"Female\", \"smoker\": \"No\", \"day\": \"Sun\", \"time\": \"Dinner\", \"size\": 4}, {\"total_bill\": 9.94, \"tip\": 1.56, \"sex\": \"Male\", \"smoker\": \"No\", \"day\": \"Sun\", \"time\": \"Dinner\", \"size\": 2}, {\"total_bill\": 25.56, \"tip\": 4.34, \"sex\": \"Male\", \"smoker\": \"No\", \"day\": \"Sun\", \"time\": \"Dinner\", \"size\": 4}, {\"total_bill\": 19.49, \"tip\": 3.51, \"sex\": \"Male\", \"smoker\": \"No\", \"day\": \"Sun\", \"time\": \"Dinner\", \"size\": 2}, {\"total_bill\": 38.01, \"tip\": 3.0, \"sex\": \"Male\", \"smoker\": \"Yes\", \"day\": \"Sat\", \"time\": \"Dinner\", \"size\": 4}, {\"total_bill\": 26.41, \"tip\": 1.5, \"sex\": \"Female\", \"smoker\": \"No\", \"day\": \"Sat\", \"time\": \"Dinner\", \"size\": 2}, {\"total_bill\": 11.24, \"tip\": 1.76, \"sex\": \"Male\", \"smoker\": \"Yes\", \"day\": \"Sat\", \"time\": \"Dinner\", \"size\": 2}, {\"total_bill\": 48.27, \"tip\": 6.73, \"sex\": \"Male\", \"smoker\": \"No\", \"day\": \"Sat\", \"time\": \"Dinner\", \"size\": 4}, {\"total_bill\": 20.29, \"tip\": 3.21, \"sex\": \"Male\", \"smoker\": \"Yes\", \"day\": \"Sat\", \"time\": \"Dinner\", \"size\": 2}, {\"total_bill\": 13.81, \"tip\": 2.0, \"sex\": \"Male\", \"smoker\": \"Yes\", \"day\": \"Sat\", \"time\": \"Dinner\", \"size\": 2}, {\"total_bill\": 11.02, \"tip\": 1.98, \"sex\": \"Male\", \"smoker\": \"Yes\", \"day\": \"Sat\", \"time\": \"Dinner\", \"size\": 2}, {\"total_bill\": 18.29, \"tip\": 3.76, \"sex\": \"Male\", \"smoker\": \"Yes\", \"day\": \"Sat\", \"time\": \"Dinner\", \"size\": 4}, {\"total_bill\": 17.59, \"tip\": 2.64, \"sex\": \"Male\", \"smoker\": \"No\", \"day\": \"Sat\", \"time\": \"Dinner\", \"size\": 3}, {\"total_bill\": 20.08, \"tip\": 3.15, \"sex\": \"Male\", \"smoker\": \"No\", \"day\": \"Sat\", \"time\": \"Dinner\", \"size\": 3}, {\"total_bill\": 16.45, \"tip\": 2.47, \"sex\": \"Female\", \"smoker\": \"No\", \"day\": \"Sat\", \"time\": \"Dinner\", \"size\": 2}, {\"total_bill\": 3.07, \"tip\": 1.0, \"sex\": \"Female\", \"smoker\": \"Yes\", \"day\": \"Sat\", \"time\": \"Dinner\", \"size\": 1}, {\"total_bill\": 20.23, \"tip\": 2.01, \"sex\": \"Male\", \"smoker\": \"No\", \"day\": \"Sat\", \"time\": \"Dinner\", \"size\": 2}, {\"total_bill\": 15.01, \"tip\": 2.09, \"sex\": \"Male\", \"smoker\": \"Yes\", \"day\": \"Sat\", \"time\": \"Dinner\", \"size\": 2}, {\"total_bill\": 12.02, \"tip\": 1.97, \"sex\": \"Male\", \"smoker\": \"No\", \"day\": \"Sat\", \"time\": \"Dinner\", \"size\": 2}, {\"total_bill\": 17.07, \"tip\": 3.0, \"sex\": \"Female\", \"smoker\": \"No\", \"day\": \"Sat\", \"time\": \"Dinner\", \"size\": 3}, {\"total_bill\": 26.86, \"tip\": 3.14, \"sex\": \"Female\", \"smoker\": \"Yes\", \"day\": \"Sat\", \"time\": \"Dinner\", \"size\": 2}, {\"total_bill\": 25.28, \"tip\": 5.0, \"sex\": \"Female\", \"smoker\": \"Yes\", \"day\": \"Sat\", \"time\": \"Dinner\", \"size\": 2}, {\"total_bill\": 14.73, \"tip\": 2.2, \"sex\": \"Female\", \"smoker\": \"No\", \"day\": \"Sat\", \"time\": \"Dinner\", \"size\": 2}, {\"total_bill\": 10.51, \"tip\": 1.25, \"sex\": \"Male\", \"smoker\": \"No\", \"day\": \"Sat\", \"time\": \"Dinner\", \"size\": 2}, {\"total_bill\": 17.92, \"tip\": 3.08, \"sex\": \"Male\", \"smoker\": \"Yes\", \"day\": \"Sat\", \"time\": \"Dinner\", \"size\": 2}, {\"total_bill\": 27.2, \"tip\": 4.0, \"sex\": \"Male\", \"smoker\": \"No\", \"day\": \"Thur\", \"time\": \"Lunch\", \"size\": 4}, {\"total_bill\": 22.76, \"tip\": 3.0, \"sex\": \"Male\", \"smoker\": \"No\", \"day\": \"Thur\", \"time\": \"Lunch\", \"size\": 2}, {\"total_bill\": 17.29, \"tip\": 2.71, \"sex\": \"Male\", \"smoker\": \"No\", \"day\": \"Thur\", \"time\": \"Lunch\", \"size\": 2}, {\"total_bill\": 19.44, \"tip\": 3.0, \"sex\": \"Male\", \"smoker\": \"Yes\", \"day\": \"Thur\", \"time\": \"Lunch\", \"size\": 2}, {\"total_bill\": 16.66, \"tip\": 3.4, \"sex\": \"Male\", \"smoker\": \"No\", \"day\": \"Thur\", \"time\": \"Lunch\", \"size\": 2}, {\"total_bill\": 10.07, \"tip\": 1.83, \"sex\": \"Female\", \"smoker\": \"No\", \"day\": \"Thur\", \"time\": \"Lunch\", \"size\": 1}, {\"total_bill\": 32.68, \"tip\": 5.0, \"sex\": \"Male\", \"smoker\": \"Yes\", \"day\": \"Thur\", \"time\": \"Lunch\", \"size\": 2}, {\"total_bill\": 15.98, \"tip\": 2.03, \"sex\": \"Male\", \"smoker\": \"No\", \"day\": \"Thur\", \"time\": \"Lunch\", \"size\": 2}, {\"total_bill\": 34.83, \"tip\": 5.17, \"sex\": \"Female\", \"smoker\": \"No\", \"day\": \"Thur\", \"time\": \"Lunch\", \"size\": 4}, {\"total_bill\": 13.03, \"tip\": 2.0, \"sex\": \"Male\", \"smoker\": \"No\", \"day\": \"Thur\", \"time\": \"Lunch\", \"size\": 2}, {\"total_bill\": 18.28, \"tip\": 4.0, \"sex\": \"Male\", \"smoker\": \"No\", \"day\": \"Thur\", \"time\": \"Lunch\", \"size\": 2}, {\"total_bill\": 24.71, \"tip\": 5.85, \"sex\": \"Male\", \"smoker\": \"No\", \"day\": \"Thur\", \"time\": \"Lunch\", \"size\": 2}, {\"total_bill\": 21.16, \"tip\": 3.0, \"sex\": \"Male\", \"smoker\": \"No\", \"day\": \"Thur\", \"time\": \"Lunch\", \"size\": 2}, {\"total_bill\": 28.97, \"tip\": 3.0, \"sex\": \"Male\", \"smoker\": \"Yes\", \"day\": \"Fri\", \"time\": \"Dinner\", \"size\": 2}, {\"total_bill\": 22.49, \"tip\": 3.5, \"sex\": \"Male\", \"smoker\": \"No\", \"day\": \"Fri\", \"time\": \"Dinner\", \"size\": 2}, {\"total_bill\": 5.75, \"tip\": 1.0, \"sex\": \"Female\", \"smoker\": \"Yes\", \"day\": \"Fri\", \"time\": \"Dinner\", \"size\": 2}, {\"total_bill\": 16.32, \"tip\": 4.3, \"sex\": \"Female\", \"smoker\": \"Yes\", \"day\": \"Fri\", \"time\": \"Dinner\", \"size\": 2}, {\"total_bill\": 22.75, \"tip\": 3.25, \"sex\": \"Female\", \"smoker\": \"No\", \"day\": \"Fri\", \"time\": \"Dinner\", \"size\": 2}, {\"total_bill\": 40.17, \"tip\": 4.73, \"sex\": \"Male\", \"smoker\": \"Yes\", \"day\": \"Fri\", \"time\": \"Dinner\", \"size\": 4}, {\"total_bill\": 27.28, \"tip\": 4.0, \"sex\": \"Male\", \"smoker\": \"Yes\", \"day\": \"Fri\", \"time\": \"Dinner\", \"size\": 2}, {\"total_bill\": 12.03, \"tip\": 1.5, \"sex\": \"Male\", \"smoker\": \"Yes\", \"day\": \"Fri\", \"time\": \"Dinner\", \"size\": 2}, {\"total_bill\": 21.01, \"tip\": 3.0, \"sex\": \"Male\", \"smoker\": \"Yes\", \"day\": \"Fri\", \"time\": \"Dinner\", \"size\": 2}, {\"total_bill\": 12.46, \"tip\": 1.5, \"sex\": \"Male\", \"smoker\": \"No\", \"day\": \"Fri\", \"time\": \"Dinner\", \"size\": 2}, {\"total_bill\": 11.35, \"tip\": 2.5, \"sex\": \"Female\", \"smoker\": \"Yes\", \"day\": \"Fri\", \"time\": \"Dinner\", \"size\": 2}, {\"total_bill\": 15.38, \"tip\": 3.0, \"sex\": \"Female\", \"smoker\": \"Yes\", \"day\": \"Fri\", \"time\": \"Dinner\", \"size\": 2}, {\"total_bill\": 44.3, \"tip\": 2.5, \"sex\": \"Female\", \"smoker\": \"Yes\", \"day\": \"Sat\", \"time\": \"Dinner\", \"size\": 3}, {\"total_bill\": 22.42, \"tip\": 3.48, \"sex\": \"Female\", \"smoker\": \"Yes\", \"day\": \"Sat\", \"time\": \"Dinner\", \"size\": 2}, {\"total_bill\": 20.92, \"tip\": 4.08, \"sex\": \"Female\", \"smoker\": \"No\", \"day\": \"Sat\", \"time\": \"Dinner\", \"size\": 2}, {\"total_bill\": 15.36, \"tip\": 1.64, \"sex\": \"Male\", \"smoker\": \"Yes\", \"day\": \"Sat\", \"time\": \"Dinner\", \"size\": 2}, {\"total_bill\": 20.49, \"tip\": 4.06, \"sex\": \"Male\", \"smoker\": \"Yes\", \"day\": \"Sat\", \"time\": \"Dinner\", \"size\": 2}, {\"total_bill\": 25.21, \"tip\": 4.29, \"sex\": \"Male\", \"smoker\": \"Yes\", \"day\": \"Sat\", \"time\": \"Dinner\", \"size\": 2}, {\"total_bill\": 18.24, \"tip\": 3.76, \"sex\": \"Male\", \"smoker\": \"No\", \"day\": \"Sat\", \"time\": \"Dinner\", \"size\": 2}, {\"total_bill\": 14.31, \"tip\": 4.0, \"sex\": \"Female\", \"smoker\": \"Yes\", \"day\": \"Sat\", \"time\": \"Dinner\", \"size\": 2}, {\"total_bill\": 14.0, \"tip\": 3.0, \"sex\": \"Male\", \"smoker\": \"No\", \"day\": \"Sat\", \"time\": \"Dinner\", \"size\": 2}, {\"total_bill\": 7.25, \"tip\": 1.0, \"sex\": \"Female\", \"smoker\": \"No\", \"day\": \"Sat\", \"time\": \"Dinner\", \"size\": 1}, {\"total_bill\": 38.07, \"tip\": 4.0, \"sex\": \"Male\", \"smoker\": \"No\", \"day\": \"Sun\", \"time\": \"Dinner\", \"size\": 3}, {\"total_bill\": 23.95, \"tip\": 2.55, \"sex\": \"Male\", \"smoker\": \"No\", \"day\": \"Sun\", \"time\": \"Dinner\", \"size\": 2}, {\"total_bill\": 25.71, \"tip\": 4.0, \"sex\": \"Female\", \"smoker\": \"No\", \"day\": \"Sun\", \"time\": \"Dinner\", \"size\": 3}, {\"total_bill\": 17.31, \"tip\": 3.5, \"sex\": \"Female\", \"smoker\": \"No\", \"day\": \"Sun\", \"time\": \"Dinner\", \"size\": 2}, {\"total_bill\": 29.93, \"tip\": 5.07, \"sex\": \"Male\", \"smoker\": \"No\", \"day\": \"Sun\", \"time\": \"Dinner\", \"size\": 4}, {\"total_bill\": 10.65, \"tip\": 1.5, \"sex\": \"Female\", \"smoker\": \"No\", \"day\": \"Thur\", \"time\": \"Lunch\", \"size\": 2}, {\"total_bill\": 12.43, \"tip\": 1.8, \"sex\": \"Female\", \"smoker\": \"No\", \"day\": \"Thur\", \"time\": \"Lunch\", \"size\": 2}, {\"total_bill\": 24.08, \"tip\": 2.92, \"sex\": \"Female\", \"smoker\": \"No\", \"day\": \"Thur\", \"time\": \"Lunch\", \"size\": 4}, {\"total_bill\": 11.69, \"tip\": 2.31, \"sex\": \"Male\", \"smoker\": \"No\", \"day\": \"Thur\", \"time\": \"Lunch\", \"size\": 2}, {\"total_bill\": 13.42, \"tip\": 1.68, \"sex\": \"Female\", \"smoker\": \"No\", \"day\": \"Thur\", \"time\": \"Lunch\", \"size\": 2}, {\"total_bill\": 14.26, \"tip\": 2.5, \"sex\": \"Male\", \"smoker\": \"No\", \"day\": \"Thur\", \"time\": \"Lunch\", \"size\": 2}, {\"total_bill\": 15.95, \"tip\": 2.0, \"sex\": \"Male\", \"smoker\": \"No\", \"day\": \"Thur\", \"time\": \"Lunch\", \"size\": 2}, {\"total_bill\": 12.48, \"tip\": 2.52, \"sex\": \"Female\", \"smoker\": \"No\", \"day\": \"Thur\", \"time\": \"Lunch\", \"size\": 2}, {\"total_bill\": 29.8, \"tip\": 4.2, \"sex\": \"Female\", \"smoker\": \"No\", \"day\": \"Thur\", \"time\": \"Lunch\", \"size\": 6}, {\"total_bill\": 8.52, \"tip\": 1.48, \"sex\": \"Male\", \"smoker\": \"No\", \"day\": \"Thur\", \"time\": \"Lunch\", \"size\": 2}, {\"total_bill\": 14.52, \"tip\": 2.0, \"sex\": \"Female\", \"smoker\": \"No\", \"day\": \"Thur\", \"time\": \"Lunch\", \"size\": 2}, {\"total_bill\": 11.38, \"tip\": 2.0, \"sex\": \"Female\", \"smoker\": \"No\", \"day\": \"Thur\", \"time\": \"Lunch\", \"size\": 2}, {\"total_bill\": 22.82, \"tip\": 2.18, \"sex\": \"Male\", \"smoker\": \"No\", \"day\": \"Thur\", \"time\": \"Lunch\", \"size\": 3}, {\"total_bill\": 19.08, \"tip\": 1.5, \"sex\": \"Male\", \"smoker\": \"No\", \"day\": \"Thur\", \"time\": \"Lunch\", \"size\": 2}, {\"total_bill\": 20.27, \"tip\": 2.83, \"sex\": \"Female\", \"smoker\": \"No\", \"day\": \"Thur\", \"time\": \"Lunch\", \"size\": 2}, {\"total_bill\": 11.17, \"tip\": 1.5, \"sex\": \"Female\", \"smoker\": \"No\", \"day\": \"Thur\", \"time\": \"Lunch\", \"size\": 2}, {\"total_bill\": 12.26, \"tip\": 2.0, \"sex\": \"Female\", \"smoker\": \"No\", \"day\": \"Thur\", \"time\": \"Lunch\", \"size\": 2}, {\"total_bill\": 18.26, \"tip\": 3.25, \"sex\": \"Female\", \"smoker\": \"No\", \"day\": \"Thur\", \"time\": \"Lunch\", \"size\": 2}, {\"total_bill\": 8.51, \"tip\": 1.25, \"sex\": \"Female\", \"smoker\": \"No\", \"day\": \"Thur\", \"time\": \"Lunch\", \"size\": 2}, {\"total_bill\": 10.33, \"tip\": 2.0, \"sex\": \"Female\", \"smoker\": \"No\", \"day\": \"Thur\", \"time\": \"Lunch\", \"size\": 2}, {\"total_bill\": 14.15, \"tip\": 2.0, \"sex\": \"Female\", \"smoker\": \"No\", \"day\": \"Thur\", \"time\": \"Lunch\", \"size\": 2}, {\"total_bill\": 16.0, \"tip\": 2.0, \"sex\": \"Male\", \"smoker\": \"Yes\", \"day\": \"Thur\", \"time\": \"Lunch\", \"size\": 2}, {\"total_bill\": 13.16, \"tip\": 2.75, \"sex\": \"Female\", \"smoker\": \"No\", \"day\": \"Thur\", \"time\": \"Lunch\", \"size\": 2}, {\"total_bill\": 17.47, \"tip\": 3.5, \"sex\": \"Female\", \"smoker\": \"No\", \"day\": \"Thur\", \"time\": \"Lunch\", \"size\": 2}, {\"total_bill\": 34.3, \"tip\": 6.7, \"sex\": \"Male\", \"smoker\": \"No\", \"day\": \"Thur\", \"time\": \"Lunch\", \"size\": 6}, {\"total_bill\": 41.19, \"tip\": 5.0, \"sex\": \"Male\", \"smoker\": \"No\", \"day\": \"Thur\", \"time\": \"Lunch\", \"size\": 5}, {\"total_bill\": 27.05, \"tip\": 5.0, \"sex\": \"Female\", \"smoker\": \"No\", \"day\": \"Thur\", \"time\": \"Lunch\", \"size\": 6}, {\"total_bill\": 16.43, \"tip\": 2.3, \"sex\": \"Female\", \"smoker\": \"No\", \"day\": \"Thur\", \"time\": \"Lunch\", \"size\": 2}, {\"total_bill\": 8.35, \"tip\": 1.5, \"sex\": \"Female\", \"smoker\": \"No\", \"day\": \"Thur\", \"time\": \"Lunch\", \"size\": 2}, {\"total_bill\": 18.64, \"tip\": 1.36, \"sex\": \"Female\", \"smoker\": \"No\", \"day\": \"Thur\", \"time\": \"Lunch\", \"size\": 3}, {\"total_bill\": 11.87, \"tip\": 1.63, \"sex\": \"Female\", \"smoker\": \"No\", \"day\": \"Thur\", \"time\": \"Lunch\", \"size\": 2}, {\"total_bill\": 9.78, \"tip\": 1.73, \"sex\": \"Male\", \"smoker\": \"No\", \"day\": \"Thur\", \"time\": \"Lunch\", \"size\": 2}, {\"total_bill\": 7.51, \"tip\": 2.0, \"sex\": \"Male\", \"smoker\": \"No\", \"day\": \"Thur\", \"time\": \"Lunch\", \"size\": 2}, {\"total_bill\": 14.07, \"tip\": 2.5, \"sex\": \"Male\", \"smoker\": \"No\", \"day\": \"Sun\", \"time\": \"Dinner\", \"size\": 2}, {\"total_bill\": 13.13, \"tip\": 2.0, \"sex\": \"Male\", \"smoker\": \"No\", \"day\": \"Sun\", \"time\": \"Dinner\", \"size\": 2}, {\"total_bill\": 17.26, \"tip\": 2.74, \"sex\": \"Male\", \"smoker\": \"No\", \"day\": \"Sun\", \"time\": \"Dinner\", \"size\": 3}, {\"total_bill\": 24.55, \"tip\": 2.0, \"sex\": \"Male\", \"smoker\": \"No\", \"day\": \"Sun\", \"time\": \"Dinner\", \"size\": 4}, {\"total_bill\": 19.77, \"tip\": 2.0, \"sex\": \"Male\", \"smoker\": \"No\", \"day\": \"Sun\", \"time\": \"Dinner\", \"size\": 4}, {\"total_bill\": 29.85, \"tip\": 5.14, \"sex\": \"Female\", \"smoker\": \"No\", \"day\": \"Sun\", \"time\": \"Dinner\", \"size\": 5}, {\"total_bill\": 48.17, \"tip\": 5.0, \"sex\": \"Male\", \"smoker\": \"No\", \"day\": \"Sun\", \"time\": \"Dinner\", \"size\": 6}, {\"total_bill\": 25.0, \"tip\": 3.75, \"sex\": \"Female\", \"smoker\": \"No\", \"day\": \"Sun\", \"time\": \"Dinner\", \"size\": 4}, {\"total_bill\": 13.39, \"tip\": 2.61, \"sex\": \"Female\", \"smoker\": \"No\", \"day\": \"Sun\", \"time\": \"Dinner\", \"size\": 2}, {\"total_bill\": 16.49, \"tip\": 2.0, \"sex\": \"Male\", \"smoker\": \"No\", \"day\": \"Sun\", \"time\": \"Dinner\", \"size\": 4}, {\"total_bill\": 21.5, \"tip\": 3.5, \"sex\": \"Male\", \"smoker\": \"No\", \"day\": \"Sun\", \"time\": \"Dinner\", \"size\": 4}, {\"total_bill\": 12.66, \"tip\": 2.5, \"sex\": \"Male\", \"smoker\": \"No\", \"day\": \"Sun\", \"time\": \"Dinner\", \"size\": 2}, {\"total_bill\": 16.21, \"tip\": 2.0, \"sex\": \"Female\", \"smoker\": \"No\", \"day\": \"Sun\", \"time\": \"Dinner\", \"size\": 3}, {\"total_bill\": 13.81, \"tip\": 2.0, \"sex\": \"Male\", \"smoker\": \"No\", \"day\": \"Sun\", \"time\": \"Dinner\", \"size\": 2}, {\"total_bill\": 17.51, \"tip\": 3.0, \"sex\": \"Female\", \"smoker\": \"Yes\", \"day\": \"Sun\", \"time\": \"Dinner\", \"size\": 2}, {\"total_bill\": 24.52, \"tip\": 3.48, \"sex\": \"Male\", \"smoker\": \"No\", \"day\": \"Sun\", \"time\": \"Dinner\", \"size\": 3}, {\"total_bill\": 20.76, \"tip\": 2.24, \"sex\": \"Male\", \"smoker\": \"No\", \"day\": \"Sun\", \"time\": \"Dinner\", \"size\": 2}, {\"total_bill\": 31.71, \"tip\": 4.5, \"sex\": \"Male\", \"smoker\": \"No\", \"day\": \"Sun\", \"time\": \"Dinner\", \"size\": 4}, {\"total_bill\": 10.59, \"tip\": 1.61, \"sex\": \"Female\", \"smoker\": \"Yes\", \"day\": \"Sat\", \"time\": \"Dinner\", \"size\": 2}, {\"total_bill\": 10.63, \"tip\": 2.0, \"sex\": \"Female\", \"smoker\": \"Yes\", \"day\": \"Sat\", \"time\": \"Dinner\", \"size\": 2}, {\"total_bill\": 50.81, \"tip\": 10.0, \"sex\": \"Male\", \"smoker\": \"Yes\", \"day\": \"Sat\", \"time\": \"Dinner\", \"size\": 3}, {\"total_bill\": 15.81, \"tip\": 3.16, \"sex\": \"Male\", \"smoker\": \"Yes\", \"day\": \"Sat\", \"time\": \"Dinner\", \"size\": 2}, {\"total_bill\": 7.25, \"tip\": 5.15, \"sex\": \"Male\", \"smoker\": \"Yes\", \"day\": \"Sun\", \"time\": \"Dinner\", \"size\": 2}, {\"total_bill\": 31.85, \"tip\": 3.18, \"sex\": \"Male\", \"smoker\": \"Yes\", \"day\": \"Sun\", \"time\": \"Dinner\", \"size\": 2}, {\"total_bill\": 16.82, \"tip\": 4.0, \"sex\": \"Male\", \"smoker\": \"Yes\", \"day\": \"Sun\", \"time\": \"Dinner\", \"size\": 2}, {\"total_bill\": 32.9, \"tip\": 3.11, \"sex\": \"Male\", \"smoker\": \"Yes\", \"day\": \"Sun\", \"time\": \"Dinner\", \"size\": 2}, {\"total_bill\": 17.89, \"tip\": 2.0, \"sex\": \"Male\", \"smoker\": \"Yes\", \"day\": \"Sun\", \"time\": \"Dinner\", \"size\": 2}, {\"total_bill\": 14.48, \"tip\": 2.0, \"sex\": \"Male\", \"smoker\": \"Yes\", \"day\": \"Sun\", \"time\": \"Dinner\", \"size\": 2}, {\"total_bill\": 9.6, \"tip\": 4.0, \"sex\": \"Female\", \"smoker\": \"Yes\", \"day\": \"Sun\", \"time\": \"Dinner\", \"size\": 2}, {\"total_bill\": 34.63, \"tip\": 3.55, \"sex\": \"Male\", \"smoker\": \"Yes\", \"day\": \"Sun\", \"time\": \"Dinner\", \"size\": 2}, {\"total_bill\": 34.65, \"tip\": 3.68, \"sex\": \"Male\", \"smoker\": \"Yes\", \"day\": \"Sun\", \"time\": \"Dinner\", \"size\": 4}, {\"total_bill\": 23.33, \"tip\": 5.65, \"sex\": \"Male\", \"smoker\": \"Yes\", \"day\": \"Sun\", \"time\": \"Dinner\", \"size\": 2}, {\"total_bill\": 45.35, \"tip\": 3.5, \"sex\": \"Male\", \"smoker\": \"Yes\", \"day\": \"Sun\", \"time\": \"Dinner\", \"size\": 3}, {\"total_bill\": 23.17, \"tip\": 6.5, \"sex\": \"Male\", \"smoker\": \"Yes\", \"day\": \"Sun\", \"time\": \"Dinner\", \"size\": 4}, {\"total_bill\": 40.55, \"tip\": 3.0, \"sex\": \"Male\", \"smoker\": \"Yes\", \"day\": \"Sun\", \"time\": \"Dinner\", \"size\": 2}, {\"total_bill\": 20.69, \"tip\": 5.0, \"sex\": \"Male\", \"smoker\": \"No\", \"day\": \"Sun\", \"time\": \"Dinner\", \"size\": 5}, {\"total_bill\": 20.9, \"tip\": 3.5, \"sex\": \"Female\", \"smoker\": \"Yes\", \"day\": \"Sun\", \"time\": \"Dinner\", \"size\": 3}, {\"total_bill\": 30.46, \"tip\": 2.0, \"sex\": \"Male\", \"smoker\": \"Yes\", \"day\": \"Sun\", \"time\": \"Dinner\", \"size\": 5}, {\"total_bill\": 18.15, \"tip\": 3.5, \"sex\": \"Female\", \"smoker\": \"Yes\", \"day\": \"Sun\", \"time\": \"Dinner\", \"size\": 3}, {\"total_bill\": 23.1, \"tip\": 4.0, \"sex\": \"Male\", \"smoker\": \"Yes\", \"day\": \"Sun\", \"time\": \"Dinner\", \"size\": 3}, {\"total_bill\": 15.69, \"tip\": 1.5, \"sex\": \"Male\", \"smoker\": \"Yes\", \"day\": \"Sun\", \"time\": \"Dinner\", \"size\": 2}, {\"total_bill\": 19.81, \"tip\": 4.19, \"sex\": \"Female\", \"smoker\": \"Yes\", \"day\": \"Thur\", \"time\": \"Lunch\", \"size\": 2}, {\"total_bill\": 28.44, \"tip\": 2.56, \"sex\": \"Male\", \"smoker\": \"Yes\", \"day\": \"Thur\", \"time\": \"Lunch\", \"size\": 2}, {\"total_bill\": 15.48, \"tip\": 2.02, \"sex\": \"Male\", \"smoker\": \"Yes\", \"day\": \"Thur\", \"time\": \"Lunch\", \"size\": 2}, {\"total_bill\": 16.58, \"tip\": 4.0, \"sex\": \"Male\", \"smoker\": \"Yes\", \"day\": \"Thur\", \"time\": \"Lunch\", \"size\": 2}, {\"total_bill\": 7.56, \"tip\": 1.44, \"sex\": \"Male\", \"smoker\": \"No\", \"day\": \"Thur\", \"time\": \"Lunch\", \"size\": 2}, {\"total_bill\": 10.34, \"tip\": 2.0, \"sex\": \"Male\", \"smoker\": \"Yes\", \"day\": \"Thur\", \"time\": \"Lunch\", \"size\": 2}, {\"total_bill\": 43.11, \"tip\": 5.0, \"sex\": \"Female\", \"smoker\": \"Yes\", \"day\": \"Thur\", \"time\": \"Lunch\", \"size\": 4}, {\"total_bill\": 13.0, \"tip\": 2.0, \"sex\": \"Female\", \"smoker\": \"Yes\", \"day\": \"Thur\", \"time\": \"Lunch\", \"size\": 2}, {\"total_bill\": 13.51, \"tip\": 2.0, \"sex\": \"Male\", \"smoker\": \"Yes\", \"day\": \"Thur\", \"time\": \"Lunch\", \"size\": 2}, {\"total_bill\": 18.71, \"tip\": 4.0, \"sex\": \"Male\", \"smoker\": \"Yes\", \"day\": \"Thur\", \"time\": \"Lunch\", \"size\": 3}, {\"total_bill\": 12.74, \"tip\": 2.01, \"sex\": \"Female\", \"smoker\": \"Yes\", \"day\": \"Thur\", \"time\": \"Lunch\", \"size\": 2}, {\"total_bill\": 13.0, \"tip\": 2.0, \"sex\": \"Female\", \"smoker\": \"Yes\", \"day\": \"Thur\", \"time\": \"Lunch\", \"size\": 2}, {\"total_bill\": 16.4, \"tip\": 2.5, \"sex\": \"Female\", \"smoker\": \"Yes\", \"day\": \"Thur\", \"time\": \"Lunch\", \"size\": 2}, {\"total_bill\": 20.53, \"tip\": 4.0, \"sex\": \"Male\", \"smoker\": \"Yes\", \"day\": \"Thur\", \"time\": \"Lunch\", \"size\": 4}, {\"total_bill\": 16.47, \"tip\": 3.23, \"sex\": \"Female\", \"smoker\": \"Yes\", \"day\": \"Thur\", \"time\": \"Lunch\", \"size\": 3}, {\"total_bill\": 26.59, \"tip\": 3.41, \"sex\": \"Male\", \"smoker\": \"Yes\", \"day\": \"Sat\", \"time\": \"Dinner\", \"size\": 3}, {\"total_bill\": 38.73, \"tip\": 3.0, \"sex\": \"Male\", \"smoker\": \"Yes\", \"day\": \"Sat\", \"time\": \"Dinner\", \"size\": 4}, {\"total_bill\": 24.27, \"tip\": 2.03, \"sex\": \"Male\", \"smoker\": \"Yes\", \"day\": \"Sat\", \"time\": \"Dinner\", \"size\": 2}, {\"total_bill\": 12.76, \"tip\": 2.23, \"sex\": \"Female\", \"smoker\": \"Yes\", \"day\": \"Sat\", \"time\": \"Dinner\", \"size\": 2}, {\"total_bill\": 30.06, \"tip\": 2.0, \"sex\": \"Male\", \"smoker\": \"Yes\", \"day\": \"Sat\", \"time\": \"Dinner\", \"size\": 3}, {\"total_bill\": 25.89, \"tip\": 5.16, \"sex\": \"Male\", \"smoker\": \"Yes\", \"day\": \"Sat\", \"time\": \"Dinner\", \"size\": 4}, {\"total_bill\": 48.33, \"tip\": 9.0, \"sex\": \"Male\", \"smoker\": \"No\", \"day\": \"Sat\", \"time\": \"Dinner\", \"size\": 4}, {\"total_bill\": 13.27, \"tip\": 2.5, \"sex\": \"Female\", \"smoker\": \"Yes\", \"day\": \"Sat\", \"time\": \"Dinner\", \"size\": 2}, {\"total_bill\": 28.17, \"tip\": 6.5, \"sex\": \"Female\", \"smoker\": \"Yes\", \"day\": \"Sat\", \"time\": \"Dinner\", \"size\": 3}, {\"total_bill\": 12.9, \"tip\": 1.1, \"sex\": \"Female\", \"smoker\": \"Yes\", \"day\": \"Sat\", \"time\": \"Dinner\", \"size\": 2}, {\"total_bill\": 28.15, \"tip\": 3.0, \"sex\": \"Male\", \"smoker\": \"Yes\", \"day\": \"Sat\", \"time\": \"Dinner\", \"size\": 5}, {\"total_bill\": 11.59, \"tip\": 1.5, \"sex\": \"Male\", \"smoker\": \"Yes\", \"day\": \"Sat\", \"time\": \"Dinner\", \"size\": 2}, {\"total_bill\": 7.74, \"tip\": 1.44, \"sex\": \"Male\", \"smoker\": \"Yes\", \"day\": \"Sat\", \"time\": \"Dinner\", \"size\": 2}, {\"total_bill\": 30.14, \"tip\": 3.09, \"sex\": \"Female\", \"smoker\": \"Yes\", \"day\": \"Sat\", \"time\": \"Dinner\", \"size\": 4}, {\"total_bill\": 12.16, \"tip\": 2.2, \"sex\": \"Male\", \"smoker\": \"Yes\", \"day\": \"Fri\", \"time\": \"Lunch\", \"size\": 2}, {\"total_bill\": 13.42, \"tip\": 3.48, \"sex\": \"Female\", \"smoker\": \"Yes\", \"day\": \"Fri\", \"time\": \"Lunch\", \"size\": 2}, {\"total_bill\": 8.58, \"tip\": 1.92, \"sex\": \"Male\", \"smoker\": \"Yes\", \"day\": \"Fri\", \"time\": \"Lunch\", \"size\": 1}, {\"total_bill\": 15.98, \"tip\": 3.0, \"sex\": \"Female\", \"smoker\": \"No\", \"day\": \"Fri\", \"time\": \"Lunch\", \"size\": 3}, {\"total_bill\": 13.42, \"tip\": 1.58, \"sex\": \"Male\", \"smoker\": \"Yes\", \"day\": \"Fri\", \"time\": \"Lunch\", \"size\": 2}, {\"total_bill\": 16.27, \"tip\": 2.5, \"sex\": \"Female\", \"smoker\": \"Yes\", \"day\": \"Fri\", \"time\": \"Lunch\", \"size\": 2}, {\"total_bill\": 10.09, \"tip\": 2.0, \"sex\": \"Female\", \"smoker\": \"Yes\", \"day\": \"Fri\", \"time\": \"Lunch\", \"size\": 2}, {\"total_bill\": 20.45, \"tip\": 3.0, \"sex\": \"Male\", \"smoker\": \"No\", \"day\": \"Sat\", \"time\": \"Dinner\", \"size\": 4}, {\"total_bill\": 13.28, \"tip\": 2.72, \"sex\": \"Male\", \"smoker\": \"No\", \"day\": \"Sat\", \"time\": \"Dinner\", \"size\": 2}, {\"total_bill\": 22.12, \"tip\": 2.88, \"sex\": \"Female\", \"smoker\": \"Yes\", \"day\": \"Sat\", \"time\": \"Dinner\", \"size\": 2}, {\"total_bill\": 24.01, \"tip\": 2.0, \"sex\": \"Male\", \"smoker\": \"Yes\", \"day\": \"Sat\", \"time\": \"Dinner\", \"size\": 4}, {\"total_bill\": 15.69, \"tip\": 3.0, \"sex\": \"Male\", \"smoker\": \"Yes\", \"day\": \"Sat\", \"time\": \"Dinner\", \"size\": 3}, {\"total_bill\": 11.61, \"tip\": 3.39, \"sex\": \"Male\", \"smoker\": \"No\", \"day\": \"Sat\", \"time\": \"Dinner\", \"size\": 2}, {\"total_bill\": 10.77, \"tip\": 1.47, \"sex\": \"Male\", \"smoker\": \"No\", \"day\": \"Sat\", \"time\": \"Dinner\", \"size\": 2}, {\"total_bill\": 15.53, \"tip\": 3.0, \"sex\": \"Male\", \"smoker\": \"Yes\", \"day\": \"Sat\", \"time\": \"Dinner\", \"size\": 2}, {\"total_bill\": 10.07, \"tip\": 1.25, \"sex\": \"Male\", \"smoker\": \"No\", \"day\": \"Sat\", \"time\": \"Dinner\", \"size\": 2}, {\"total_bill\": 12.6, \"tip\": 1.0, \"sex\": \"Male\", \"smoker\": \"Yes\", \"day\": \"Sat\", \"time\": \"Dinner\", \"size\": 2}, {\"total_bill\": 32.83, \"tip\": 1.17, \"sex\": \"Male\", \"smoker\": \"Yes\", \"day\": \"Sat\", \"time\": \"Dinner\", \"size\": 2}, {\"total_bill\": 35.83, \"tip\": 4.67, \"sex\": \"Female\", \"smoker\": \"No\", \"day\": \"Sat\", \"time\": \"Dinner\", \"size\": 3}, {\"total_bill\": 29.03, \"tip\": 5.92, \"sex\": \"Male\", \"smoker\": \"No\", \"day\": \"Sat\", \"time\": \"Dinner\", \"size\": 3}, {\"total_bill\": 27.18, \"tip\": 2.0, \"sex\": \"Female\", \"smoker\": \"Yes\", \"day\": \"Sat\", \"time\": \"Dinner\", \"size\": 2}, {\"total_bill\": 22.67, \"tip\": 2.0, \"sex\": \"Male\", \"smoker\": \"Yes\", \"day\": \"Sat\", \"time\": \"Dinner\", \"size\": 2}, {\"total_bill\": 17.82, \"tip\": 1.75, \"sex\": \"Male\", \"smoker\": \"No\", \"day\": \"Sat\", \"time\": \"Dinner\", \"size\": 2}, {\"total_bill\": 18.78, \"tip\": 3.0, \"sex\": \"Female\", \"smoker\": \"No\", \"day\": \"Thur\", \"time\": \"Dinner\", \"size\": 2}]}}, {\"mode\": \"vega-lite\"});\n",
       "</script>"
      ],
      "text/plain": [
       "alt.HConcatChart(...)"
      ]
     },
     "execution_count": 232,
     "metadata": {},
     "output_type": "execute_result"
    }
   ],
   "source": [
    "# Bar plot\n",
    "bar_plot = alt.Chart(tip_df).mark_bar(color='#4C78A8', opacity=0.85).encode(\n",
    "    x=alt.X('tip', bin=alt.Bin(maxbins=30), title='Tip (USD)'),\n",
    "    y=alt.Y('count()', title='Number of Bills'),\n",
    "    tooltip=[alt.Tooltip('count()', title='Count')]\n",
    ").properties(\n",
    "    height=400, width=400, title=''\n",
    ")\n",
    "\n",
    "# Box plot\n",
    "box_plot = alt.Chart(tip_df).mark_boxplot(size=60, color='#F58518').encode(\n",
    "    x=alt.X('tip', title='Tip (USD)'),\n",
    "    tooltip=[alt.Tooltip('tip', title='Tip')]\n",
    ").properties(\n",
    "    height=400, width=400, title=''\n",
    ")\n",
    "\n",
    "\n",
    "\n",
    "# Titles for full visualization\n",
    "titles = alt.TitleParams(\n",
    "    text='Tip Amounts: Most tips are small, with a few large exceptions.',\n",
    "    fontSize=20,\n",
    "    align='center',\n",
    "    anchor='middle',\n",
    "    subtitle=[\n",
    "        \"Most tips are between $2–$3.50, median ≈ $2.90;\",\n",
    "        \"A few outliers above $7, max = $10\"\n",
    "    ]\n",
    ")\n",
    "\n",
    "# Concatenate and apply configuration to the combined chart\n",
    "combined_chart = (box_plot | bar_plot ).properties(title= titles).configure_view(strokeWidth=0)\n",
    "\n",
    "\n",
    "combined_chart\n"
   ]
  },
  {
   "cell_type": "markdown",
   "id": "4614f070",
   "metadata": {},
   "source": [
    "Now let's visualise how the data is distributed accross different categorical columns"
   ]
  },
  {
   "cell_type": "code",
   "execution_count": 233,
   "id": "f442bec4",
   "metadata": {},
   "outputs": [
    {
     "data": {
      "text/html": [
       "\n",
       "<style>\n",
       "  #altair-viz-5a55450102d9400aa3afa343bb67a6b2.vega-embed {\n",
       "    width: 100%;\n",
       "    display: flex;\n",
       "  }\n",
       "\n",
       "  #altair-viz-5a55450102d9400aa3afa343bb67a6b2.vega-embed details,\n",
       "  #altair-viz-5a55450102d9400aa3afa343bb67a6b2.vega-embed details summary {\n",
       "    position: relative;\n",
       "  }\n",
       "</style>\n",
       "<div id=\"altair-viz-5a55450102d9400aa3afa343bb67a6b2\"></div>\n",
       "<script type=\"text/javascript\">\n",
       "  var VEGA_DEBUG = (typeof VEGA_DEBUG == \"undefined\") ? {} : VEGA_DEBUG;\n",
       "  (function(spec, embedOpt){\n",
       "    let outputDiv = document.currentScript.previousElementSibling;\n",
       "    if (outputDiv.id !== \"altair-viz-5a55450102d9400aa3afa343bb67a6b2\") {\n",
       "      outputDiv = document.getElementById(\"altair-viz-5a55450102d9400aa3afa343bb67a6b2\");\n",
       "    }\n",
       "\n",
       "    const paths = {\n",
       "      \"vega\": \"https://cdn.jsdelivr.net/npm/vega@5?noext\",\n",
       "      \"vega-lib\": \"https://cdn.jsdelivr.net/npm/vega-lib?noext\",\n",
       "      \"vega-lite\": \"https://cdn.jsdelivr.net/npm/vega-lite@5.20.1?noext\",\n",
       "      \"vega-embed\": \"https://cdn.jsdelivr.net/npm/vega-embed@6?noext\",\n",
       "    };\n",
       "\n",
       "    function maybeLoadScript(lib, version) {\n",
       "      var key = `${lib.replace(\"-\", \"\")}_version`;\n",
       "      return (VEGA_DEBUG[key] == version) ?\n",
       "        Promise.resolve(paths[lib]) :\n",
       "        new Promise(function(resolve, reject) {\n",
       "          var s = document.createElement('script');\n",
       "          document.getElementsByTagName(\"head\")[0].appendChild(s);\n",
       "          s.async = true;\n",
       "          s.onload = () => {\n",
       "            VEGA_DEBUG[key] = version;\n",
       "            return resolve(paths[lib]);\n",
       "          };\n",
       "          s.onerror = () => reject(`Error loading script: ${paths[lib]}`);\n",
       "          s.src = paths[lib];\n",
       "        });\n",
       "    }\n",
       "\n",
       "    function showError(err) {\n",
       "      outputDiv.innerHTML = `<div class=\"error\" style=\"color:red;\">${err}</div>`;\n",
       "      throw err;\n",
       "    }\n",
       "\n",
       "    function displayChart(vegaEmbed) {\n",
       "      vegaEmbed(outputDiv, spec, embedOpt)\n",
       "        .catch(err => showError(`Javascript Error: ${err.message}<br>This usually means there's a typo in your chart specification. See the javascript console for the full traceback.`));\n",
       "    }\n",
       "\n",
       "    if(typeof define === \"function\" && define.amd) {\n",
       "      requirejs.config({paths});\n",
       "      let deps = [\"vega-embed\"];\n",
       "      require(deps, displayChart, err => showError(`Error loading script: ${err.message}`));\n",
       "    } else {\n",
       "      maybeLoadScript(\"vega\", \"5\")\n",
       "        .then(() => maybeLoadScript(\"vega-lite\", \"5.20.1\"))\n",
       "        .then(() => maybeLoadScript(\"vega-embed\", \"6\"))\n",
       "        .catch(showError)\n",
       "        .then(() => displayChart(vegaEmbed));\n",
       "    }\n",
       "  })({\"config\": {\"view\": {\"continuousWidth\": 300, \"continuousHeight\": 300, \"stroke\": null}, \"axis\": {\"grid\": true, \"gridColor\": \"lightgray\", \"gridOpacity\": 0.3, \"labelFont\": \"Arial\", \"titleFont\": \"Arial\"}, \"title\": {\"anchor\": \"start\", \"color\": \"#333\", \"font\": \"Arial\", \"fontSize\": 20}}, \"vconcat\": [{\"mark\": {\"type\": \"bar\", \"color\": \"#4C78A8\", \"opacity\": 0.85}, \"encoding\": {\"tooltip\": [{\"aggregate\": \"count\", \"title\": \"Count\", \"type\": \"quantitative\"}, {\"field\": \"sex\", \"title\": \"Sex\", \"type\": \"nominal\"}], \"x\": {\"aggregate\": \"count\", \"axis\": {\"labelFontSize\": 12, \"titleFontSize\": 14}, \"title\": \"Number of Records\", \"type\": \"quantitative\"}, \"y\": {\"axis\": {\"labelFontSize\": 12, \"titleFontSize\": 14}, \"field\": \"sex\", \"title\": \"Sex\", \"type\": \"nominal\"}}, \"height\": 80, \"title\": {\"text\": \"Distribution of Sex\", \"anchor\": \"start\", \"fontSize\": 16}, \"width\": 350}, {\"hconcat\": [{\"mark\": {\"type\": \"bar\", \"color\": \"#4C78A8\", \"opacity\": 0.85}, \"encoding\": {\"tooltip\": [{\"aggregate\": \"count\", \"title\": \"Count\", \"type\": \"quantitative\"}, {\"field\": \"smoker\", \"title\": \"Smoker\", \"type\": \"nominal\"}], \"x\": {\"aggregate\": \"count\", \"axis\": {\"labelFontSize\": 12, \"titleFontSize\": 14}, \"title\": \"Number of Records\", \"type\": \"quantitative\"}, \"y\": {\"axis\": {\"labelFontSize\": 12, \"titleFontSize\": 14}, \"field\": \"smoker\", \"title\": \"Smoker\", \"type\": \"nominal\"}}, \"height\": 80, \"title\": {\"text\": \"Distribution of Smoker\", \"anchor\": \"start\", \"fontSize\": 16}, \"width\": 350}, {\"mark\": {\"type\": \"bar\", \"color\": \"#4C78A8\", \"opacity\": 0.85}, \"encoding\": {\"tooltip\": [{\"aggregate\": \"count\", \"title\": \"Count\", \"type\": \"quantitative\"}, {\"field\": \"day\", \"title\": \"Day\", \"type\": \"nominal\"}], \"x\": {\"aggregate\": \"count\", \"axis\": {\"labelFontSize\": 12, \"titleFontSize\": 14}, \"title\": \"Number of Records\", \"type\": \"quantitative\"}, \"y\": {\"axis\": {\"labelFontSize\": 12, \"titleFontSize\": 14}, \"field\": \"day\", \"title\": \"Day\", \"type\": \"nominal\"}}, \"height\": 80, \"title\": {\"text\": \"Distribution of Day\", \"anchor\": \"start\", \"fontSize\": 16}, \"width\": 350}], \"spacing\": 50}, {\"hconcat\": [{\"mark\": {\"type\": \"bar\", \"color\": \"#4C78A8\", \"opacity\": 0.85}, \"encoding\": {\"tooltip\": [{\"aggregate\": \"count\", \"title\": \"Count\", \"type\": \"quantitative\"}, {\"field\": \"time\", \"title\": \"Time\", \"type\": \"nominal\"}], \"x\": {\"aggregate\": \"count\", \"axis\": {\"labelFontSize\": 12, \"titleFontSize\": 14}, \"title\": \"Number of Records\", \"type\": \"quantitative\"}, \"y\": {\"axis\": {\"labelFontSize\": 12, \"titleFontSize\": 14}, \"field\": \"time\", \"title\": \"Time\", \"type\": \"nominal\"}}, \"height\": 80, \"title\": {\"text\": \"Distribution of Time\", \"anchor\": \"start\", \"fontSize\": 16}, \"width\": 350}, {\"mark\": {\"type\": \"bar\", \"color\": \"#4C78A8\", \"opacity\": 0.85}, \"encoding\": {\"tooltip\": [{\"aggregate\": \"count\", \"title\": \"Count\", \"type\": \"quantitative\"}, {\"field\": \"size\", \"title\": \"Size\", \"type\": \"nominal\"}], \"x\": {\"aggregate\": \"count\", \"axis\": {\"labelFontSize\": 12, \"titleFontSize\": 14}, \"title\": \"Number of Records\", \"type\": \"quantitative\"}, \"y\": {\"axis\": {\"labelFontSize\": 12, \"titleFontSize\": 14}, \"field\": \"size\", \"title\": \"Size\", \"type\": \"nominal\"}}, \"height\": 80, \"title\": {\"text\": \"Distribution of Size\", \"anchor\": \"start\", \"fontSize\": 16}, \"width\": 350}], \"spacing\": 50}], \"data\": {\"name\": \"data-f795d6974a782cd165ff81948ea68153\"}, \"padding\": 20, \"spacing\": 50, \"title\": {\"text\": \"Distribution of Categorical Variables in Tips Dataset\", \"anchor\": \"end\", \"dy\": 10, \"fontSize\": 20, \"subtitle\": [\"Counts for each category in: sex, smoker, day, time, and party size\"]}, \"$schema\": \"https://vega.github.io/schema/vega-lite/v5.20.1.json\", \"datasets\": {\"data-f795d6974a782cd165ff81948ea68153\": [{\"total_bill\": 16.99, \"tip\": 1.01, \"sex\": \"Female\", \"smoker\": \"No\", \"day\": \"Sun\", \"time\": \"Dinner\", \"size\": 2}, {\"total_bill\": 10.34, \"tip\": 1.66, \"sex\": \"Male\", \"smoker\": \"No\", \"day\": \"Sun\", \"time\": \"Dinner\", \"size\": 3}, {\"total_bill\": 21.01, \"tip\": 3.5, \"sex\": \"Male\", \"smoker\": \"No\", \"day\": \"Sun\", \"time\": \"Dinner\", \"size\": 3}, {\"total_bill\": 23.68, \"tip\": 3.31, \"sex\": \"Male\", \"smoker\": \"No\", \"day\": \"Sun\", \"time\": \"Dinner\", \"size\": 2}, {\"total_bill\": 24.59, \"tip\": 3.61, \"sex\": \"Female\", \"smoker\": \"No\", \"day\": \"Sun\", \"time\": \"Dinner\", \"size\": 4}, {\"total_bill\": 25.29, \"tip\": 4.71, \"sex\": \"Male\", \"smoker\": \"No\", \"day\": \"Sun\", \"time\": \"Dinner\", \"size\": 4}, {\"total_bill\": 8.77, \"tip\": 2.0, \"sex\": \"Male\", \"smoker\": \"No\", \"day\": \"Sun\", \"time\": \"Dinner\", \"size\": 2}, {\"total_bill\": 26.88, \"tip\": 3.12, \"sex\": \"Male\", \"smoker\": \"No\", \"day\": \"Sun\", \"time\": \"Dinner\", \"size\": 4}, {\"total_bill\": 15.04, \"tip\": 1.96, \"sex\": \"Male\", \"smoker\": \"No\", \"day\": \"Sun\", \"time\": \"Dinner\", \"size\": 2}, {\"total_bill\": 14.78, \"tip\": 3.23, \"sex\": \"Male\", \"smoker\": \"No\", \"day\": \"Sun\", \"time\": \"Dinner\", \"size\": 2}, {\"total_bill\": 10.27, \"tip\": 1.71, \"sex\": \"Male\", \"smoker\": \"No\", \"day\": \"Sun\", \"time\": \"Dinner\", \"size\": 2}, {\"total_bill\": 35.26, \"tip\": 5.0, \"sex\": \"Female\", \"smoker\": \"No\", \"day\": \"Sun\", \"time\": \"Dinner\", \"size\": 4}, {\"total_bill\": 15.42, \"tip\": 1.57, \"sex\": \"Male\", \"smoker\": \"No\", \"day\": \"Sun\", \"time\": \"Dinner\", \"size\": 2}, {\"total_bill\": 18.43, \"tip\": 3.0, \"sex\": \"Male\", \"smoker\": \"No\", \"day\": \"Sun\", \"time\": \"Dinner\", \"size\": 4}, {\"total_bill\": 14.83, \"tip\": 3.02, \"sex\": \"Female\", \"smoker\": \"No\", \"day\": \"Sun\", \"time\": \"Dinner\", \"size\": 2}, {\"total_bill\": 21.58, \"tip\": 3.92, \"sex\": \"Male\", \"smoker\": \"No\", \"day\": \"Sun\", \"time\": \"Dinner\", \"size\": 2}, {\"total_bill\": 10.33, \"tip\": 1.67, \"sex\": \"Female\", \"smoker\": \"No\", \"day\": \"Sun\", \"time\": \"Dinner\", \"size\": 3}, {\"total_bill\": 16.29, \"tip\": 3.71, \"sex\": \"Male\", \"smoker\": \"No\", \"day\": \"Sun\", \"time\": \"Dinner\", \"size\": 3}, {\"total_bill\": 16.97, \"tip\": 3.5, \"sex\": \"Female\", \"smoker\": \"No\", \"day\": \"Sun\", \"time\": \"Dinner\", \"size\": 3}, {\"total_bill\": 20.65, \"tip\": 3.35, \"sex\": \"Male\", \"smoker\": \"No\", \"day\": \"Sat\", \"time\": \"Dinner\", \"size\": 3}, {\"total_bill\": 17.92, \"tip\": 4.08, \"sex\": \"Male\", \"smoker\": \"No\", \"day\": \"Sat\", \"time\": \"Dinner\", \"size\": 2}, {\"total_bill\": 20.29, \"tip\": 2.75, \"sex\": \"Female\", \"smoker\": \"No\", \"day\": \"Sat\", \"time\": \"Dinner\", \"size\": 2}, {\"total_bill\": 15.77, \"tip\": 2.23, \"sex\": \"Female\", \"smoker\": \"No\", \"day\": \"Sat\", \"time\": \"Dinner\", \"size\": 2}, {\"total_bill\": 39.42, \"tip\": 7.58, \"sex\": \"Male\", \"smoker\": \"No\", \"day\": \"Sat\", \"time\": \"Dinner\", \"size\": 4}, {\"total_bill\": 19.82, \"tip\": 3.18, \"sex\": \"Male\", \"smoker\": \"No\", \"day\": \"Sat\", \"time\": \"Dinner\", \"size\": 2}, {\"total_bill\": 17.81, \"tip\": 2.34, \"sex\": \"Male\", \"smoker\": \"No\", \"day\": \"Sat\", \"time\": \"Dinner\", \"size\": 4}, {\"total_bill\": 13.37, \"tip\": 2.0, \"sex\": \"Male\", \"smoker\": \"No\", \"day\": \"Sat\", \"time\": \"Dinner\", \"size\": 2}, {\"total_bill\": 12.69, \"tip\": 2.0, \"sex\": \"Male\", \"smoker\": \"No\", \"day\": \"Sat\", \"time\": \"Dinner\", \"size\": 2}, {\"total_bill\": 21.7, \"tip\": 4.3, \"sex\": \"Male\", \"smoker\": \"No\", \"day\": \"Sat\", \"time\": \"Dinner\", \"size\": 2}, {\"total_bill\": 19.65, \"tip\": 3.0, \"sex\": \"Female\", \"smoker\": \"No\", \"day\": \"Sat\", \"time\": \"Dinner\", \"size\": 2}, {\"total_bill\": 9.55, \"tip\": 1.45, \"sex\": \"Male\", \"smoker\": \"No\", \"day\": \"Sat\", \"time\": \"Dinner\", \"size\": 2}, {\"total_bill\": 18.35, \"tip\": 2.5, \"sex\": \"Male\", \"smoker\": \"No\", \"day\": \"Sat\", \"time\": \"Dinner\", \"size\": 4}, {\"total_bill\": 15.06, \"tip\": 3.0, \"sex\": \"Female\", \"smoker\": \"No\", \"day\": \"Sat\", \"time\": \"Dinner\", \"size\": 2}, {\"total_bill\": 20.69, \"tip\": 2.45, \"sex\": \"Female\", \"smoker\": \"No\", \"day\": \"Sat\", \"time\": \"Dinner\", \"size\": 4}, {\"total_bill\": 17.78, \"tip\": 3.27, \"sex\": \"Male\", \"smoker\": \"No\", \"day\": \"Sat\", \"time\": \"Dinner\", \"size\": 2}, {\"total_bill\": 24.06, \"tip\": 3.6, \"sex\": \"Male\", \"smoker\": \"No\", \"day\": \"Sat\", \"time\": \"Dinner\", \"size\": 3}, {\"total_bill\": 16.31, \"tip\": 2.0, \"sex\": \"Male\", \"smoker\": \"No\", \"day\": \"Sat\", \"time\": \"Dinner\", \"size\": 3}, {\"total_bill\": 16.93, \"tip\": 3.07, \"sex\": \"Female\", \"smoker\": \"No\", \"day\": \"Sat\", \"time\": \"Dinner\", \"size\": 3}, {\"total_bill\": 18.69, \"tip\": 2.31, \"sex\": \"Male\", \"smoker\": \"No\", \"day\": \"Sat\", \"time\": \"Dinner\", \"size\": 3}, {\"total_bill\": 31.27, \"tip\": 5.0, \"sex\": \"Male\", \"smoker\": \"No\", \"day\": \"Sat\", \"time\": \"Dinner\", \"size\": 3}, {\"total_bill\": 16.04, \"tip\": 2.24, \"sex\": \"Male\", \"smoker\": \"No\", \"day\": \"Sat\", \"time\": \"Dinner\", \"size\": 3}, {\"total_bill\": 17.46, \"tip\": 2.54, \"sex\": \"Male\", \"smoker\": \"No\", \"day\": \"Sun\", \"time\": \"Dinner\", \"size\": 2}, {\"total_bill\": 13.94, \"tip\": 3.06, \"sex\": \"Male\", \"smoker\": \"No\", \"day\": \"Sun\", \"time\": \"Dinner\", \"size\": 2}, {\"total_bill\": 9.68, \"tip\": 1.32, \"sex\": \"Male\", \"smoker\": \"No\", \"day\": \"Sun\", \"time\": \"Dinner\", \"size\": 2}, {\"total_bill\": 30.4, \"tip\": 5.6, \"sex\": \"Male\", \"smoker\": \"No\", \"day\": \"Sun\", \"time\": \"Dinner\", \"size\": 4}, {\"total_bill\": 18.29, \"tip\": 3.0, \"sex\": \"Male\", \"smoker\": \"No\", \"day\": \"Sun\", \"time\": \"Dinner\", \"size\": 2}, {\"total_bill\": 22.23, \"tip\": 5.0, \"sex\": \"Male\", \"smoker\": \"No\", \"day\": \"Sun\", \"time\": \"Dinner\", \"size\": 2}, {\"total_bill\": 32.4, \"tip\": 6.0, \"sex\": \"Male\", \"smoker\": \"No\", \"day\": \"Sun\", \"time\": \"Dinner\", \"size\": 4}, {\"total_bill\": 28.55, \"tip\": 2.05, \"sex\": \"Male\", \"smoker\": \"No\", \"day\": \"Sun\", \"time\": \"Dinner\", \"size\": 3}, {\"total_bill\": 18.04, \"tip\": 3.0, \"sex\": \"Male\", \"smoker\": \"No\", \"day\": \"Sun\", \"time\": \"Dinner\", \"size\": 2}, {\"total_bill\": 12.54, \"tip\": 2.5, \"sex\": \"Male\", \"smoker\": \"No\", \"day\": \"Sun\", \"time\": \"Dinner\", \"size\": 2}, {\"total_bill\": 10.29, \"tip\": 2.6, \"sex\": \"Female\", \"smoker\": \"No\", \"day\": \"Sun\", \"time\": \"Dinner\", \"size\": 2}, {\"total_bill\": 34.81, \"tip\": 5.2, \"sex\": \"Female\", \"smoker\": \"No\", \"day\": \"Sun\", \"time\": \"Dinner\", \"size\": 4}, {\"total_bill\": 9.94, \"tip\": 1.56, \"sex\": \"Male\", \"smoker\": \"No\", \"day\": \"Sun\", \"time\": \"Dinner\", \"size\": 2}, {\"total_bill\": 25.56, \"tip\": 4.34, \"sex\": \"Male\", \"smoker\": \"No\", \"day\": \"Sun\", \"time\": \"Dinner\", \"size\": 4}, {\"total_bill\": 19.49, \"tip\": 3.51, \"sex\": \"Male\", \"smoker\": \"No\", \"day\": \"Sun\", \"time\": \"Dinner\", \"size\": 2}, {\"total_bill\": 38.01, \"tip\": 3.0, \"sex\": \"Male\", \"smoker\": \"Yes\", \"day\": \"Sat\", \"time\": \"Dinner\", \"size\": 4}, {\"total_bill\": 26.41, \"tip\": 1.5, \"sex\": \"Female\", \"smoker\": \"No\", \"day\": \"Sat\", \"time\": \"Dinner\", \"size\": 2}, {\"total_bill\": 11.24, \"tip\": 1.76, \"sex\": \"Male\", \"smoker\": \"Yes\", \"day\": \"Sat\", \"time\": \"Dinner\", \"size\": 2}, {\"total_bill\": 48.27, \"tip\": 6.73, \"sex\": \"Male\", \"smoker\": \"No\", \"day\": \"Sat\", \"time\": \"Dinner\", \"size\": 4}, {\"total_bill\": 20.29, \"tip\": 3.21, \"sex\": \"Male\", \"smoker\": \"Yes\", \"day\": \"Sat\", \"time\": \"Dinner\", \"size\": 2}, {\"total_bill\": 13.81, \"tip\": 2.0, \"sex\": \"Male\", \"smoker\": \"Yes\", \"day\": \"Sat\", \"time\": \"Dinner\", \"size\": 2}, {\"total_bill\": 11.02, \"tip\": 1.98, \"sex\": \"Male\", \"smoker\": \"Yes\", \"day\": \"Sat\", \"time\": \"Dinner\", \"size\": 2}, {\"total_bill\": 18.29, \"tip\": 3.76, \"sex\": \"Male\", \"smoker\": \"Yes\", \"day\": \"Sat\", \"time\": \"Dinner\", \"size\": 4}, {\"total_bill\": 17.59, \"tip\": 2.64, \"sex\": \"Male\", \"smoker\": \"No\", \"day\": \"Sat\", \"time\": \"Dinner\", \"size\": 3}, {\"total_bill\": 20.08, \"tip\": 3.15, \"sex\": \"Male\", \"smoker\": \"No\", \"day\": \"Sat\", \"time\": \"Dinner\", \"size\": 3}, {\"total_bill\": 16.45, \"tip\": 2.47, \"sex\": \"Female\", \"smoker\": \"No\", \"day\": \"Sat\", \"time\": \"Dinner\", \"size\": 2}, {\"total_bill\": 3.07, \"tip\": 1.0, \"sex\": \"Female\", \"smoker\": \"Yes\", \"day\": \"Sat\", \"time\": \"Dinner\", \"size\": 1}, {\"total_bill\": 20.23, \"tip\": 2.01, \"sex\": \"Male\", \"smoker\": \"No\", \"day\": \"Sat\", \"time\": \"Dinner\", \"size\": 2}, {\"total_bill\": 15.01, \"tip\": 2.09, \"sex\": \"Male\", \"smoker\": \"Yes\", \"day\": \"Sat\", \"time\": \"Dinner\", \"size\": 2}, {\"total_bill\": 12.02, \"tip\": 1.97, \"sex\": \"Male\", \"smoker\": \"No\", \"day\": \"Sat\", \"time\": \"Dinner\", \"size\": 2}, {\"total_bill\": 17.07, \"tip\": 3.0, \"sex\": \"Female\", \"smoker\": \"No\", \"day\": \"Sat\", \"time\": \"Dinner\", \"size\": 3}, {\"total_bill\": 26.86, \"tip\": 3.14, \"sex\": \"Female\", \"smoker\": \"Yes\", \"day\": \"Sat\", \"time\": \"Dinner\", \"size\": 2}, {\"total_bill\": 25.28, \"tip\": 5.0, \"sex\": \"Female\", \"smoker\": \"Yes\", \"day\": \"Sat\", \"time\": \"Dinner\", \"size\": 2}, {\"total_bill\": 14.73, \"tip\": 2.2, \"sex\": \"Female\", \"smoker\": \"No\", \"day\": \"Sat\", \"time\": \"Dinner\", \"size\": 2}, {\"total_bill\": 10.51, \"tip\": 1.25, \"sex\": \"Male\", \"smoker\": \"No\", \"day\": \"Sat\", \"time\": \"Dinner\", \"size\": 2}, {\"total_bill\": 17.92, \"tip\": 3.08, \"sex\": \"Male\", \"smoker\": \"Yes\", \"day\": \"Sat\", \"time\": \"Dinner\", \"size\": 2}, {\"total_bill\": 27.2, \"tip\": 4.0, \"sex\": \"Male\", \"smoker\": \"No\", \"day\": \"Thur\", \"time\": \"Lunch\", \"size\": 4}, {\"total_bill\": 22.76, \"tip\": 3.0, \"sex\": \"Male\", \"smoker\": \"No\", \"day\": \"Thur\", \"time\": \"Lunch\", \"size\": 2}, {\"total_bill\": 17.29, \"tip\": 2.71, \"sex\": \"Male\", \"smoker\": \"No\", \"day\": \"Thur\", \"time\": \"Lunch\", \"size\": 2}, {\"total_bill\": 19.44, \"tip\": 3.0, \"sex\": \"Male\", \"smoker\": \"Yes\", \"day\": \"Thur\", \"time\": \"Lunch\", \"size\": 2}, {\"total_bill\": 16.66, \"tip\": 3.4, \"sex\": \"Male\", \"smoker\": \"No\", \"day\": \"Thur\", \"time\": \"Lunch\", \"size\": 2}, {\"total_bill\": 10.07, \"tip\": 1.83, \"sex\": \"Female\", \"smoker\": \"No\", \"day\": \"Thur\", \"time\": \"Lunch\", \"size\": 1}, {\"total_bill\": 32.68, \"tip\": 5.0, \"sex\": \"Male\", \"smoker\": \"Yes\", \"day\": \"Thur\", \"time\": \"Lunch\", \"size\": 2}, {\"total_bill\": 15.98, \"tip\": 2.03, \"sex\": \"Male\", \"smoker\": \"No\", \"day\": \"Thur\", \"time\": \"Lunch\", \"size\": 2}, {\"total_bill\": 34.83, \"tip\": 5.17, \"sex\": \"Female\", \"smoker\": \"No\", \"day\": \"Thur\", \"time\": \"Lunch\", \"size\": 4}, {\"total_bill\": 13.03, \"tip\": 2.0, \"sex\": \"Male\", \"smoker\": \"No\", \"day\": \"Thur\", \"time\": \"Lunch\", \"size\": 2}, {\"total_bill\": 18.28, \"tip\": 4.0, \"sex\": \"Male\", \"smoker\": \"No\", \"day\": \"Thur\", \"time\": \"Lunch\", \"size\": 2}, {\"total_bill\": 24.71, \"tip\": 5.85, \"sex\": \"Male\", \"smoker\": \"No\", \"day\": \"Thur\", \"time\": \"Lunch\", \"size\": 2}, {\"total_bill\": 21.16, \"tip\": 3.0, \"sex\": \"Male\", \"smoker\": \"No\", \"day\": \"Thur\", \"time\": \"Lunch\", \"size\": 2}, {\"total_bill\": 28.97, \"tip\": 3.0, \"sex\": \"Male\", \"smoker\": \"Yes\", \"day\": \"Fri\", \"time\": \"Dinner\", \"size\": 2}, {\"total_bill\": 22.49, \"tip\": 3.5, \"sex\": \"Male\", \"smoker\": \"No\", \"day\": \"Fri\", \"time\": \"Dinner\", \"size\": 2}, {\"total_bill\": 5.75, \"tip\": 1.0, \"sex\": \"Female\", \"smoker\": \"Yes\", \"day\": \"Fri\", \"time\": \"Dinner\", \"size\": 2}, {\"total_bill\": 16.32, \"tip\": 4.3, \"sex\": \"Female\", \"smoker\": \"Yes\", \"day\": \"Fri\", \"time\": \"Dinner\", \"size\": 2}, {\"total_bill\": 22.75, \"tip\": 3.25, \"sex\": \"Female\", \"smoker\": \"No\", \"day\": \"Fri\", \"time\": \"Dinner\", \"size\": 2}, {\"total_bill\": 40.17, \"tip\": 4.73, \"sex\": \"Male\", \"smoker\": \"Yes\", \"day\": \"Fri\", \"time\": \"Dinner\", \"size\": 4}, {\"total_bill\": 27.28, \"tip\": 4.0, \"sex\": \"Male\", \"smoker\": \"Yes\", \"day\": \"Fri\", \"time\": \"Dinner\", \"size\": 2}, {\"total_bill\": 12.03, \"tip\": 1.5, \"sex\": \"Male\", \"smoker\": \"Yes\", \"day\": \"Fri\", \"time\": \"Dinner\", \"size\": 2}, {\"total_bill\": 21.01, \"tip\": 3.0, \"sex\": \"Male\", \"smoker\": \"Yes\", \"day\": \"Fri\", \"time\": \"Dinner\", \"size\": 2}, {\"total_bill\": 12.46, \"tip\": 1.5, \"sex\": \"Male\", \"smoker\": \"No\", \"day\": \"Fri\", \"time\": \"Dinner\", \"size\": 2}, {\"total_bill\": 11.35, \"tip\": 2.5, \"sex\": \"Female\", \"smoker\": \"Yes\", \"day\": \"Fri\", \"time\": \"Dinner\", \"size\": 2}, {\"total_bill\": 15.38, \"tip\": 3.0, \"sex\": \"Female\", \"smoker\": \"Yes\", \"day\": \"Fri\", \"time\": \"Dinner\", \"size\": 2}, {\"total_bill\": 44.3, \"tip\": 2.5, \"sex\": \"Female\", \"smoker\": \"Yes\", \"day\": \"Sat\", \"time\": \"Dinner\", \"size\": 3}, {\"total_bill\": 22.42, \"tip\": 3.48, \"sex\": \"Female\", \"smoker\": \"Yes\", \"day\": \"Sat\", \"time\": \"Dinner\", \"size\": 2}, {\"total_bill\": 20.92, \"tip\": 4.08, \"sex\": \"Female\", \"smoker\": \"No\", \"day\": \"Sat\", \"time\": \"Dinner\", \"size\": 2}, {\"total_bill\": 15.36, \"tip\": 1.64, \"sex\": \"Male\", \"smoker\": \"Yes\", \"day\": \"Sat\", \"time\": \"Dinner\", \"size\": 2}, {\"total_bill\": 20.49, \"tip\": 4.06, \"sex\": \"Male\", \"smoker\": \"Yes\", \"day\": \"Sat\", \"time\": \"Dinner\", \"size\": 2}, {\"total_bill\": 25.21, \"tip\": 4.29, \"sex\": \"Male\", \"smoker\": \"Yes\", \"day\": \"Sat\", \"time\": \"Dinner\", \"size\": 2}, {\"total_bill\": 18.24, \"tip\": 3.76, \"sex\": \"Male\", \"smoker\": \"No\", \"day\": \"Sat\", \"time\": \"Dinner\", \"size\": 2}, {\"total_bill\": 14.31, \"tip\": 4.0, \"sex\": \"Female\", \"smoker\": \"Yes\", \"day\": \"Sat\", \"time\": \"Dinner\", \"size\": 2}, {\"total_bill\": 14.0, \"tip\": 3.0, \"sex\": \"Male\", \"smoker\": \"No\", \"day\": \"Sat\", \"time\": \"Dinner\", \"size\": 2}, {\"total_bill\": 7.25, \"tip\": 1.0, \"sex\": \"Female\", \"smoker\": \"No\", \"day\": \"Sat\", \"time\": \"Dinner\", \"size\": 1}, {\"total_bill\": 38.07, \"tip\": 4.0, \"sex\": \"Male\", \"smoker\": \"No\", \"day\": \"Sun\", \"time\": \"Dinner\", \"size\": 3}, {\"total_bill\": 23.95, \"tip\": 2.55, \"sex\": \"Male\", \"smoker\": \"No\", \"day\": \"Sun\", \"time\": \"Dinner\", \"size\": 2}, {\"total_bill\": 25.71, \"tip\": 4.0, \"sex\": \"Female\", \"smoker\": \"No\", \"day\": \"Sun\", \"time\": \"Dinner\", \"size\": 3}, {\"total_bill\": 17.31, \"tip\": 3.5, \"sex\": \"Female\", \"smoker\": \"No\", \"day\": \"Sun\", \"time\": \"Dinner\", \"size\": 2}, {\"total_bill\": 29.93, \"tip\": 5.07, \"sex\": \"Male\", \"smoker\": \"No\", \"day\": \"Sun\", \"time\": \"Dinner\", \"size\": 4}, {\"total_bill\": 10.65, \"tip\": 1.5, \"sex\": \"Female\", \"smoker\": \"No\", \"day\": \"Thur\", \"time\": \"Lunch\", \"size\": 2}, {\"total_bill\": 12.43, \"tip\": 1.8, \"sex\": \"Female\", \"smoker\": \"No\", \"day\": \"Thur\", \"time\": \"Lunch\", \"size\": 2}, {\"total_bill\": 24.08, \"tip\": 2.92, \"sex\": \"Female\", \"smoker\": \"No\", \"day\": \"Thur\", \"time\": \"Lunch\", \"size\": 4}, {\"total_bill\": 11.69, \"tip\": 2.31, \"sex\": \"Male\", \"smoker\": \"No\", \"day\": \"Thur\", \"time\": \"Lunch\", \"size\": 2}, {\"total_bill\": 13.42, \"tip\": 1.68, \"sex\": \"Female\", \"smoker\": \"No\", \"day\": \"Thur\", \"time\": \"Lunch\", \"size\": 2}, {\"total_bill\": 14.26, \"tip\": 2.5, \"sex\": \"Male\", \"smoker\": \"No\", \"day\": \"Thur\", \"time\": \"Lunch\", \"size\": 2}, {\"total_bill\": 15.95, \"tip\": 2.0, \"sex\": \"Male\", \"smoker\": \"No\", \"day\": \"Thur\", \"time\": \"Lunch\", \"size\": 2}, {\"total_bill\": 12.48, \"tip\": 2.52, \"sex\": \"Female\", \"smoker\": \"No\", \"day\": \"Thur\", \"time\": \"Lunch\", \"size\": 2}, {\"total_bill\": 29.8, \"tip\": 4.2, \"sex\": \"Female\", \"smoker\": \"No\", \"day\": \"Thur\", \"time\": \"Lunch\", \"size\": 6}, {\"total_bill\": 8.52, \"tip\": 1.48, \"sex\": \"Male\", \"smoker\": \"No\", \"day\": \"Thur\", \"time\": \"Lunch\", \"size\": 2}, {\"total_bill\": 14.52, \"tip\": 2.0, \"sex\": \"Female\", \"smoker\": \"No\", \"day\": \"Thur\", \"time\": \"Lunch\", \"size\": 2}, {\"total_bill\": 11.38, \"tip\": 2.0, \"sex\": \"Female\", \"smoker\": \"No\", \"day\": \"Thur\", \"time\": \"Lunch\", \"size\": 2}, {\"total_bill\": 22.82, \"tip\": 2.18, \"sex\": \"Male\", \"smoker\": \"No\", \"day\": \"Thur\", \"time\": \"Lunch\", \"size\": 3}, {\"total_bill\": 19.08, \"tip\": 1.5, \"sex\": \"Male\", \"smoker\": \"No\", \"day\": \"Thur\", \"time\": \"Lunch\", \"size\": 2}, {\"total_bill\": 20.27, \"tip\": 2.83, \"sex\": \"Female\", \"smoker\": \"No\", \"day\": \"Thur\", \"time\": \"Lunch\", \"size\": 2}, {\"total_bill\": 11.17, \"tip\": 1.5, \"sex\": \"Female\", \"smoker\": \"No\", \"day\": \"Thur\", \"time\": \"Lunch\", \"size\": 2}, {\"total_bill\": 12.26, \"tip\": 2.0, \"sex\": \"Female\", \"smoker\": \"No\", \"day\": \"Thur\", \"time\": \"Lunch\", \"size\": 2}, {\"total_bill\": 18.26, \"tip\": 3.25, \"sex\": \"Female\", \"smoker\": \"No\", \"day\": \"Thur\", \"time\": \"Lunch\", \"size\": 2}, {\"total_bill\": 8.51, \"tip\": 1.25, \"sex\": \"Female\", \"smoker\": \"No\", \"day\": \"Thur\", \"time\": \"Lunch\", \"size\": 2}, {\"total_bill\": 10.33, \"tip\": 2.0, \"sex\": \"Female\", \"smoker\": \"No\", \"day\": \"Thur\", \"time\": \"Lunch\", \"size\": 2}, {\"total_bill\": 14.15, \"tip\": 2.0, \"sex\": \"Female\", \"smoker\": \"No\", \"day\": \"Thur\", \"time\": \"Lunch\", \"size\": 2}, {\"total_bill\": 16.0, \"tip\": 2.0, \"sex\": \"Male\", \"smoker\": \"Yes\", \"day\": \"Thur\", \"time\": \"Lunch\", \"size\": 2}, {\"total_bill\": 13.16, \"tip\": 2.75, \"sex\": \"Female\", \"smoker\": \"No\", \"day\": \"Thur\", \"time\": \"Lunch\", \"size\": 2}, {\"total_bill\": 17.47, \"tip\": 3.5, \"sex\": \"Female\", \"smoker\": \"No\", \"day\": \"Thur\", \"time\": \"Lunch\", \"size\": 2}, {\"total_bill\": 34.3, \"tip\": 6.7, \"sex\": \"Male\", \"smoker\": \"No\", \"day\": \"Thur\", \"time\": \"Lunch\", \"size\": 6}, {\"total_bill\": 41.19, \"tip\": 5.0, \"sex\": \"Male\", \"smoker\": \"No\", \"day\": \"Thur\", \"time\": \"Lunch\", \"size\": 5}, {\"total_bill\": 27.05, \"tip\": 5.0, \"sex\": \"Female\", \"smoker\": \"No\", \"day\": \"Thur\", \"time\": \"Lunch\", \"size\": 6}, {\"total_bill\": 16.43, \"tip\": 2.3, \"sex\": \"Female\", \"smoker\": \"No\", \"day\": \"Thur\", \"time\": \"Lunch\", \"size\": 2}, {\"total_bill\": 8.35, \"tip\": 1.5, \"sex\": \"Female\", \"smoker\": \"No\", \"day\": \"Thur\", \"time\": \"Lunch\", \"size\": 2}, {\"total_bill\": 18.64, \"tip\": 1.36, \"sex\": \"Female\", \"smoker\": \"No\", \"day\": \"Thur\", \"time\": \"Lunch\", \"size\": 3}, {\"total_bill\": 11.87, \"tip\": 1.63, \"sex\": \"Female\", \"smoker\": \"No\", \"day\": \"Thur\", \"time\": \"Lunch\", \"size\": 2}, {\"total_bill\": 9.78, \"tip\": 1.73, \"sex\": \"Male\", \"smoker\": \"No\", \"day\": \"Thur\", \"time\": \"Lunch\", \"size\": 2}, {\"total_bill\": 7.51, \"tip\": 2.0, \"sex\": \"Male\", \"smoker\": \"No\", \"day\": \"Thur\", \"time\": \"Lunch\", \"size\": 2}, {\"total_bill\": 14.07, \"tip\": 2.5, \"sex\": \"Male\", \"smoker\": \"No\", \"day\": \"Sun\", \"time\": \"Dinner\", \"size\": 2}, {\"total_bill\": 13.13, \"tip\": 2.0, \"sex\": \"Male\", \"smoker\": \"No\", \"day\": \"Sun\", \"time\": \"Dinner\", \"size\": 2}, {\"total_bill\": 17.26, \"tip\": 2.74, \"sex\": \"Male\", \"smoker\": \"No\", \"day\": \"Sun\", \"time\": \"Dinner\", \"size\": 3}, {\"total_bill\": 24.55, \"tip\": 2.0, \"sex\": \"Male\", \"smoker\": \"No\", \"day\": \"Sun\", \"time\": \"Dinner\", \"size\": 4}, {\"total_bill\": 19.77, \"tip\": 2.0, \"sex\": \"Male\", \"smoker\": \"No\", \"day\": \"Sun\", \"time\": \"Dinner\", \"size\": 4}, {\"total_bill\": 29.85, \"tip\": 5.14, \"sex\": \"Female\", \"smoker\": \"No\", \"day\": \"Sun\", \"time\": \"Dinner\", \"size\": 5}, {\"total_bill\": 48.17, \"tip\": 5.0, \"sex\": \"Male\", \"smoker\": \"No\", \"day\": \"Sun\", \"time\": \"Dinner\", \"size\": 6}, {\"total_bill\": 25.0, \"tip\": 3.75, \"sex\": \"Female\", \"smoker\": \"No\", \"day\": \"Sun\", \"time\": \"Dinner\", \"size\": 4}, {\"total_bill\": 13.39, \"tip\": 2.61, \"sex\": \"Female\", \"smoker\": \"No\", \"day\": \"Sun\", \"time\": \"Dinner\", \"size\": 2}, {\"total_bill\": 16.49, \"tip\": 2.0, \"sex\": \"Male\", \"smoker\": \"No\", \"day\": \"Sun\", \"time\": \"Dinner\", \"size\": 4}, {\"total_bill\": 21.5, \"tip\": 3.5, \"sex\": \"Male\", \"smoker\": \"No\", \"day\": \"Sun\", \"time\": \"Dinner\", \"size\": 4}, {\"total_bill\": 12.66, \"tip\": 2.5, \"sex\": \"Male\", \"smoker\": \"No\", \"day\": \"Sun\", \"time\": \"Dinner\", \"size\": 2}, {\"total_bill\": 16.21, \"tip\": 2.0, \"sex\": \"Female\", \"smoker\": \"No\", \"day\": \"Sun\", \"time\": \"Dinner\", \"size\": 3}, {\"total_bill\": 13.81, \"tip\": 2.0, \"sex\": \"Male\", \"smoker\": \"No\", \"day\": \"Sun\", \"time\": \"Dinner\", \"size\": 2}, {\"total_bill\": 17.51, \"tip\": 3.0, \"sex\": \"Female\", \"smoker\": \"Yes\", \"day\": \"Sun\", \"time\": \"Dinner\", \"size\": 2}, {\"total_bill\": 24.52, \"tip\": 3.48, \"sex\": \"Male\", \"smoker\": \"No\", \"day\": \"Sun\", \"time\": \"Dinner\", \"size\": 3}, {\"total_bill\": 20.76, \"tip\": 2.24, \"sex\": \"Male\", \"smoker\": \"No\", \"day\": \"Sun\", \"time\": \"Dinner\", \"size\": 2}, {\"total_bill\": 31.71, \"tip\": 4.5, \"sex\": \"Male\", \"smoker\": \"No\", \"day\": \"Sun\", \"time\": \"Dinner\", \"size\": 4}, {\"total_bill\": 10.59, \"tip\": 1.61, \"sex\": \"Female\", \"smoker\": \"Yes\", \"day\": \"Sat\", \"time\": \"Dinner\", \"size\": 2}, {\"total_bill\": 10.63, \"tip\": 2.0, \"sex\": \"Female\", \"smoker\": \"Yes\", \"day\": \"Sat\", \"time\": \"Dinner\", \"size\": 2}, {\"total_bill\": 50.81, \"tip\": 10.0, \"sex\": \"Male\", \"smoker\": \"Yes\", \"day\": \"Sat\", \"time\": \"Dinner\", \"size\": 3}, {\"total_bill\": 15.81, \"tip\": 3.16, \"sex\": \"Male\", \"smoker\": \"Yes\", \"day\": \"Sat\", \"time\": \"Dinner\", \"size\": 2}, {\"total_bill\": 7.25, \"tip\": 5.15, \"sex\": \"Male\", \"smoker\": \"Yes\", \"day\": \"Sun\", \"time\": \"Dinner\", \"size\": 2}, {\"total_bill\": 31.85, \"tip\": 3.18, \"sex\": \"Male\", \"smoker\": \"Yes\", \"day\": \"Sun\", \"time\": \"Dinner\", \"size\": 2}, {\"total_bill\": 16.82, \"tip\": 4.0, \"sex\": \"Male\", \"smoker\": \"Yes\", \"day\": \"Sun\", \"time\": \"Dinner\", \"size\": 2}, {\"total_bill\": 32.9, \"tip\": 3.11, \"sex\": \"Male\", \"smoker\": \"Yes\", \"day\": \"Sun\", \"time\": \"Dinner\", \"size\": 2}, {\"total_bill\": 17.89, \"tip\": 2.0, \"sex\": \"Male\", \"smoker\": \"Yes\", \"day\": \"Sun\", \"time\": \"Dinner\", \"size\": 2}, {\"total_bill\": 14.48, \"tip\": 2.0, \"sex\": \"Male\", \"smoker\": \"Yes\", \"day\": \"Sun\", \"time\": \"Dinner\", \"size\": 2}, {\"total_bill\": 9.6, \"tip\": 4.0, \"sex\": \"Female\", \"smoker\": \"Yes\", \"day\": \"Sun\", \"time\": \"Dinner\", \"size\": 2}, {\"total_bill\": 34.63, \"tip\": 3.55, \"sex\": \"Male\", \"smoker\": \"Yes\", \"day\": \"Sun\", \"time\": \"Dinner\", \"size\": 2}, {\"total_bill\": 34.65, \"tip\": 3.68, \"sex\": \"Male\", \"smoker\": \"Yes\", \"day\": \"Sun\", \"time\": \"Dinner\", \"size\": 4}, {\"total_bill\": 23.33, \"tip\": 5.65, \"sex\": \"Male\", \"smoker\": \"Yes\", \"day\": \"Sun\", \"time\": \"Dinner\", \"size\": 2}, {\"total_bill\": 45.35, \"tip\": 3.5, \"sex\": \"Male\", \"smoker\": \"Yes\", \"day\": \"Sun\", \"time\": \"Dinner\", \"size\": 3}, {\"total_bill\": 23.17, \"tip\": 6.5, \"sex\": \"Male\", \"smoker\": \"Yes\", \"day\": \"Sun\", \"time\": \"Dinner\", \"size\": 4}, {\"total_bill\": 40.55, \"tip\": 3.0, \"sex\": \"Male\", \"smoker\": \"Yes\", \"day\": \"Sun\", \"time\": \"Dinner\", \"size\": 2}, {\"total_bill\": 20.69, \"tip\": 5.0, \"sex\": \"Male\", \"smoker\": \"No\", \"day\": \"Sun\", \"time\": \"Dinner\", \"size\": 5}, {\"total_bill\": 20.9, \"tip\": 3.5, \"sex\": \"Female\", \"smoker\": \"Yes\", \"day\": \"Sun\", \"time\": \"Dinner\", \"size\": 3}, {\"total_bill\": 30.46, \"tip\": 2.0, \"sex\": \"Male\", \"smoker\": \"Yes\", \"day\": \"Sun\", \"time\": \"Dinner\", \"size\": 5}, {\"total_bill\": 18.15, \"tip\": 3.5, \"sex\": \"Female\", \"smoker\": \"Yes\", \"day\": \"Sun\", \"time\": \"Dinner\", \"size\": 3}, {\"total_bill\": 23.1, \"tip\": 4.0, \"sex\": \"Male\", \"smoker\": \"Yes\", \"day\": \"Sun\", \"time\": \"Dinner\", \"size\": 3}, {\"total_bill\": 15.69, \"tip\": 1.5, \"sex\": \"Male\", \"smoker\": \"Yes\", \"day\": \"Sun\", \"time\": \"Dinner\", \"size\": 2}, {\"total_bill\": 19.81, \"tip\": 4.19, \"sex\": \"Female\", \"smoker\": \"Yes\", \"day\": \"Thur\", \"time\": \"Lunch\", \"size\": 2}, {\"total_bill\": 28.44, \"tip\": 2.56, \"sex\": \"Male\", \"smoker\": \"Yes\", \"day\": \"Thur\", \"time\": \"Lunch\", \"size\": 2}, {\"total_bill\": 15.48, \"tip\": 2.02, \"sex\": \"Male\", \"smoker\": \"Yes\", \"day\": \"Thur\", \"time\": \"Lunch\", \"size\": 2}, {\"total_bill\": 16.58, \"tip\": 4.0, \"sex\": \"Male\", \"smoker\": \"Yes\", \"day\": \"Thur\", \"time\": \"Lunch\", \"size\": 2}, {\"total_bill\": 7.56, \"tip\": 1.44, \"sex\": \"Male\", \"smoker\": \"No\", \"day\": \"Thur\", \"time\": \"Lunch\", \"size\": 2}, {\"total_bill\": 10.34, \"tip\": 2.0, \"sex\": \"Male\", \"smoker\": \"Yes\", \"day\": \"Thur\", \"time\": \"Lunch\", \"size\": 2}, {\"total_bill\": 43.11, \"tip\": 5.0, \"sex\": \"Female\", \"smoker\": \"Yes\", \"day\": \"Thur\", \"time\": \"Lunch\", \"size\": 4}, {\"total_bill\": 13.0, \"tip\": 2.0, \"sex\": \"Female\", \"smoker\": \"Yes\", \"day\": \"Thur\", \"time\": \"Lunch\", \"size\": 2}, {\"total_bill\": 13.51, \"tip\": 2.0, \"sex\": \"Male\", \"smoker\": \"Yes\", \"day\": \"Thur\", \"time\": \"Lunch\", \"size\": 2}, {\"total_bill\": 18.71, \"tip\": 4.0, \"sex\": \"Male\", \"smoker\": \"Yes\", \"day\": \"Thur\", \"time\": \"Lunch\", \"size\": 3}, {\"total_bill\": 12.74, \"tip\": 2.01, \"sex\": \"Female\", \"smoker\": \"Yes\", \"day\": \"Thur\", \"time\": \"Lunch\", \"size\": 2}, {\"total_bill\": 13.0, \"tip\": 2.0, \"sex\": \"Female\", \"smoker\": \"Yes\", \"day\": \"Thur\", \"time\": \"Lunch\", \"size\": 2}, {\"total_bill\": 16.4, \"tip\": 2.5, \"sex\": \"Female\", \"smoker\": \"Yes\", \"day\": \"Thur\", \"time\": \"Lunch\", \"size\": 2}, {\"total_bill\": 20.53, \"tip\": 4.0, \"sex\": \"Male\", \"smoker\": \"Yes\", \"day\": \"Thur\", \"time\": \"Lunch\", \"size\": 4}, {\"total_bill\": 16.47, \"tip\": 3.23, \"sex\": \"Female\", \"smoker\": \"Yes\", \"day\": \"Thur\", \"time\": \"Lunch\", \"size\": 3}, {\"total_bill\": 26.59, \"tip\": 3.41, \"sex\": \"Male\", \"smoker\": \"Yes\", \"day\": \"Sat\", \"time\": \"Dinner\", \"size\": 3}, {\"total_bill\": 38.73, \"tip\": 3.0, \"sex\": \"Male\", \"smoker\": \"Yes\", \"day\": \"Sat\", \"time\": \"Dinner\", \"size\": 4}, {\"total_bill\": 24.27, \"tip\": 2.03, \"sex\": \"Male\", \"smoker\": \"Yes\", \"day\": \"Sat\", \"time\": \"Dinner\", \"size\": 2}, {\"total_bill\": 12.76, \"tip\": 2.23, \"sex\": \"Female\", \"smoker\": \"Yes\", \"day\": \"Sat\", \"time\": \"Dinner\", \"size\": 2}, {\"total_bill\": 30.06, \"tip\": 2.0, \"sex\": \"Male\", \"smoker\": \"Yes\", \"day\": \"Sat\", \"time\": \"Dinner\", \"size\": 3}, {\"total_bill\": 25.89, \"tip\": 5.16, \"sex\": \"Male\", \"smoker\": \"Yes\", \"day\": \"Sat\", \"time\": \"Dinner\", \"size\": 4}, {\"total_bill\": 48.33, \"tip\": 9.0, \"sex\": \"Male\", \"smoker\": \"No\", \"day\": \"Sat\", \"time\": \"Dinner\", \"size\": 4}, {\"total_bill\": 13.27, \"tip\": 2.5, \"sex\": \"Female\", \"smoker\": \"Yes\", \"day\": \"Sat\", \"time\": \"Dinner\", \"size\": 2}, {\"total_bill\": 28.17, \"tip\": 6.5, \"sex\": \"Female\", \"smoker\": \"Yes\", \"day\": \"Sat\", \"time\": \"Dinner\", \"size\": 3}, {\"total_bill\": 12.9, \"tip\": 1.1, \"sex\": \"Female\", \"smoker\": \"Yes\", \"day\": \"Sat\", \"time\": \"Dinner\", \"size\": 2}, {\"total_bill\": 28.15, \"tip\": 3.0, \"sex\": \"Male\", \"smoker\": \"Yes\", \"day\": \"Sat\", \"time\": \"Dinner\", \"size\": 5}, {\"total_bill\": 11.59, \"tip\": 1.5, \"sex\": \"Male\", \"smoker\": \"Yes\", \"day\": \"Sat\", \"time\": \"Dinner\", \"size\": 2}, {\"total_bill\": 7.74, \"tip\": 1.44, \"sex\": \"Male\", \"smoker\": \"Yes\", \"day\": \"Sat\", \"time\": \"Dinner\", \"size\": 2}, {\"total_bill\": 30.14, \"tip\": 3.09, \"sex\": \"Female\", \"smoker\": \"Yes\", \"day\": \"Sat\", \"time\": \"Dinner\", \"size\": 4}, {\"total_bill\": 12.16, \"tip\": 2.2, \"sex\": \"Male\", \"smoker\": \"Yes\", \"day\": \"Fri\", \"time\": \"Lunch\", \"size\": 2}, {\"total_bill\": 13.42, \"tip\": 3.48, \"sex\": \"Female\", \"smoker\": \"Yes\", \"day\": \"Fri\", \"time\": \"Lunch\", \"size\": 2}, {\"total_bill\": 8.58, \"tip\": 1.92, \"sex\": \"Male\", \"smoker\": \"Yes\", \"day\": \"Fri\", \"time\": \"Lunch\", \"size\": 1}, {\"total_bill\": 15.98, \"tip\": 3.0, \"sex\": \"Female\", \"smoker\": \"No\", \"day\": \"Fri\", \"time\": \"Lunch\", \"size\": 3}, {\"total_bill\": 13.42, \"tip\": 1.58, \"sex\": \"Male\", \"smoker\": \"Yes\", \"day\": \"Fri\", \"time\": \"Lunch\", \"size\": 2}, {\"total_bill\": 16.27, \"tip\": 2.5, \"sex\": \"Female\", \"smoker\": \"Yes\", \"day\": \"Fri\", \"time\": \"Lunch\", \"size\": 2}, {\"total_bill\": 10.09, \"tip\": 2.0, \"sex\": \"Female\", \"smoker\": \"Yes\", \"day\": \"Fri\", \"time\": \"Lunch\", \"size\": 2}, {\"total_bill\": 20.45, \"tip\": 3.0, \"sex\": \"Male\", \"smoker\": \"No\", \"day\": \"Sat\", \"time\": \"Dinner\", \"size\": 4}, {\"total_bill\": 13.28, \"tip\": 2.72, \"sex\": \"Male\", \"smoker\": \"No\", \"day\": \"Sat\", \"time\": \"Dinner\", \"size\": 2}, {\"total_bill\": 22.12, \"tip\": 2.88, \"sex\": \"Female\", \"smoker\": \"Yes\", \"day\": \"Sat\", \"time\": \"Dinner\", \"size\": 2}, {\"total_bill\": 24.01, \"tip\": 2.0, \"sex\": \"Male\", \"smoker\": \"Yes\", \"day\": \"Sat\", \"time\": \"Dinner\", \"size\": 4}, {\"total_bill\": 15.69, \"tip\": 3.0, \"sex\": \"Male\", \"smoker\": \"Yes\", \"day\": \"Sat\", \"time\": \"Dinner\", \"size\": 3}, {\"total_bill\": 11.61, \"tip\": 3.39, \"sex\": \"Male\", \"smoker\": \"No\", \"day\": \"Sat\", \"time\": \"Dinner\", \"size\": 2}, {\"total_bill\": 10.77, \"tip\": 1.47, \"sex\": \"Male\", \"smoker\": \"No\", \"day\": \"Sat\", \"time\": \"Dinner\", \"size\": 2}, {\"total_bill\": 15.53, \"tip\": 3.0, \"sex\": \"Male\", \"smoker\": \"Yes\", \"day\": \"Sat\", \"time\": \"Dinner\", \"size\": 2}, {\"total_bill\": 10.07, \"tip\": 1.25, \"sex\": \"Male\", \"smoker\": \"No\", \"day\": \"Sat\", \"time\": \"Dinner\", \"size\": 2}, {\"total_bill\": 12.6, \"tip\": 1.0, \"sex\": \"Male\", \"smoker\": \"Yes\", \"day\": \"Sat\", \"time\": \"Dinner\", \"size\": 2}, {\"total_bill\": 32.83, \"tip\": 1.17, \"sex\": \"Male\", \"smoker\": \"Yes\", \"day\": \"Sat\", \"time\": \"Dinner\", \"size\": 2}, {\"total_bill\": 35.83, \"tip\": 4.67, \"sex\": \"Female\", \"smoker\": \"No\", \"day\": \"Sat\", \"time\": \"Dinner\", \"size\": 3}, {\"total_bill\": 29.03, \"tip\": 5.92, \"sex\": \"Male\", \"smoker\": \"No\", \"day\": \"Sat\", \"time\": \"Dinner\", \"size\": 3}, {\"total_bill\": 27.18, \"tip\": 2.0, \"sex\": \"Female\", \"smoker\": \"Yes\", \"day\": \"Sat\", \"time\": \"Dinner\", \"size\": 2}, {\"total_bill\": 22.67, \"tip\": 2.0, \"sex\": \"Male\", \"smoker\": \"Yes\", \"day\": \"Sat\", \"time\": \"Dinner\", \"size\": 2}, {\"total_bill\": 17.82, \"tip\": 1.75, \"sex\": \"Male\", \"smoker\": \"No\", \"day\": \"Sat\", \"time\": \"Dinner\", \"size\": 2}, {\"total_bill\": 18.78, \"tip\": 3.0, \"sex\": \"Female\", \"smoker\": \"No\", \"day\": \"Thur\", \"time\": \"Dinner\", \"size\": 2}]}}, {\"mode\": \"vega-lite\"});\n",
       "</script>"
      ],
      "text/plain": [
       "alt.VConcatChart(...)"
      ]
     },
     "execution_count": 233,
     "metadata": {},
     "output_type": "execute_result"
    }
   ],
   "source": [
    "# Create individual charts for each categorical column\n",
    "cat_charts = [\n",
    "    alt.Chart(tip_df)\n",
    "    .mark_bar(color='#4C78A8', opacity=0.85)\n",
    "    .encode(\n",
    "        x=alt.X('count()', title='Number of Records', axis=alt.Axis(labelFontSize=12, titleFontSize=14)),\n",
    "        y=alt.Y(f'{col}:N', title=col.capitalize(), axis=alt.Axis(labelFontSize=12, titleFontSize=14)),\n",
    "        tooltip=[alt.Tooltip('count()', title='Count'), alt.Tooltip(f'{col}:N', title=col.capitalize())]\n",
    "    )\n",
    "    .properties(\n",
    "        width=350,\n",
    "        height=80,\n",
    "        title=alt.TitleParams(\n",
    "            text=f'Distribution of {col.capitalize()}',\n",
    "            fontSize=16,\n",
    "            anchor='start'\n",
    "        )\n",
    "    )\n",
    "    for col in cat_column\n",
    "]\n",
    "\n",
    "# Arrange in 1, 2, 2 format\n",
    "category_chart = alt.vconcat(\n",
    "    cat_charts[0],\n",
    "    alt.hconcat(cat_charts[1], cat_charts[2]).properties(spacing=50),\n",
    "    alt.hconcat(cat_charts[3], cat_charts[4]).properties(spacing=50)\n",
    ").properties(\n",
    "    padding=20,\n",
    "    spacing=50,\n",
    "    title=alt.TitleParams(\n",
    "        text='Distribution of Categorical Variables in Tips Dataset',\n",
    "        fontSize=20,\n",
    "        subtitle=['Counts for each category in: sex, smoker, day, time, and party size'],\n",
    "        anchor='end',\n",
    "        dy=10\n",
    "    )\n",
    ").configure_axis(\n",
    "    grid=True,\n",
    "    gridColor='lightgray',\n",
    "    gridOpacity=0.3,\n",
    "    labelFont='Arial',\n",
    "    titleFont='Arial'\n",
    ").configure_view(\n",
    "    stroke=None\n",
    ").configure_title(\n",
    "    fontSize=20,\n",
    "    font='Arial',\n",
    "    anchor='start',\n",
    "    color='#333'\n",
    ")\n",
    "\n",
    "category_chart\n"
   ]
  },
  {
   "cell_type": "markdown",
   "id": "8d9a6ff2",
   "metadata": {},
   "source": [
    "### Conclusion from the above plot\n",
    "\n",
    "- **Gender Distribution:** Males constitute the majority, with 157 out of 244 records.\n",
    "- **Smoking Status:** Non-smokers are more prevalent (151 out of 244).\n",
    "- **Day of Visit:** Customer visits peak during the weekend (Saturday and Sunday) compared to weekdays.\n",
    "- **Time of Visit:** Dinner is the preferred meal time, with 176 out of 244 visits occurring at dinner.\n",
    "- **Party Size:** Most dining parties consist of two people, suggesting that couples may be the most common group, although the dataset does not explicitly confirm this.\n"
   ]
  },
  {
   "cell_type": "markdown",
   "id": "ced395ca",
   "metadata": {},
   "source": [
    "### Who Are the Majority of Smokers? Are They Males or Females?\n",
    "\n",
    "To understand the gender distribution among smokers in the dataset,<br>\n",
    " we examine the intersection of the `sex` and `smoker` columns.\n",
    "\n"
   ]
  },
  {
   "cell_type": "code",
   "execution_count": 234,
   "id": "9d754e8a",
   "metadata": {},
   "outputs": [
    {
     "data": {
      "image/png": "[encoded data removed]",
      "text/plain": [
       "<Figure size 800x600 with 1 Axes>"
      ]
     },
     "metadata": {},
     "output_type": "display_data"
    }
   ],
   "source": [
    "\n",
    "# Normalized crosstab\n",
    "gender_smoker_props = pd.crosstab(tip_df['sex'], tip_df['smoker'], normalize='index')\n",
    "\n",
    "# Create plot\n",
    "ax = gender_smoker_props.plot(\n",
    "    kind='barh',\n",
    "    stacked=True,\n",
    "    color=['#AEC6CF', '#FFB347'],\n",
    "    figsize=(8, 6)\n",
    ")\n",
    "\n",
    "# Title and labels\n",
    "plt.title('Proportion of Smokers and Non-Smokers by Gender\\n(~62% of both men and women are non-smokers)')\n",
    "plt.xlabel('Gender')\n",
    "plt.ylabel('Proportion')\n",
    "\n",
    "# Add grid on y-axis\n",
    "plt.grid(axis='x', linestyle='--', alpha=0.7)\n",
    "\n",
    "# Place legend outside the plot\n",
    "plt.legend(title='Smoker', bbox_to_anchor=(1.05, 1), loc='upper left')\n",
    "\n",
    "plt.tight_layout()\n",
    "plt.show()"
   ]
  },
  {
   "cell_type": "markdown",
   "id": "2c596345",
   "metadata": {},
   "source": [
    "**Findings:**\n",
    "\n",
    "Approximately 62% of both men and women in the dataset are non-smokers. This indicates that non-smoking is the majority status across both genders, with a similar proportion for males and females."
   ]
  },
  {
   "cell_type": "markdown",
   "id": "d6cf32f2",
   "metadata": {},
   "source": [
    "**Question:**  \n",
    "**Who pays more tip, men or women?**  \n",
    "*Are tipping patterns different for men and women?*\n",
    "\n",
    "\n"
   ]
  },
  {
   "cell_type": "code",
   "execution_count": 235,
   "id": "e9f0e0c1",
   "metadata": {},
   "outputs": [
    {
     "data": {
      "application/vnd.plotly.v1+json": {
       "config": {
        "plotlyServerURL": "https://plot.ly"
       },
       "data": [
        {
         "alignmentgroup": "True",
         "hovertemplate": "Gender=%{x}<br>Tip Amount (USD)=%{y}<extra></extra>",
         "legendgroup": "Female",
         "marker": {
          "color": "#636efa",
          "line": {
           "color": "black",
           "width": 2
          }
         },
         "name": "Female",
         "notched": false,
         "offsetgroup": "Female",
         "orientation": "v",
         "showlegend": true,
         "type": "box",
         "x": [
          "Female",
          "Female",
          "Female",
          "Female",
          "Female",
          "Female",
          "Female",
          "Female",
          "Female",
          "Female",
          "Female",
          "Female",
          "Female",
          "Female",
          "Female",
          "Female",
          "Female",
          "Female",
          "Female",
          "Female",
          "Female",
          "Female",
          "Female",
          "Female",
          "Female",
          "Female",
          "Female",
          "Female",
          "Female",
          "Female",
          "Female",
          "Female",
          "Female",
          "Female",
          "Female",
          "Female",
          "Female",
          "Female",
          "Female",
          "Female",
          "Female",
          "Female",
          "Female",
          "Female",
          "Female",
          "Female",
          "Female",
          "Female",
          "Female",
          "Female",
          "Female",
          "Female",
          "Female",
          "Female",
          "Female",
          "Female",
          "Female",
          "Female",
          "Female",
          "Female",
          "Female",
          "Female",
          "Female",
          "Female",
          "Female",
          "Female",
          "Female",
          "Female",
          "Female",
          "Female",
          "Female",
          "Female",
          "Female",
          "Female",
          "Female",
          "Female",
          "Female",
          "Female",
          "Female",
          "Female",
          "Female",
          "Female",
          "Female",
          "Female",
          "Female",
          "Female",
          "Female"
         ],
         "x0": " ",
         "xaxis": "x",
         "y": {
          "bdata": "KVyPwvUo8D/hehSuR+EMQAAAAAAAABRAKVyPwvUoCEC4HoXrUbj6PwAAAAAAAAxAAAAAAAAABkDXo3A9CtcBQAAAAAAAAAhAAAAAAAAACECamZmZmZkDQI/C9ShcjwhAzczMzMzMBEDNzMzMzMwUQAAAAAAAAPg/w/UoXI/CA0AAAAAAAADwPwAAAAAAAAhAH4XrUbgeCUAAAAAAAAAUQJqZmZmZmQFASOF6FK5H/T+uR+F6FK4UQAAAAAAAAPA/MzMzMzMzEUAAAAAAAAAKQAAAAAAAAARAAAAAAAAACEAAAAAAAAAEQNejcD0K1wtAUrgehetREEAAAAAAAAAQQAAAAAAAAPA/AAAAAAAAEEAAAAAAAAAMQAAAAAAAAPg/zczMzMzM/D9cj8L1KFwHQOF6FK5H4fo/KVyPwvUoBEDNzMzMzMwQQAAAAAAAAABAAAAAAAAAAECkcD0K16MGQAAAAAAAAPg/AAAAAAAAAEAAAAAAAAAKQAAAAAAAAPQ/AAAAAAAAAEAAAAAAAAAAQAAAAAAAAAZAAAAAAAAADEAAAAAAAAAUQGZmZmZmZgJAAAAAAAAA+D/D9Shcj8L1PxSuR+F6FPo/j8L1KFyPFEAAAAAAAAAOQOF6FK5H4QRAAAAAAAAAAEAAAAAAAAAIQMP1KFyPwvk/AAAAAAAAAEAAAAAAAAAQQAAAAAAAAAxAAAAAAAAADEDD9Shcj8IQQAAAAAAAABRAAAAAAAAAAEAUrkfhehQAQAAAAAAAAABAAAAAAAAABEDXo3A9CtcJQNejcD0K1wFAAAAAAAAABEAAAAAAAAAaQJqZmZmZmfE/uB6F61G4CEDXo3A9CtcLQAAAAAAAAAhAAAAAAAAABEAAAAAAAAAAQArXo3A9CgdArkfhehSuEkAAAAAAAAAAQAAAAAAAAAhA",
          "dtype": "f8"
         },
         "y0": " ",
         "yaxis": "y"
        },
        {
         "alignmentgroup": "True",
         "hovertemplate": "Gender=%{x}<br>Tip Amount (USD)=%{y}<extra></extra>",
         "legendgroup": "Male",
         "marker": {
          "color": "#EF553B",
          "line": {
           "color": "black",
           "width": 2
          }
         },
         "name": "Male",
         "notched": false,
         "offsetgroup": "Male",
         "orientation": "v",
         "showlegend": true,
         "type": "box",
         "x": [
          "Male",
          "Male",
          "Male",
          "Male",
          "Male",
          "Male",
          "Male",
          "Male",
          "Male",
          "Male",
          "Male",
          "Male",
          "Male",
          "Male",
          "Male",
          "Male",
          "Male",
          "Male",
          "Male",
          "Male",
          "Male",
          "Male",
          "Male",
          "Male",
          "Male",
          "Male",
          "Male",
          "Male",
          "Male",
          "Male",
          "Male",
          "Male",
          "Male",
          "Male",
          "Male",
          "Male",
          "Male",
          "Male",
          "Male",
          "Male",
          "Male",
          "Male",
          "Male",
          "Male",
          "Male",
          "Male",
          "Male",
          "Male",
          "Male",
          "Male",
          "Male",
          "Male",
          "Male",
          "Male",
          "Male",
          "Male",
          "Male",
          "Male",
          "Male",
          "Male",
          "Male",
          "Male",
          "Male",
          "Male",
          "Male",
          "Male",
          "Male",
          "Male",
          "Male",
          "Male",
          "Male",
          "Male",
          "Male",
          "Male",
          "Male",
          "Male",
          "Male",
          "Male",
          "Male",
          "Male",
          "Male",
          "Male",
          "Male",
          "Male",
          "Male",
          "Male",
          "Male",
          "Male",
          "Male",
          "Male",
          "Male",
          "Male",
          "Male",
          "Male",
          "Male",
          "Male",
          "Male",
          "Male",
          "Male",
          "Male",
          "Male",
          "Male",
          "Male",
          "Male",
          "Male",
          "Male",
          "Male",
          "Male",
          "Male",
          "Male",
          "Male",
          "Male",
          "Male",
          "Male",
          "Male",
          "Male",
          "Male",
          "Male",
          "Male",
          "Male",
          "Male",
          "Male",
          "Male",
          "Male",
          "Male",
          "Male",
          "Male",
          "Male",
          "Male",
          "Male",
          "Male",
          "Male",
          "Male",
          "Male",
          "Male",
          "Male",
          "Male",
          "Male",
          "Male",
          "Male",
          "Male",
          "Male",
          "Male",
          "Male",
          "Male",
          "Male",
          "Male",
          "Male",
          "Male",
          "Male",
          "Male",
          "Male",
          "Male",
          "Male",
          "Male",
          "Male",
          "Male"
         ],
         "x0": " ",
         "xaxis": "x",
         "y": {
          "bdata": "j8L1KFyP+j8AAAAAAAAMQHsUrkfhegpA16NwPQrXEkAAAAAAAAAAQPYoXI/C9QhAXI/C9Shc/z/Xo3A9CtcJQFyPwvUoXPs/H4XrUbge+T8AAAAAAAAIQFyPwvUoXA9ArkfhehSuDUDNzMzMzMwKQFK4HoXrURBAUrgehetRHkBxPQrXo3AJQLgehetRuAJAAAAAAAAAAEAAAAAAAAAAQDMzMzMzMxFAMzMzMzMz9z8AAAAAAAAEQClcj8L1KApAzczMzMzMDEAAAAAAAAAAQHsUrkfhegJAAAAAAAAAFEDsUbgehesBQFK4HoXrUQRAexSuR+F6CEAfhetRuB71P2ZmZmZmZhZAAAAAAAAACEAAAAAAAAAUQAAAAAAAABhAZmZmZmZmAEAAAAAAAAAIQAAAAAAAAARA9ihcj8L1+D9cj8L1KFwRQBSuR+F6FAxAAAAAAAAACEApXI/C9Sj8P+xRuB6F6xpArkfhehSuCUAAAAAAAAAAQK5H4XoUrv8/FK5H4XoUDkAfhetRuB4FQDMzMzMzMwlAFK5H4XoUAEC4HoXrUbgAQIXrUbgehf8/AAAAAAAA9D+kcD0K16MIQAAAAAAAABBAAAAAAAAACECuR+F6FK4FQAAAAAAAAAhAMzMzMzMzC0AAAAAAAAAUQD0K16NwPQBAAAAAAAAAAEAAAAAAAAAQQGZmZmZmZhdAAAAAAAAACEAAAAAAAAAIQAAAAAAAAAxA7FG4HoXrEkAAAAAAAAAQQAAAAAAAAPg/AAAAAAAACEAAAAAAAAD4Pz0K16NwPfo/PQrXo3A9EEApXI/C9SgRQBSuR+F6FA5AAAAAAAAACEAAAAAAAAAQQGZmZmZmZgRASOF6FK5HFEB7FK5H4XoCQAAAAAAAAARAAAAAAAAAAECuR+F6FK73P3E9CtejcAFAAAAAAAAA+D8AAAAAAAAAQM3MzMzMzBpAAAAAAAAAFECuR+F6FK77PwAAAAAAAABAAAAAAAAABEAAAAAAAAAAQOxRuB6F6wVAAAAAAAAAAEAAAAAAAAAAQAAAAAAAABRAAAAAAAAAAEAAAAAAAAAMQAAAAAAAAARAAAAAAAAAAEDXo3A9CtcLQOxRuB6F6wFAAAAAAAAAEkAAAAAAAAAkQEjhehSuRwlAmpmZmZmZFEBxPQrXo3AJQAAAAAAAABBA4XoUrkfhCEAAAAAAAAAAQAAAAAAAAABAZmZmZmZmDEBxPQrXo3ANQJqZmZmZmRZAAAAAAAAADEAAAAAAAAAaQAAAAAAAAAhAAAAAAAAAFEAAAAAAAAAAQAAAAAAAABBAAAAAAAAA+D97FK5H4XoEQClcj8L1KABAAAAAAAAAEEAK16NwPQr3PwAAAAAAAABAAAAAAAAAAEAAAAAAAAAQQAAAAAAAABBASOF6FK5HC0AAAAAAAAAIQD0K16NwPQBAAAAAAAAAAECkcD0K16MUQAAAAAAAACJAAAAAAAAACEAAAAAAAAD4PwrXo3A9Cvc/mpmZmZmZAUC4HoXrUbj+P0jhehSuR/k/AAAAAAAACEDD9Shcj8IFQAAAAAAAAABAAAAAAAAACEAfhetRuB4LQIXrUbgehfc/AAAAAAAACEAAAAAAAAD0PwAAAAAAAPA/uB6F61G48j+uR+F6FK4XQAAAAAAAAABAAAAAAAAA/D8=",
          "dtype": "f8"
         },
         "y0": " ",
         "yaxis": "y"
        }
       ],
       "layout": {
        "boxmode": "overlay",
        "font": {
         "family": "Arial",
         "size": 14
        },
        "height": 450,
        "legend": {
         "title": {
          "text": "Gender"
         },
         "tracegroupgap": 0
        },
        "margin": {
         "b": 40,
         "l": 40,
         "r": 40,
         "t": 100
        },
        "template": {
         "data": {
          "bar": [
           {
            "error_x": {
             "color": "#2a3f5f"
            },
            "error_y": {
             "color": "#2a3f5f"
            },
            "marker": {
             "line": {
              "color": "white",
              "width": 0.5
             },
             "pattern": {
              "fillmode": "overlay",
              "size": 10,
              "solidity": 0.2
             }
            },
            "type": "bar"
           }
          ],
          "barpolar": [
           {
            "marker": {
             "line": {
              "color": "white",
              "width": 0.5
             },
             "pattern": {
              "fillmode": "overlay",
              "size": 10,
              "solidity": 0.2
             }
            },
            "type": "barpolar"
           }
          ],
          "carpet": [
           {
            "aaxis": {
             "endlinecolor": "#2a3f5f",
             "gridcolor": "#C8D4E3",
             "linecolor": "#C8D4E3",
             "minorgridcolor": "#C8D4E3",
             "startlinecolor": "#2a3f5f"
            },
            "baxis": {
             "endlinecolor": "#2a3f5f",
             "gridcolor": "#C8D4E3",
             "linecolor": "#C8D4E3",
             "minorgridcolor": "#C8D4E3",
             "startlinecolor": "#2a3f5f"
            },
            "type": "carpet"
           }
          ],
          "choropleth": [
           {
            "colorbar": {
             "outlinewidth": 0,
             "ticks": ""
            },
            "type": "choropleth"
           }
          ],
          "contour": [
           {
            "colorbar": {
             "outlinewidth": 0,
             "ticks": ""
            },
            "colorscale": [
             [
              0,
              "#0d0887"
             ],
             [
              0.1111111111111111,
              "#46039f"
             ],
             [
              0.2222222222222222,
              "#7201a8"
             ],
             [
              0.3333333333333333,
              "#9c179e"
             ],
             [
              0.4444444444444444,
              "#bd3786"
             ],
             [
              0.5555555555555556,
              "#d8576b"
             ],
             [
              0.6666666666666666,
              "#ed7953"
             ],
             [
              0.7777777777777778,
              "#fb9f3a"
             ],
             [
              0.8888888888888888,
              "#fdca26"
             ],
             [
              1,
              "#f0f921"
             ]
            ],
            "type": "contour"
           }
          ],
          "contourcarpet": [
           {
            "colorbar": {
             "outlinewidth": 0,
             "ticks": ""
            },
            "type": "contourcarpet"
           }
          ],
          "heatmap": [
           {
            "colorbar": {
             "outlinewidth": 0,
             "ticks": ""
            },
            "colorscale": [
             [
              0,
              "#0d0887"
             ],
             [
              0.1111111111111111,
              "#46039f"
             ],
             [
              0.2222222222222222,
              "#7201a8"
             ],
             [
              0.3333333333333333,
              "#9c179e"
             ],
             [
              0.4444444444444444,
              "#bd3786"
             ],
             [
              0.5555555555555556,
              "#d8576b"
             ],
             [
              0.6666666666666666,
              "#ed7953"
             ],
             [
              0.7777777777777778,
              "#fb9f3a"
             ],
             [
              0.8888888888888888,
              "#fdca26"
             ],
             [
              1,
              "#f0f921"
             ]
            ],
            "type": "heatmap"
           }
          ],
          "histogram": [
           {
            "marker": {
             "pattern": {
              "fillmode": "overlay",
              "size": 10,
              "solidity": 0.2
             }
            },
            "type": "histogram"
           }
          ],
          "histogram2d": [
           {
            "colorbar": {
             "outlinewidth": 0,
             "ticks": ""
            },
            "colorscale": [
             [
              0,
              "#0d0887"
             ],
             [
              0.1111111111111111,
              "#46039f"
             ],
             [
              0.2222222222222222,
              "#7201a8"
             ],
             [
              0.3333333333333333,
              "#9c179e"
             ],
             [
              0.4444444444444444,
              "#bd3786"
             ],
             [
              0.5555555555555556,
              "#d8576b"
             ],
             [
              0.6666666666666666,
              "#ed7953"
             ],
             [
              0.7777777777777778,
              "#fb9f3a"
             ],
             [
              0.8888888888888888,
              "#fdca26"
             ],
             [
              1,
              "#f0f921"
             ]
            ],
            "type": "histogram2d"
           }
          ],
          "histogram2dcontour": [
           {
            "colorbar": {
             "outlinewidth": 0,
             "ticks": ""
            },
            "colorscale": [
             [
              0,
              "#0d0887"
             ],
             [
              0.1111111111111111,
              "#46039f"
             ],
             [
              0.2222222222222222,
              "#7201a8"
             ],
             [
              0.3333333333333333,
              "#9c179e"
             ],
             [
              0.4444444444444444,
              "#bd3786"
             ],
             [
              0.5555555555555556,
              "#d8576b"
             ],
             [
              0.6666666666666666,
              "#ed7953"
             ],
             [
              0.7777777777777778,
              "#fb9f3a"
             ],
             [
              0.8888888888888888,
              "#fdca26"
             ],
             [
              1,
              "#f0f921"
             ]
            ],
            "type": "histogram2dcontour"
           }
          ],
          "mesh3d": [
           {
            "colorbar": {
             "outlinewidth": 0,
             "ticks": ""
            },
            "type": "mesh3d"
           }
          ],
          "parcoords": [
           {
            "line": {
             "colorbar": {
              "outlinewidth": 0,
              "ticks": ""
             }
            },
            "type": "parcoords"
           }
          ],
          "pie": [
           {
            "automargin": true,
            "type": "pie"
           }
          ],
          "scatter": [
           {
            "fillpattern": {
             "fillmode": "overlay",
             "size": 10,
             "solidity": 0.2
            },
            "type": "scatter"
           }
          ],
          "scatter3d": [
           {
            "line": {
             "colorbar": {
              "outlinewidth": 0,
              "ticks": ""
             }
            },
            "marker": {
             "colorbar": {
              "outlinewidth": 0,
              "ticks": ""
             }
            },
            "type": "scatter3d"
           }
          ],
          "scattercarpet": [
           {
            "marker": {
             "colorbar": {
              "outlinewidth": 0,
              "ticks": ""
             }
            },
            "type": "scattercarpet"
           }
          ],
          "scattergeo": [
           {
            "marker": {
             "colorbar": {
              "outlinewidth": 0,
              "ticks": ""
             }
            },
            "type": "scattergeo"
           }
          ],
          "scattergl": [
           {
            "marker": {
             "colorbar": {
              "outlinewidth": 0,
              "ticks": ""
             }
            },
            "type": "scattergl"
           }
          ],
          "scattermap": [
           {
            "marker": {
             "colorbar": {
              "outlinewidth": 0,
              "ticks": ""
             }
            },
            "type": "scattermap"
           }
          ],
          "scattermapbox": [
           {
            "marker": {
             "colorbar": {
              "outlinewidth": 0,
              "ticks": ""
             }
            },
            "type": "scattermapbox"
           }
          ],
          "scatterpolar": [
           {
            "marker": {
             "colorbar": {
              "outlinewidth": 0,
              "ticks": ""
             }
            },
            "type": "scatterpolar"
           }
          ],
          "scatterpolargl": [
           {
            "marker": {
             "colorbar": {
              "outlinewidth": 0,
              "ticks": ""
             }
            },
            "type": "scatterpolargl"
           }
          ],
          "scatterternary": [
           {
            "marker": {
             "colorbar": {
              "outlinewidth": 0,
              "ticks": ""
             }
            },
            "type": "scatterternary"
           }
          ],
          "surface": [
           {
            "colorbar": {
             "outlinewidth": 0,
             "ticks": ""
            },
            "colorscale": [
             [
              0,
              "#0d0887"
             ],
             [
              0.1111111111111111,
              "#46039f"
             ],
             [
              0.2222222222222222,
              "#7201a8"
             ],
             [
              0.3333333333333333,
              "#9c179e"
             ],
             [
              0.4444444444444444,
              "#bd3786"
             ],
             [
              0.5555555555555556,
              "#d8576b"
             ],
             [
              0.6666666666666666,
              "#ed7953"
             ],
             [
              0.7777777777777778,
              "#fb9f3a"
             ],
             [
              0.8888888888888888,
              "#fdca26"
             ],
             [
              1,
              "#f0f921"
             ]
            ],
            "type": "surface"
           }
          ],
          "table": [
           {
            "cells": {
             "fill": {
              "color": "#EBF0F8"
             },
             "line": {
              "color": "white"
             }
            },
            "header": {
             "fill": {
              "color": "#C8D4E3"
             },
             "line": {
              "color": "white"
             }
            },
            "type": "table"
           }
          ]
         },
         "layout": {
          "annotationdefaults": {
           "arrowcolor": "#2a3f5f",
           "arrowhead": 0,
           "arrowwidth": 1
          },
          "autotypenumbers": "strict",
          "coloraxis": {
           "colorbar": {
            "outlinewidth": 0,
            "ticks": ""
           }
          },
          "colorscale": {
           "diverging": [
            [
             0,
             "#8e0152"
            ],
            [
             0.1,
             "#c51b7d"
            ],
            [
             0.2,
             "#de77ae"
            ],
            [
             0.3,
             "#f1b6da"
            ],
            [
             0.4,
             "#fde0ef"
            ],
            [
             0.5,
             "#f7f7f7"
            ],
            [
             0.6,
             "#e6f5d0"
            ],
            [
             0.7,
             "#b8e186"
            ],
            [
             0.8,
             "#7fbc41"
            ],
            [
             0.9,
             "#4d9221"
            ],
            [
             1,
             "#276419"
            ]
           ],
           "sequential": [
            [
             0,
             "#0d0887"
            ],
            [
             0.1111111111111111,
             "#46039f"
            ],
            [
             0.2222222222222222,
             "#7201a8"
            ],
            [
             0.3333333333333333,
             "#9c179e"
            ],
            [
             0.4444444444444444,
             "#bd3786"
            ],
            [
             0.5555555555555556,
             "#d8576b"
            ],
            [
             0.6666666666666666,
             "#ed7953"
            ],
            [
             0.7777777777777778,
             "#fb9f3a"
            ],
            [
             0.8888888888888888,
             "#fdca26"
            ],
            [
             1,
             "#f0f921"
            ]
           ],
           "sequentialminus": [
            [
             0,
             "#0d0887"
            ],
            [
             0.1111111111111111,
             "#46039f"
            ],
            [
             0.2222222222222222,
             "#7201a8"
            ],
            [
             0.3333333333333333,
             "#9c179e"
            ],
            [
             0.4444444444444444,
             "#bd3786"
            ],
            [
             0.5555555555555556,
             "#d8576b"
            ],
            [
             0.6666666666666666,
             "#ed7953"
            ],
            [
             0.7777777777777778,
             "#fb9f3a"
            ],
            [
             0.8888888888888888,
             "#fdca26"
            ],
            [
             1,
             "#f0f921"
            ]
           ]
          },
          "colorway": [
           "#636efa",
           "#EF553B",
           "#00cc96",
           "#ab63fa",
           "#FFA15A",
           "#19d3f3",
           "#FF6692",
           "#B6E880",
           "#FF97FF",
           "#FECB52"
          ],
          "font": {
           "color": "#2a3f5f"
          },
          "geo": {
           "bgcolor": "white",
           "lakecolor": "white",
           "landcolor": "white",
           "showlakes": true,
           "showland": true,
           "subunitcolor": "#C8D4E3"
          },
          "hoverlabel": {
           "align": "left"
          },
          "hovermode": "closest",
          "mapbox": {
           "style": "light"
          },
          "paper_bgcolor": "white",
          "plot_bgcolor": "white",
          "polar": {
           "angularaxis": {
            "gridcolor": "#EBF0F8",
            "linecolor": "#EBF0F8",
            "ticks": ""
           },
           "bgcolor": "white",
           "radialaxis": {
            "gridcolor": "#EBF0F8",
            "linecolor": "#EBF0F8",
            "ticks": ""
           }
          },
          "scene": {
           "xaxis": {
            "backgroundcolor": "white",
            "gridcolor": "#DFE8F3",
            "gridwidth": 2,
            "linecolor": "#EBF0F8",
            "showbackground": true,
            "ticks": "",
            "zerolinecolor": "#EBF0F8"
           },
           "yaxis": {
            "backgroundcolor": "white",
            "gridcolor": "#DFE8F3",
            "gridwidth": 2,
            "linecolor": "#EBF0F8",
            "showbackground": true,
            "ticks": "",
            "zerolinecolor": "#EBF0F8"
           },
           "zaxis": {
            "backgroundcolor": "white",
            "gridcolor": "#DFE8F3",
            "gridwidth": 2,
            "linecolor": "#EBF0F8",
            "showbackground": true,
            "ticks": "",
            "zerolinecolor": "#EBF0F8"
           }
          },
          "shapedefaults": {
           "line": {
            "color": "#2a3f5f"
           }
          },
          "ternary": {
           "aaxis": {
            "gridcolor": "#DFE8F3",
            "linecolor": "#A2B1C6",
            "ticks": ""
           },
           "baxis": {
            "gridcolor": "#DFE8F3",
            "linecolor": "#A2B1C6",
            "ticks": ""
           },
           "bgcolor": "white",
           "caxis": {
            "gridcolor": "#DFE8F3",
            "linecolor": "#A2B1C6",
            "ticks": ""
           }
          },
          "title": {
           "x": 0.05
          },
          "xaxis": {
           "automargin": true,
           "gridcolor": "#EBF0F8",
           "linecolor": "#EBF0F8",
           "ticks": "",
           "title": {
            "standoff": 15
           },
           "zerolinecolor": "#EBF0F8",
           "zerolinewidth": 2
          },
          "yaxis": {
           "automargin": true,
           "gridcolor": "#EBF0F8",
           "linecolor": "#EBF0F8",
           "ticks": "",
           "title": {
            "standoff": 15
           },
           "zerolinecolor": "#EBF0F8",
           "zerolinewidth": 2
          }
         }
        },
        "title": {
         "font": {
          "family": "Arial",
          "size": 20
         },
         "text": "Men Tend to Tip More Than Women<br><sup>Box plot to show tipping patterns based on gender</sup>",
         "x": 0.5,
         "xanchor": "center"
        },
        "width": 600,
        "xaxis": {
         "anchor": "y",
         "categoryarray": [
          "Female",
          "Male"
         ],
         "categoryorder": "category ascending",
         "domain": [
          0,
          1
         ],
         "tickangle": 0,
         "tickfont": {
          "size": 14
         },
         "title": {
          "standoff": 40,
          "text": "Gender"
         }
        },
        "yaxis": {
         "anchor": "x",
         "domain": [
          0,
          1
         ],
         "title": {
          "text": "Tip Amount (USD)"
         }
        }
       }
      }
     },
     "metadata": {},
     "output_type": "display_data"
    }
   ],
   "source": [
    "\n",
    "# Create the box plot\n",
    "fig_sex_tip = px.box(\n",
    "    data_frame=tip_df,\n",
    "    x='sex',\n",
    "    y='tip',\n",
    "    color='sex',\n",
    "    title='',\n",
    "    labels={'sex': 'Gender', 'tip': 'Tip Amount (USD)'},\n",
    "    template='plotly_white'\n",
    ")\n",
    "\n",
    "# Add black outline to boxes\n",
    "fig_sex_tip.update_traces(marker=dict(line=dict(width=2, color='black')))\n",
    "\n",
    "# Update layout with main title and subtitle\n",
    "fig_sex_tip.update_layout(\n",
    "    xaxis=dict(\n",
    "        title='Gender',\n",
    "        tickfont=dict(size=14),\n",
    "        title_standoff=40,     # Adds spacing between axis title and tick labels\n",
    "        tickangle=0,           # Keep labels horizontal\n",
    "        categoryorder='category ascending',\n",
    "    ),\n",
    "    title={\n",
    "        'text': 'Men Tend to Tip More Than Women<br><sup>Box plot to show tipping patterns based on gender</sup>',\n",
    "        'x': 0.5,\n",
    "        'xanchor': 'center'\n",
    "    },\n",
    "    title_font=dict(size=20, family='Arial'),\n",
    "    font=dict(size=14, family='Arial'),\n",
    "    legend_title='Gender',\n",
    "    width=600,\n",
    "    height=450,\n",
    "    margin=dict(l=40, r=40, t=100, b=40),\n",
    "    \n",
    ")\n",
    "\n",
    "# Display the plot\n",
    "fig_sex_tip.show()\n"
   ]
  },
  {
   "cell_type": "markdown",
   "id": "d69e86fc",
   "metadata": {},
   "source": [
    "- **Findings:**  \n",
    "    - **Men** tend to tip slightly more than **women** on average.\n",
    "    - The maximum tip given by men is higher (\\$10.00) compared to women (\\$6.50).\n",
    "    - Male customers show more high-value outliers (tips above \\$6), while female tips have only one notable outlier at \\$6.50.\n",
    "    - Typical tipping patterns are similar, but men are more likely to leave exceptionally large tips.\n",
    "\n",
    "- **Conclusion:**  \n",
    "    While both genders have similar median tipping behavior, men are more likely to leave higher and more variable tips than women."
   ]
  },
  {
   "cell_type": "markdown",
   "id": "ea3cae77",
   "metadata": {},
   "source": [
    "###  How are the `total_bill` and `tip` related by gender?\n",
    "\n",
    "- **Does a larger bill result in a larger tip?**\n"
   ]
  },
  {
   "cell_type": "code",
   "execution_count": 236,
   "id": "cff00e57",
   "metadata": {},
   "outputs": [
    {
     "data": {
      "application/vnd.plotly.v1+json": {
       "config": {
        "plotlyServerURL": "https://plot.ly"
       },
       "data": [
        {
         "hovertemplate": "Gender=Female<br>Total Bill (USD)=%{x}<br>Tip Amount (USD)=%{y}<extra></extra>",
         "legendgroup": "Female",
         "marker": {
          "color": "#636efa",
          "line": {
           "color": "black",
           "width": 1
          },
          "size": 10,
          "symbol": "circle"
         },
         "mode": "markers",
         "name": "Female",
         "orientation": "v",
         "showlegend": true,
         "type": "scatter",
         "x": {
          "bdata": "PQrXo3D9MEDXo3A9Cpc4QOF6FK5HoUFAKVyPwvWoLUApXI/C9agkQLgehetR+DBACtejcD1KNEAK16NwPYovQGZmZmZmpjNAH4XrUbgeLkBxPQrXo7A0QK5H4XoU7jBAFK5H4XqUJEBI4XoUrmdBQClcj8L1aDpAMzMzMzNzMECPwvUoXI8IQFK4HoXrETFAXI/C9SjcOkBI4XoUrkc5QPYoXI/CdS1ApHA9CtcjJEAK16NwPWpBQAAAAAAAABdAUrgehetRMEAAAAAAAMA2QDMzMzMzsyZAw/UoXI/CLkBmZmZmZiZGQOxRuB6FazZA7FG4HoXrNEAfhetRuJ4sQAAAAAAAAB1A9ihcj8K1OUCPwvUoXE8xQM3MzMzMTCVAXI/C9SjcKEAUrkfhehQ4QNejcD0K1ypA9ihcj8L1KEDNzMzMzMw9QArXo3A9Ci1Aw/UoXI/CJkCF61G4HkU0QNejcD0KVyZAhetRuB6FKEDD9Shcj0IyQIXrUbgeBSFAKVyPwvWoJEDNzMzMzEwsQFK4HoXrUSpAuB6F61F4MUDNzMzMzAw7QK5H4XoUbjBAMzMzMzOzIECkcD0K16MyQD0K16NwvSdAmpmZmZnZPUAAAAAAAAA5QEjhehSuxypA9ihcj8I1MEDD9Shcj4IxQK5H4XoULiVAw/UoXI9CJUAzMzMzMzMjQGZmZmZm5jRAZmZmZmYmMkCPwvUoXM8zQK5H4XoUjkVAAAAAAAAAKkB7FK5H4XopQAAAAAAAACpAZmZmZmZmMEC4HoXrUXgwQIXrUbgehSlACtejcD2KKkDsUbgehSs8QM3MzMzMzClApHA9CtcjPkDXo3A9CtcqQPYoXI/C9S9AhetRuB5FMECuR+F6FC4kQB+F61G4HjZACtejcD3qQUCuR+F6FC47QEjhehSuxzJA",
          "dtype": "f8"
         },
         "xaxis": "x",
         "y": {
          "bdata": "KVyPwvUo8D/hehSuR+EMQAAAAAAAABRAKVyPwvUoCEC4HoXrUbj6PwAAAAAAAAxAAAAAAAAABkDXo3A9CtcBQAAAAAAAAAhAAAAAAAAACECamZmZmZkDQI/C9ShcjwhAzczMzMzMBEDNzMzMzMwUQAAAAAAAAPg/w/UoXI/CA0AAAAAAAADwPwAAAAAAAAhAH4XrUbgeCUAAAAAAAAAUQJqZmZmZmQFASOF6FK5H/T+uR+F6FK4UQAAAAAAAAPA/MzMzMzMzEUAAAAAAAAAKQAAAAAAAAARAAAAAAAAACEAAAAAAAAAEQNejcD0K1wtAUrgehetREEAAAAAAAAAQQAAAAAAAAPA/AAAAAAAAEEAAAAAAAAAMQAAAAAAAAPg/zczMzMzM/D9cj8L1KFwHQOF6FK5H4fo/KVyPwvUoBEDNzMzMzMwQQAAAAAAAAABAAAAAAAAAAECkcD0K16MGQAAAAAAAAPg/AAAAAAAAAEAAAAAAAAAKQAAAAAAAAPQ/AAAAAAAAAEAAAAAAAAAAQAAAAAAAAAZAAAAAAAAADEAAAAAAAAAUQGZmZmZmZgJAAAAAAAAA+D/D9Shcj8L1PxSuR+F6FPo/j8L1KFyPFEAAAAAAAAAOQOF6FK5H4QRAAAAAAAAAAEAAAAAAAAAIQMP1KFyPwvk/AAAAAAAAAEAAAAAAAAAQQAAAAAAAAAxAAAAAAAAADEDD9Shcj8IQQAAAAAAAABRAAAAAAAAAAEAUrkfhehQAQAAAAAAAAABAAAAAAAAABEDXo3A9CtcJQNejcD0K1wFAAAAAAAAABEAAAAAAAAAaQJqZmZmZmfE/uB6F61G4CEDXo3A9CtcLQAAAAAAAAAhAAAAAAAAABEAAAAAAAAAAQArXo3A9CgdArkfhehSuEkAAAAAAAAAAQAAAAAAAAAhA",
          "dtype": "f8"
         },
         "yaxis": "y"
        },
        {
         "hovertemplate": "Gender=Male<br>Total Bill (USD)=%{x}<br>Tip Amount (USD)=%{y}<extra></extra>",
         "legendgroup": "Male",
         "marker": {
          "color": "#EF553B",
          "line": {
           "color": "black",
           "width": 1
          },
          "size": 10,
          "symbol": "circle"
         },
         "mode": "markers",
         "name": "Male",
         "orientation": "v",
         "showlegend": true,
         "type": "scatter",
         "x": {
          "bdata": "rkfhehSuJEDD9ShcjwI1QK5H4XoUrjdACtejcD1KOUAK16NwPYohQOF6FK5H4TpAFK5H4XoULkCPwvUoXI8tQArXo3A9iiRA16NwPQrXLkCuR+F6FG4yQBSuR+F6lDVACtejcD1KMEBmZmZmZqY0QOxRuB6F6zFA9ihcj8K1Q0BSuB6F69EzQI/C9ShczzFAPQrXo3C9KkDhehSuR2EpQDMzMzMzszVAmpmZmZkZI0CamZmZmVkyQEjhehSuxzFAj8L1KFwPOECPwvUoXE8wQHE9CtejsDJAhetRuB5FP0AK16NwPQowQPYoXI/CdTFA4XoUrkfhK0Bcj8L1KFwjQGZmZmZmZj5ACtejcD1KMkB7FK5H4To2QDMzMzMzM0BAzczMzMyMPEAK16NwPQoyQBSuR+F6FClA4XoUrkfhI0CPwvUoXI85QD0K16NwfTNA4XoUrkcBQ0B7FK5H4XomQMP1KFyPIkhACtejcD1KNEAfhetRuJ4rQArXo3A9CiZACtejcD1KMkDXo3A9CpcxQBSuR+F6FDRAexSuR+E6NECF61G4HgUuQArXo3A9CihAhetRuB4FJUDsUbgehesxQDMzMzMzMztAw/UoXI/CNkAK16NwPUoxQHE9CtejcDNAKVyPwvWoMEDXo3A9CldAQPYoXI/C9S9Aj8L1KFwPKkBI4XoUrkcyQPYoXI/CtThAKVyPwvUoNUC4HoXrUfg8QD0K16NwfTZA9ihcj8IVREBI4XoUrkc7QI/C9ShcDyhAw/UoXI8CNUDsUbgehesoQLgehetRuC5APQrXo3B9NED2KFyPwjU5QD0K16NwPTJAAAAAAAAALEApXI/C9QhDQDMzMzMz8zdArkfhehTuPUDhehSuR2EnQIXrUbgehSxAZmZmZmbmL0AK16NwPQohQFK4HoXr0TZAFK5H4XoUM0AAAAAAAAAwQGZmZmZmJkFAuB6F61GYRECPwvUoXI8jQArXo3A9Ch5ApHA9CtcjLEDD9Shcj0IqQMP1KFyPQjFAzczMzMyMOECF61G4HsUzQPYoXI/CFUhAPQrXo3B9MEAAAAAAAIA1QFK4HoXrUSlAH4XrUbieK0CF61G4HoU4QMP1KFyPwjRA9ihcj8K1P0BI4XoUrmdJQB+F61G4ni9AAAAAAAAAHUCamZmZmdk/QFK4HoXr0TBAMzMzMzNzQECkcD0K1+MxQPYoXI/C9SxAcT0K16NQQUAzMzMzM1NBQBSuR+F6VDdAzczMzMysRkDsUbgehSs3QGZmZmZmRkRAcT0K16OwNED2KFyPwnU+QJqZmZmZGTdA4XoUrkdhL0BxPQrXo3A8QPYoXI/C9S5AFK5H4XqUMEA9CtejcD0eQK5H4XoUriRAhetRuB4FK0D2KFyPwrUyQEjhehSuhzRA16NwPQqXOkA9CtejcF1DQIXrUbgeRThAj8L1KFwPPkCkcD0K1+M5QArXo3A9KkhAZmZmZmYmPECuR+F6FC4nQPYoXI/C9R5AUrgehetRKEApXI/C9SghQNejcD0K1ypAMzMzMzNzNECPwvUoXI8qQMP1KFyPAjhA4XoUrkdhL0C4HoXrUTgnQArXo3A9iiVAj8L1KFwPL0CkcD0K1yMkQDMzMzMzMylACtejcD1qQEBI4XoUrgc9QOxRuB6FqzZAUrgehevRMUA=",
          "dtype": "f8"
         },
         "xaxis": "x",
         "y": {
          "bdata": "j8L1KFyP+j8AAAAAAAAMQHsUrkfhegpA16NwPQrXEkAAAAAAAAAAQPYoXI/C9QhAXI/C9Shc/z/Xo3A9CtcJQFyPwvUoXPs/H4XrUbge+T8AAAAAAAAIQFyPwvUoXA9ArkfhehSuDUDNzMzMzMwKQFK4HoXrURBAUrgehetRHkBxPQrXo3AJQLgehetRuAJAAAAAAAAAAEAAAAAAAAAAQDMzMzMzMxFAMzMzMzMz9z8AAAAAAAAEQClcj8L1KApAzczMzMzMDEAAAAAAAAAAQHsUrkfhegJAAAAAAAAAFEDsUbgehesBQFK4HoXrUQRAexSuR+F6CEAfhetRuB71P2ZmZmZmZhZAAAAAAAAACEAAAAAAAAAUQAAAAAAAABhAZmZmZmZmAEAAAAAAAAAIQAAAAAAAAARA9ihcj8L1+D9cj8L1KFwRQBSuR+F6FAxAAAAAAAAACEApXI/C9Sj8P+xRuB6F6xpArkfhehSuCUAAAAAAAAAAQK5H4XoUrv8/FK5H4XoUDkAfhetRuB4FQDMzMzMzMwlAFK5H4XoUAEC4HoXrUbgAQIXrUbgehf8/AAAAAAAA9D+kcD0K16MIQAAAAAAAABBAAAAAAAAACECuR+F6FK4FQAAAAAAAAAhAMzMzMzMzC0AAAAAAAAAUQD0K16NwPQBAAAAAAAAAAEAAAAAAAAAQQGZmZmZmZhdAAAAAAAAACEAAAAAAAAAIQAAAAAAAAAxA7FG4HoXrEkAAAAAAAAAQQAAAAAAAAPg/AAAAAAAACEAAAAAAAAD4Pz0K16NwPfo/PQrXo3A9EEApXI/C9SgRQBSuR+F6FA5AAAAAAAAACEAAAAAAAAAQQGZmZmZmZgRASOF6FK5HFEB7FK5H4XoCQAAAAAAAAARAAAAAAAAAAECuR+F6FK73P3E9CtejcAFAAAAAAAAA+D8AAAAAAAAAQM3MzMzMzBpAAAAAAAAAFECuR+F6FK77PwAAAAAAAABAAAAAAAAABEAAAAAAAAAAQOxRuB6F6wVAAAAAAAAAAEAAAAAAAAAAQAAAAAAAABRAAAAAAAAAAEAAAAAAAAAMQAAAAAAAAARAAAAAAAAAAEDXo3A9CtcLQOxRuB6F6wFAAAAAAAAAEkAAAAAAAAAkQEjhehSuRwlAmpmZmZmZFEBxPQrXo3AJQAAAAAAAABBA4XoUrkfhCEAAAAAAAAAAQAAAAAAAAABAZmZmZmZmDEBxPQrXo3ANQJqZmZmZmRZAAAAAAAAADEAAAAAAAAAaQAAAAAAAAAhAAAAAAAAAFEAAAAAAAAAAQAAAAAAAABBAAAAAAAAA+D97FK5H4XoEQClcj8L1KABAAAAAAAAAEEAK16NwPQr3PwAAAAAAAABAAAAAAAAAAEAAAAAAAAAQQAAAAAAAABBASOF6FK5HC0AAAAAAAAAIQD0K16NwPQBAAAAAAAAAAECkcD0K16MUQAAAAAAAACJAAAAAAAAACEAAAAAAAAD4PwrXo3A9Cvc/mpmZmZmZAUC4HoXrUbj+P0jhehSuR/k/AAAAAAAACEDD9Shcj8IFQAAAAAAAAABAAAAAAAAACEAfhetRuB4LQIXrUbgehfc/AAAAAAAACEAAAAAAAAD0PwAAAAAAAPA/uB6F61G48j+uR+F6FK4XQAAAAAAAAABAAAAAAAAA/D8=",
          "dtype": "f8"
         },
         "yaxis": "y"
        }
       ],
       "layout": {
        "font": {
         "family": "Arial",
         "size": 15
        },
        "height": 500,
        "legend": {
         "title": {
          "text": "Gender"
         },
         "tracegroupgap": 0
        },
        "margin": {
         "b": 50,
         "l": 50,
         "r": 50,
         "t": 80
        },
        "template": {
         "data": {
          "bar": [
           {
            "error_x": {
             "color": "#2a3f5f"
            },
            "error_y": {
             "color": "#2a3f5f"
            },
            "marker": {
             "line": {
              "color": "white",
              "width": 0.5
             },
             "pattern": {
              "fillmode": "overlay",
              "size": 10,
              "solidity": 0.2
             }
            },
            "type": "bar"
           }
          ],
          "barpolar": [
           {
            "marker": {
             "line": {
              "color": "white",
              "width": 0.5
             },
             "pattern": {
              "fillmode": "overlay",
              "size": 10,
              "solidity": 0.2
             }
            },
            "type": "barpolar"
           }
          ],
          "carpet": [
           {
            "aaxis": {
             "endlinecolor": "#2a3f5f",
             "gridcolor": "#C8D4E3",
             "linecolor": "#C8D4E3",
             "minorgridcolor": "#C8D4E3",
             "startlinecolor": "#2a3f5f"
            },
            "baxis": {
             "endlinecolor": "#2a3f5f",
             "gridcolor": "#C8D4E3",
             "linecolor": "#C8D4E3",
             "minorgridcolor": "#C8D4E3",
             "startlinecolor": "#2a3f5f"
            },
            "type": "carpet"
           }
          ],
          "choropleth": [
           {
            "colorbar": {
             "outlinewidth": 0,
             "ticks": ""
            },
            "type": "choropleth"
           }
          ],
          "contour": [
           {
            "colorbar": {
             "outlinewidth": 0,
             "ticks": ""
            },
            "colorscale": [
             [
              0,
              "#0d0887"
             ],
             [
              0.1111111111111111,
              "#46039f"
             ],
             [
              0.2222222222222222,
              "#7201a8"
             ],
             [
              0.3333333333333333,
              "#9c179e"
             ],
             [
              0.4444444444444444,
              "#bd3786"
             ],
             [
              0.5555555555555556,
              "#d8576b"
             ],
             [
              0.6666666666666666,
              "#ed7953"
             ],
             [
              0.7777777777777778,
              "#fb9f3a"
             ],
             [
              0.8888888888888888,
              "#fdca26"
             ],
             [
              1,
              "#f0f921"
             ]
            ],
            "type": "contour"
           }
          ],
          "contourcarpet": [
           {
            "colorbar": {
             "outlinewidth": 0,
             "ticks": ""
            },
            "type": "contourcarpet"
           }
          ],
          "heatmap": [
           {
            "colorbar": {
             "outlinewidth": 0,
             "ticks": ""
            },
            "colorscale": [
             [
              0,
              "#0d0887"
             ],
             [
              0.1111111111111111,
              "#46039f"
             ],
             [
              0.2222222222222222,
              "#7201a8"
             ],
             [
              0.3333333333333333,
              "#9c179e"
             ],
             [
              0.4444444444444444,
              "#bd3786"
             ],
             [
              0.5555555555555556,
              "#d8576b"
             ],
             [
              0.6666666666666666,
              "#ed7953"
             ],
             [
              0.7777777777777778,
              "#fb9f3a"
             ],
             [
              0.8888888888888888,
              "#fdca26"
             ],
             [
              1,
              "#f0f921"
             ]
            ],
            "type": "heatmap"
           }
          ],
          "histogram": [
           {
            "marker": {
             "pattern": {
              "fillmode": "overlay",
              "size": 10,
              "solidity": 0.2
             }
            },
            "type": "histogram"
           }
          ],
          "histogram2d": [
           {
            "colorbar": {
             "outlinewidth": 0,
             "ticks": ""
            },
            "colorscale": [
             [
              0,
              "#0d0887"
             ],
             [
              0.1111111111111111,
              "#46039f"
             ],
             [
              0.2222222222222222,
              "#7201a8"
             ],
             [
              0.3333333333333333,
              "#9c179e"
             ],
             [
              0.4444444444444444,
              "#bd3786"
             ],
             [
              0.5555555555555556,
              "#d8576b"
             ],
             [
              0.6666666666666666,
              "#ed7953"
             ],
             [
              0.7777777777777778,
              "#fb9f3a"
             ],
             [
              0.8888888888888888,
              "#fdca26"
             ],
             [
              1,
              "#f0f921"
             ]
            ],
            "type": "histogram2d"
           }
          ],
          "histogram2dcontour": [
           {
            "colorbar": {
             "outlinewidth": 0,
             "ticks": ""
            },
            "colorscale": [
             [
              0,
              "#0d0887"
             ],
             [
              0.1111111111111111,
              "#46039f"
             ],
             [
              0.2222222222222222,
              "#7201a8"
             ],
             [
              0.3333333333333333,
              "#9c179e"
             ],
             [
              0.4444444444444444,
              "#bd3786"
             ],
             [
              0.5555555555555556,
              "#d8576b"
             ],
             [
              0.6666666666666666,
              "#ed7953"
             ],
             [
              0.7777777777777778,
              "#fb9f3a"
             ],
             [
              0.8888888888888888,
              "#fdca26"
             ],
             [
              1,
              "#f0f921"
             ]
            ],
            "type": "histogram2dcontour"
           }
          ],
          "mesh3d": [
           {
            "colorbar": {
             "outlinewidth": 0,
             "ticks": ""
            },
            "type": "mesh3d"
           }
          ],
          "parcoords": [
           {
            "line": {
             "colorbar": {
              "outlinewidth": 0,
              "ticks": ""
             }
            },
            "type": "parcoords"
           }
          ],
          "pie": [
           {
            "automargin": true,
            "type": "pie"
           }
          ],
          "scatter": [
           {
            "fillpattern": {
             "fillmode": "overlay",
             "size": 10,
             "solidity": 0.2
            },
            "type": "scatter"
           }
          ],
          "scatter3d": [
           {
            "line": {
             "colorbar": {
              "outlinewidth": 0,
              "ticks": ""
             }
            },
            "marker": {
             "colorbar": {
              "outlinewidth": 0,
              "ticks": ""
             }
            },
            "type": "scatter3d"
           }
          ],
          "scattercarpet": [
           {
            "marker": {
             "colorbar": {
              "outlinewidth": 0,
              "ticks": ""
             }
            },
            "type": "scattercarpet"
           }
          ],
          "scattergeo": [
           {
            "marker": {
             "colorbar": {
              "outlinewidth": 0,
              "ticks": ""
             }
            },
            "type": "scattergeo"
           }
          ],
          "scattergl": [
           {
            "marker": {
             "colorbar": {
              "outlinewidth": 0,
              "ticks": ""
             }
            },
            "type": "scattergl"
           }
          ],
          "scattermap": [
           {
            "marker": {
             "colorbar": {
              "outlinewidth": 0,
              "ticks": ""
             }
            },
            "type": "scattermap"
           }
          ],
          "scattermapbox": [
           {
            "marker": {
             "colorbar": {
              "outlinewidth": 0,
              "ticks": ""
             }
            },
            "type": "scattermapbox"
           }
          ],
          "scatterpolar": [
           {
            "marker": {
             "colorbar": {
              "outlinewidth": 0,
              "ticks": ""
             }
            },
            "type": "scatterpolar"
           }
          ],
          "scatterpolargl": [
           {
            "marker": {
             "colorbar": {
              "outlinewidth": 0,
              "ticks": ""
             }
            },
            "type": "scatterpolargl"
           }
          ],
          "scatterternary": [
           {
            "marker": {
             "colorbar": {
              "outlinewidth": 0,
              "ticks": ""
             }
            },
            "type": "scatterternary"
           }
          ],
          "surface": [
           {
            "colorbar": {
             "outlinewidth": 0,
             "ticks": ""
            },
            "colorscale": [
             [
              0,
              "#0d0887"
             ],
             [
              0.1111111111111111,
              "#46039f"
             ],
             [
              0.2222222222222222,
              "#7201a8"
             ],
             [
              0.3333333333333333,
              "#9c179e"
             ],
             [
              0.4444444444444444,
              "#bd3786"
             ],
             [
              0.5555555555555556,
              "#d8576b"
             ],
             [
              0.6666666666666666,
              "#ed7953"
             ],
             [
              0.7777777777777778,
              "#fb9f3a"
             ],
             [
              0.8888888888888888,
              "#fdca26"
             ],
             [
              1,
              "#f0f921"
             ]
            ],
            "type": "surface"
           }
          ],
          "table": [
           {
            "cells": {
             "fill": {
              "color": "#EBF0F8"
             },
             "line": {
              "color": "white"
             }
            },
            "header": {
             "fill": {
              "color": "#C8D4E3"
             },
             "line": {
              "color": "white"
             }
            },
            "type": "table"
           }
          ]
         },
         "layout": {
          "annotationdefaults": {
           "arrowcolor": "#2a3f5f",
           "arrowhead": 0,
           "arrowwidth": 1
          },
          "autotypenumbers": "strict",
          "coloraxis": {
           "colorbar": {
            "outlinewidth": 0,
            "ticks": ""
           }
          },
          "colorscale": {
           "diverging": [
            [
             0,
             "#8e0152"
            ],
            [
             0.1,
             "#c51b7d"
            ],
            [
             0.2,
             "#de77ae"
            ],
            [
             0.3,
             "#f1b6da"
            ],
            [
             0.4,
             "#fde0ef"
            ],
            [
             0.5,
             "#f7f7f7"
            ],
            [
             0.6,
             "#e6f5d0"
            ],
            [
             0.7,
             "#b8e186"
            ],
            [
             0.8,
             "#7fbc41"
            ],
            [
             0.9,
             "#4d9221"
            ],
            [
             1,
             "#276419"
            ]
           ],
           "sequential": [
            [
             0,
             "#0d0887"
            ],
            [
             0.1111111111111111,
             "#46039f"
            ],
            [
             0.2222222222222222,
             "#7201a8"
            ],
            [
             0.3333333333333333,
             "#9c179e"
            ],
            [
             0.4444444444444444,
             "#bd3786"
            ],
            [
             0.5555555555555556,
             "#d8576b"
            ],
            [
             0.6666666666666666,
             "#ed7953"
            ],
            [
             0.7777777777777778,
             "#fb9f3a"
            ],
            [
             0.8888888888888888,
             "#fdca26"
            ],
            [
             1,
             "#f0f921"
            ]
           ],
           "sequentialminus": [
            [
             0,
             "#0d0887"
            ],
            [
             0.1111111111111111,
             "#46039f"
            ],
            [
             0.2222222222222222,
             "#7201a8"
            ],
            [
             0.3333333333333333,
             "#9c179e"
            ],
            [
             0.4444444444444444,
             "#bd3786"
            ],
            [
             0.5555555555555556,
             "#d8576b"
            ],
            [
             0.6666666666666666,
             "#ed7953"
            ],
            [
             0.7777777777777778,
             "#fb9f3a"
            ],
            [
             0.8888888888888888,
             "#fdca26"
            ],
            [
             1,
             "#f0f921"
            ]
           ]
          },
          "colorway": [
           "#636efa",
           "#EF553B",
           "#00cc96",
           "#ab63fa",
           "#FFA15A",
           "#19d3f3",
           "#FF6692",
           "#B6E880",
           "#FF97FF",
           "#FECB52"
          ],
          "font": {
           "color": "#2a3f5f"
          },
          "geo": {
           "bgcolor": "white",
           "lakecolor": "white",
           "landcolor": "white",
           "showlakes": true,
           "showland": true,
           "subunitcolor": "#C8D4E3"
          },
          "hoverlabel": {
           "align": "left"
          },
          "hovermode": "closest",
          "mapbox": {
           "style": "light"
          },
          "paper_bgcolor": "white",
          "plot_bgcolor": "white",
          "polar": {
           "angularaxis": {
            "gridcolor": "#EBF0F8",
            "linecolor": "#EBF0F8",
            "ticks": ""
           },
           "bgcolor": "white",
           "radialaxis": {
            "gridcolor": "#EBF0F8",
            "linecolor": "#EBF0F8",
            "ticks": ""
           }
          },
          "scene": {
           "xaxis": {
            "backgroundcolor": "white",
            "gridcolor": "#DFE8F3",
            "gridwidth": 2,
            "linecolor": "#EBF0F8",
            "showbackground": true,
            "ticks": "",
            "zerolinecolor": "#EBF0F8"
           },
           "yaxis": {
            "backgroundcolor": "white",
            "gridcolor": "#DFE8F3",
            "gridwidth": 2,
            "linecolor": "#EBF0F8",
            "showbackground": true,
            "ticks": "",
            "zerolinecolor": "#EBF0F8"
           },
           "zaxis": {
            "backgroundcolor": "white",
            "gridcolor": "#DFE8F3",
            "gridwidth": 2,
            "linecolor": "#EBF0F8",
            "showbackground": true,
            "ticks": "",
            "zerolinecolor": "#EBF0F8"
           }
          },
          "shapedefaults": {
           "line": {
            "color": "#2a3f5f"
           }
          },
          "ternary": {
           "aaxis": {
            "gridcolor": "#DFE8F3",
            "linecolor": "#A2B1C6",
            "ticks": ""
           },
           "baxis": {
            "gridcolor": "#DFE8F3",
            "linecolor": "#A2B1C6",
            "ticks": ""
           },
           "bgcolor": "white",
           "caxis": {
            "gridcolor": "#DFE8F3",
            "linecolor": "#A2B1C6",
            "ticks": ""
           }
          },
          "title": {
           "x": 0.05
          },
          "xaxis": {
           "automargin": true,
           "gridcolor": "#EBF0F8",
           "linecolor": "#EBF0F8",
           "ticks": "",
           "title": {
            "standoff": 15
           },
           "zerolinecolor": "#EBF0F8",
           "zerolinewidth": 2
          },
          "yaxis": {
           "automargin": true,
           "gridcolor": "#EBF0F8",
           "linecolor": "#EBF0F8",
           "ticks": "",
           "title": {
            "standoff": 15
           },
           "zerolinecolor": "#EBF0F8",
           "zerolinewidth": 2
          }
         }
        },
        "title": {
         "font": {
          "family": "Arial",
          "size": 22
         },
         "text": "Tip Amount Rises with Total Bill<br><sup>Men generally have higher bills and leave larger tips than women.</sup>",
         "x": 0.5,
         "xanchor": "center"
        },
        "width": 800,
        "xaxis": {
         "anchor": "y",
         "domain": [
          0,
          1
         ],
         "tickfont": {
          "size": 14
         },
         "title": {
          "font": {
           "size": 18
          },
          "text": "Total Bill (USD)"
         }
        },
        "yaxis": {
         "anchor": "x",
         "domain": [
          0,
          1
         ],
         "tickfont": {
          "size": 14
         },
         "title": {
          "font": {
           "size": 18
          },
          "text": "Tip Amount (USD)"
         }
        }
       }
      }
     },
     "metadata": {},
     "output_type": "display_data"
    }
   ],
   "source": [
    "fig = px.scatter(\n",
    "    tip_df,\n",
    "    x='total_bill',\n",
    "    y='tip',\n",
    "    color='sex',\n",
    "    labels={\n",
    "        'total_bill': 'Total Bill (USD)',\n",
    "        'tip': 'Tip Amount (USD)',\n",
    "        'sex': 'Gender'\n",
    "    },\n",
    "    \n",
    "    template='plotly_white',\n",
    "    width=800,\n",
    "    height=500\n",
    ")\n",
    "\n",
    "fig.update_traces(marker=dict(size=10, line=dict(width=1, color='black')))\n",
    "fig.update_layout(\n",
    "     title={\n",
    "        'text': (\n",
    "            'Tip Amount Rises with Total Bill<br>'\n",
    "            '<sup>Men generally have higher bills and leave larger tips than women.</sup>'\n",
    "        ),\n",
    "        'x': 0.5,\n",
    "        'xanchor': 'center'\n",
    "    },\n",
    "    title_font=dict(size=22, family='Arial'),\n",
    "    font=dict(size=15, family='Arial'),\n",
    "    legend_title='Gender',\n",
    "    margin=dict(l=50, r=50, t=80, b=50),\n",
    "    xaxis=dict(title_font=dict(size=18), tickfont=dict(size=14)),\n",
    "    yaxis=dict(title_font=dict(size=18), tickfont=dict(size=14))\n",
    ")\n",
    "\n",
    "fig.show()\n"
   ]
  },
  {
   "cell_type": "markdown",
   "id": "a6d19e54",
   "metadata": {},
   "source": [
    "**Key Findings:**\n",
    "\n",
    "- There is a clear, positive (approximately linear) relationship between the total bill amount and the tip: as the bill increases, the tip amount tends to increase as well.\n",
    "- Male customers generally have higher total bills and leave larger tips compared to female customers."
   ]
  },
  {
   "cell_type": "code",
   "execution_count": 237,
   "id": "09ce479d",
   "metadata": {},
   "outputs": [
    {
     "data": {
      "application/vnd.plotly.v1+json": {
       "config": {
        "plotlyServerURL": "https://plot.ly"
       },
       "data": [
        {
         "bingroup": "x",
         "hovertemplate": "Gender=Female<br>Tip Amount (USD)=%{x}<br>count=%{y}<extra></extra>",
         "legendgroup": "Female",
         "marker": {
          "color": "#636efa",
          "line": {
           "color": "black",
           "width": 1.5
          },
          "opacity": 0.85,
          "pattern": {
           "shape": ""
          }
         },
         "name": "Female",
         "nbinsx": 30,
         "orientation": "v",
         "showlegend": true,
         "type": "histogram",
         "x": {
          "bdata": "KVyPwvUo8D/hehSuR+EMQAAAAAAAABRAKVyPwvUoCEC4HoXrUbj6PwAAAAAAAAxAAAAAAAAABkDXo3A9CtcBQAAAAAAAAAhAAAAAAAAACECamZmZmZkDQI/C9ShcjwhAzczMzMzMBEDNzMzMzMwUQAAAAAAAAPg/w/UoXI/CA0AAAAAAAADwPwAAAAAAAAhAH4XrUbgeCUAAAAAAAAAUQJqZmZmZmQFASOF6FK5H/T+uR+F6FK4UQAAAAAAAAPA/MzMzMzMzEUAAAAAAAAAKQAAAAAAAAARAAAAAAAAACEAAAAAAAAAEQNejcD0K1wtAUrgehetREEAAAAAAAAAQQAAAAAAAAPA/AAAAAAAAEEAAAAAAAAAMQAAAAAAAAPg/zczMzMzM/D9cj8L1KFwHQOF6FK5H4fo/KVyPwvUoBEDNzMzMzMwQQAAAAAAAAABAAAAAAAAAAECkcD0K16MGQAAAAAAAAPg/AAAAAAAAAEAAAAAAAAAKQAAAAAAAAPQ/AAAAAAAAAEAAAAAAAAAAQAAAAAAAAAZAAAAAAAAADEAAAAAAAAAUQGZmZmZmZgJAAAAAAAAA+D/D9Shcj8L1PxSuR+F6FPo/j8L1KFyPFEAAAAAAAAAOQOF6FK5H4QRAAAAAAAAAAEAAAAAAAAAIQMP1KFyPwvk/AAAAAAAAAEAAAAAAAAAQQAAAAAAAAAxAAAAAAAAADEDD9Shcj8IQQAAAAAAAABRAAAAAAAAAAEAUrkfhehQAQAAAAAAAAABAAAAAAAAABEDXo3A9CtcJQNejcD0K1wFAAAAAAAAABEAAAAAAAAAaQJqZmZmZmfE/uB6F61G4CEDXo3A9CtcLQAAAAAAAAAhAAAAAAAAABEAAAAAAAAAAQArXo3A9CgdArkfhehSuEkAAAAAAAAAAQAAAAAAAAAhA",
          "dtype": "f8"
         },
         "xaxis": "x",
         "yaxis": "y"
        },
        {
         "bingroup": "x",
         "hovertemplate": "Gender=Male<br>Tip Amount (USD)=%{x}<br>count=%{y}<extra></extra>",
         "legendgroup": "Male",
         "marker": {
          "color": "#EF553B",
          "line": {
           "color": "black",
           "width": 1.5
          },
          "opacity": 0.85,
          "pattern": {
           "shape": ""
          }
         },
         "name": "Male",
         "nbinsx": 30,
         "orientation": "v",
         "showlegend": true,
         "type": "histogram",
         "x": {
          "bdata": "j8L1KFyP+j8AAAAAAAAMQHsUrkfhegpA16NwPQrXEkAAAAAAAAAAQPYoXI/C9QhAXI/C9Shc/z/Xo3A9CtcJQFyPwvUoXPs/H4XrUbge+T8AAAAAAAAIQFyPwvUoXA9ArkfhehSuDUDNzMzMzMwKQFK4HoXrURBAUrgehetRHkBxPQrXo3AJQLgehetRuAJAAAAAAAAAAEAAAAAAAAAAQDMzMzMzMxFAMzMzMzMz9z8AAAAAAAAEQClcj8L1KApAzczMzMzMDEAAAAAAAAAAQHsUrkfhegJAAAAAAAAAFEDsUbgehesBQFK4HoXrUQRAexSuR+F6CEAfhetRuB71P2ZmZmZmZhZAAAAAAAAACEAAAAAAAAAUQAAAAAAAABhAZmZmZmZmAEAAAAAAAAAIQAAAAAAAAARA9ihcj8L1+D9cj8L1KFwRQBSuR+F6FAxAAAAAAAAACEApXI/C9Sj8P+xRuB6F6xpArkfhehSuCUAAAAAAAAAAQK5H4XoUrv8/FK5H4XoUDkAfhetRuB4FQDMzMzMzMwlAFK5H4XoUAEC4HoXrUbgAQIXrUbgehf8/AAAAAAAA9D+kcD0K16MIQAAAAAAAABBAAAAAAAAACECuR+F6FK4FQAAAAAAAAAhAMzMzMzMzC0AAAAAAAAAUQD0K16NwPQBAAAAAAAAAAEAAAAAAAAAQQGZmZmZmZhdAAAAAAAAACEAAAAAAAAAIQAAAAAAAAAxA7FG4HoXrEkAAAAAAAAAQQAAAAAAAAPg/AAAAAAAACEAAAAAAAAD4Pz0K16NwPfo/PQrXo3A9EEApXI/C9SgRQBSuR+F6FA5AAAAAAAAACEAAAAAAAAAQQGZmZmZmZgRASOF6FK5HFEB7FK5H4XoCQAAAAAAAAARAAAAAAAAAAECuR+F6FK73P3E9CtejcAFAAAAAAAAA+D8AAAAAAAAAQM3MzMzMzBpAAAAAAAAAFECuR+F6FK77PwAAAAAAAABAAAAAAAAABEAAAAAAAAAAQOxRuB6F6wVAAAAAAAAAAEAAAAAAAAAAQAAAAAAAABRAAAAAAAAAAEAAAAAAAAAMQAAAAAAAAARAAAAAAAAAAEDXo3A9CtcLQOxRuB6F6wFAAAAAAAAAEkAAAAAAAAAkQEjhehSuRwlAmpmZmZmZFEBxPQrXo3AJQAAAAAAAABBA4XoUrkfhCEAAAAAAAAAAQAAAAAAAAABAZmZmZmZmDEBxPQrXo3ANQJqZmZmZmRZAAAAAAAAADEAAAAAAAAAaQAAAAAAAAAhAAAAAAAAAFEAAAAAAAAAAQAAAAAAAABBAAAAAAAAA+D97FK5H4XoEQClcj8L1KABAAAAAAAAAEEAK16NwPQr3PwAAAAAAAABAAAAAAAAAAEAAAAAAAAAQQAAAAAAAABBASOF6FK5HC0AAAAAAAAAIQD0K16NwPQBAAAAAAAAAAECkcD0K16MUQAAAAAAAACJAAAAAAAAACEAAAAAAAAD4PwrXo3A9Cvc/mpmZmZmZAUC4HoXrUbj+P0jhehSuR/k/AAAAAAAACEDD9Shcj8IFQAAAAAAAAABAAAAAAAAACEAfhetRuB4LQIXrUbgehfc/AAAAAAAACEAAAAAAAAD0PwAAAAAAAPA/uB6F61G48j+uR+F6FK4XQAAAAAAAAABAAAAAAAAA/D8=",
          "dtype": "f8"
         },
         "xaxis": "x2",
         "yaxis": "y2"
        }
       ],
       "layout": {
        "annotations": [
         {
          "font": {},
          "showarrow": false,
          "text": "Gender=Female",
          "x": 0.245,
          "xanchor": "center",
          "xref": "paper",
          "y": 1,
          "yanchor": "bottom",
          "yref": "paper"
         },
         {
          "font": {},
          "showarrow": false,
          "text": "Gender=Male",
          "x": 0.755,
          "xanchor": "center",
          "xref": "paper",
          "y": 1,
          "yanchor": "bottom",
          "yref": "paper"
         }
        ],
        "bargap": 0.1,
        "barmode": "relative",
        "font": {
         "family": "Arial",
         "size": 15
        },
        "legend": {
         "title": {
          "text": "Gender"
         },
         "tracegroupgap": 0
        },
        "margin": {
         "b": 50,
         "l": 40,
         "r": 40,
         "t": 150
        },
        "showlegend": false,
        "template": {
         "data": {
          "bar": [
           {
            "error_x": {
             "color": "#2a3f5f"
            },
            "error_y": {
             "color": "#2a3f5f"
            },
            "marker": {
             "line": {
              "color": "white",
              "width": 0.5
             },
             "pattern": {
              "fillmode": "overlay",
              "size": 10,
              "solidity": 0.2
             }
            },
            "type": "bar"
           }
          ],
          "barpolar": [
           {
            "marker": {
             "line": {
              "color": "white",
              "width": 0.5
             },
             "pattern": {
              "fillmode": "overlay",
              "size": 10,
              "solidity": 0.2
             }
            },
            "type": "barpolar"
           }
          ],
          "carpet": [
           {
            "aaxis": {
             "endlinecolor": "#2a3f5f",
             "gridcolor": "#C8D4E3",
             "linecolor": "#C8D4E3",
             "minorgridcolor": "#C8D4E3",
             "startlinecolor": "#2a3f5f"
            },
            "baxis": {
             "endlinecolor": "#2a3f5f",
             "gridcolor": "#C8D4E3",
             "linecolor": "#C8D4E3",
             "minorgridcolor": "#C8D4E3",
             "startlinecolor": "#2a3f5f"
            },
            "type": "carpet"
           }
          ],
          "choropleth": [
           {
            "colorbar": {
             "outlinewidth": 0,
             "ticks": ""
            },
            "type": "choropleth"
           }
          ],
          "contour": [
           {
            "colorbar": {
             "outlinewidth": 0,
             "ticks": ""
            },
            "colorscale": [
             [
              0,
              "#0d0887"
             ],
             [
              0.1111111111111111,
              "#46039f"
             ],
             [
              0.2222222222222222,
              "#7201a8"
             ],
             [
              0.3333333333333333,
              "#9c179e"
             ],
             [
              0.4444444444444444,
              "#bd3786"
             ],
             [
              0.5555555555555556,
              "#d8576b"
             ],
             [
              0.6666666666666666,
              "#ed7953"
             ],
             [
              0.7777777777777778,
              "#fb9f3a"
             ],
             [
              0.8888888888888888,
              "#fdca26"
             ],
             [
              1,
              "#f0f921"
             ]
            ],
            "type": "contour"
           }
          ],
          "contourcarpet": [
           {
            "colorbar": {
             "outlinewidth": 0,
             "ticks": ""
            },
            "type": "contourcarpet"
           }
          ],
          "heatmap": [
           {
            "colorbar": {
             "outlinewidth": 0,
             "ticks": ""
            },
            "colorscale": [
             [
              0,
              "#0d0887"
             ],
             [
              0.1111111111111111,
              "#46039f"
             ],
             [
              0.2222222222222222,
              "#7201a8"
             ],
             [
              0.3333333333333333,
              "#9c179e"
             ],
             [
              0.4444444444444444,
              "#bd3786"
             ],
             [
              0.5555555555555556,
              "#d8576b"
             ],
             [
              0.6666666666666666,
              "#ed7953"
             ],
             [
              0.7777777777777778,
              "#fb9f3a"
             ],
             [
              0.8888888888888888,
              "#fdca26"
             ],
             [
              1,
              "#f0f921"
             ]
            ],
            "type": "heatmap"
           }
          ],
          "histogram": [
           {
            "marker": {
             "pattern": {
              "fillmode": "overlay",
              "size": 10,
              "solidity": 0.2
             }
            },
            "type": "histogram"
           }
          ],
          "histogram2d": [
           {
            "colorbar": {
             "outlinewidth": 0,
             "ticks": ""
            },
            "colorscale": [
             [
              0,
              "#0d0887"
             ],
             [
              0.1111111111111111,
              "#46039f"
             ],
             [
              0.2222222222222222,
              "#7201a8"
             ],
             [
              0.3333333333333333,
              "#9c179e"
             ],
             [
              0.4444444444444444,
              "#bd3786"
             ],
             [
              0.5555555555555556,
              "#d8576b"
             ],
             [
              0.6666666666666666,
              "#ed7953"
             ],
             [
              0.7777777777777778,
              "#fb9f3a"
             ],
             [
              0.8888888888888888,
              "#fdca26"
             ],
             [
              1,
              "#f0f921"
             ]
            ],
            "type": "histogram2d"
           }
          ],
          "histogram2dcontour": [
           {
            "colorbar": {
             "outlinewidth": 0,
             "ticks": ""
            },
            "colorscale": [
             [
              0,
              "#0d0887"
             ],
             [
              0.1111111111111111,
              "#46039f"
             ],
             [
              0.2222222222222222,
              "#7201a8"
             ],
             [
              0.3333333333333333,
              "#9c179e"
             ],
             [
              0.4444444444444444,
              "#bd3786"
             ],
             [
              0.5555555555555556,
              "#d8576b"
             ],
             [
              0.6666666666666666,
              "#ed7953"
             ],
             [
              0.7777777777777778,
              "#fb9f3a"
             ],
             [
              0.8888888888888888,
              "#fdca26"
             ],
             [
              1,
              "#f0f921"
             ]
            ],
            "type": "histogram2dcontour"
           }
          ],
          "mesh3d": [
           {
            "colorbar": {
             "outlinewidth": 0,
             "ticks": ""
            },
            "type": "mesh3d"
           }
          ],
          "parcoords": [
           {
            "line": {
             "colorbar": {
              "outlinewidth": 0,
              "ticks": ""
             }
            },
            "type": "parcoords"
           }
          ],
          "pie": [
           {
            "automargin": true,
            "type": "pie"
           }
          ],
          "scatter": [
           {
            "fillpattern": {
             "fillmode": "overlay",
             "size": 10,
             "solidity": 0.2
            },
            "type": "scatter"
           }
          ],
          "scatter3d": [
           {
            "line": {
             "colorbar": {
              "outlinewidth": 0,
              "ticks": ""
             }
            },
            "marker": {
             "colorbar": {
              "outlinewidth": 0,
              "ticks": ""
             }
            },
            "type": "scatter3d"
           }
          ],
          "scattercarpet": [
           {
            "marker": {
             "colorbar": {
              "outlinewidth": 0,
              "ticks": ""
             }
            },
            "type": "scattercarpet"
           }
          ],
          "scattergeo": [
           {
            "marker": {
             "colorbar": {
              "outlinewidth": 0,
              "ticks": ""
             }
            },
            "type": "scattergeo"
           }
          ],
          "scattergl": [
           {
            "marker": {
             "colorbar": {
              "outlinewidth": 0,
              "ticks": ""
             }
            },
            "type": "scattergl"
           }
          ],
          "scattermap": [
           {
            "marker": {
             "colorbar": {
              "outlinewidth": 0,
              "ticks": ""
             }
            },
            "type": "scattermap"
           }
          ],
          "scattermapbox": [
           {
            "marker": {
             "colorbar": {
              "outlinewidth": 0,
              "ticks": ""
             }
            },
            "type": "scattermapbox"
           }
          ],
          "scatterpolar": [
           {
            "marker": {
             "colorbar": {
              "outlinewidth": 0,
              "ticks": ""
             }
            },
            "type": "scatterpolar"
           }
          ],
          "scatterpolargl": [
           {
            "marker": {
             "colorbar": {
              "outlinewidth": 0,
              "ticks": ""
             }
            },
            "type": "scatterpolargl"
           }
          ],
          "scatterternary": [
           {
            "marker": {
             "colorbar": {
              "outlinewidth": 0,
              "ticks": ""
             }
            },
            "type": "scatterternary"
           }
          ],
          "surface": [
           {
            "colorbar": {
             "outlinewidth": 0,
             "ticks": ""
            },
            "colorscale": [
             [
              0,
              "#0d0887"
             ],
             [
              0.1111111111111111,
              "#46039f"
             ],
             [
              0.2222222222222222,
              "#7201a8"
             ],
             [
              0.3333333333333333,
              "#9c179e"
             ],
             [
              0.4444444444444444,
              "#bd3786"
             ],
             [
              0.5555555555555556,
              "#d8576b"
             ],
             [
              0.6666666666666666,
              "#ed7953"
             ],
             [
              0.7777777777777778,
              "#fb9f3a"
             ],
             [
              0.8888888888888888,
              "#fdca26"
             ],
             [
              1,
              "#f0f921"
             ]
            ],
            "type": "surface"
           }
          ],
          "table": [
           {
            "cells": {
             "fill": {
              "color": "#EBF0F8"
             },
             "line": {
              "color": "white"
             }
            },
            "header": {
             "fill": {
              "color": "#C8D4E3"
             },
             "line": {
              "color": "white"
             }
            },
            "type": "table"
           }
          ]
         },
         "layout": {
          "annotationdefaults": {
           "arrowcolor": "#2a3f5f",
           "arrowhead": 0,
           "arrowwidth": 1
          },
          "autotypenumbers": "strict",
          "coloraxis": {
           "colorbar": {
            "outlinewidth": 0,
            "ticks": ""
           }
          },
          "colorscale": {
           "diverging": [
            [
             0,
             "#8e0152"
            ],
            [
             0.1,
             "#c51b7d"
            ],
            [
             0.2,
             "#de77ae"
            ],
            [
             0.3,
             "#f1b6da"
            ],
            [
             0.4,
             "#fde0ef"
            ],
            [
             0.5,
             "#f7f7f7"
            ],
            [
             0.6,
             "#e6f5d0"
            ],
            [
             0.7,
             "#b8e186"
            ],
            [
             0.8,
             "#7fbc41"
            ],
            [
             0.9,
             "#4d9221"
            ],
            [
             1,
             "#276419"
            ]
           ],
           "sequential": [
            [
             0,
             "#0d0887"
            ],
            [
             0.1111111111111111,
             "#46039f"
            ],
            [
             0.2222222222222222,
             "#7201a8"
            ],
            [
             0.3333333333333333,
             "#9c179e"
            ],
            [
             0.4444444444444444,
             "#bd3786"
            ],
            [
             0.5555555555555556,
             "#d8576b"
            ],
            [
             0.6666666666666666,
             "#ed7953"
            ],
            [
             0.7777777777777778,
             "#fb9f3a"
            ],
            [
             0.8888888888888888,
             "#fdca26"
            ],
            [
             1,
             "#f0f921"
            ]
           ],
           "sequentialminus": [
            [
             0,
             "#0d0887"
            ],
            [
             0.1111111111111111,
             "#46039f"
            ],
            [
             0.2222222222222222,
             "#7201a8"
            ],
            [
             0.3333333333333333,
             "#9c179e"
            ],
            [
             0.4444444444444444,
             "#bd3786"
            ],
            [
             0.5555555555555556,
             "#d8576b"
            ],
            [
             0.6666666666666666,
             "#ed7953"
            ],
            [
             0.7777777777777778,
             "#fb9f3a"
            ],
            [
             0.8888888888888888,
             "#fdca26"
            ],
            [
             1,
             "#f0f921"
            ]
           ]
          },
          "colorway": [
           "#636efa",
           "#EF553B",
           "#00cc96",
           "#ab63fa",
           "#FFA15A",
           "#19d3f3",
           "#FF6692",
           "#B6E880",
           "#FF97FF",
           "#FECB52"
          ],
          "font": {
           "color": "#2a3f5f"
          },
          "geo": {
           "bgcolor": "white",
           "lakecolor": "white",
           "landcolor": "white",
           "showlakes": true,
           "showland": true,
           "subunitcolor": "#C8D4E3"
          },
          "hoverlabel": {
           "align": "left"
          },
          "hovermode": "closest",
          "mapbox": {
           "style": "light"
          },
          "paper_bgcolor": "white",
          "plot_bgcolor": "white",
          "polar": {
           "angularaxis": {
            "gridcolor": "#EBF0F8",
            "linecolor": "#EBF0F8",
            "ticks": ""
           },
           "bgcolor": "white",
           "radialaxis": {
            "gridcolor": "#EBF0F8",
            "linecolor": "#EBF0F8",
            "ticks": ""
           }
          },
          "scene": {
           "xaxis": {
            "backgroundcolor": "white",
            "gridcolor": "#DFE8F3",
            "gridwidth": 2,
            "linecolor": "#EBF0F8",
            "showbackground": true,
            "ticks": "",
            "zerolinecolor": "#EBF0F8"
           },
           "yaxis": {
            "backgroundcolor": "white",
            "gridcolor": "#DFE8F3",
            "gridwidth": 2,
            "linecolor": "#EBF0F8",
            "showbackground": true,
            "ticks": "",
            "zerolinecolor": "#EBF0F8"
           },
           "zaxis": {
            "backgroundcolor": "white",
            "gridcolor": "#DFE8F3",
            "gridwidth": 2,
            "linecolor": "#EBF0F8",
            "showbackground": true,
            "ticks": "",
            "zerolinecolor": "#EBF0F8"
           }
          },
          "shapedefaults": {
           "line": {
            "color": "#2a3f5f"
           }
          },
          "ternary": {
           "aaxis": {
            "gridcolor": "#DFE8F3",
            "linecolor": "#A2B1C6",
            "ticks": ""
           },
           "baxis": {
            "gridcolor": "#DFE8F3",
            "linecolor": "#A2B1C6",
            "ticks": ""
           },
           "bgcolor": "white",
           "caxis": {
            "gridcolor": "#DFE8F3",
            "linecolor": "#A2B1C6",
            "ticks": ""
           }
          },
          "title": {
           "x": 0.05
          },
          "xaxis": {
           "automargin": true,
           "gridcolor": "#EBF0F8",
           "linecolor": "#EBF0F8",
           "ticks": "",
           "title": {
            "standoff": 15
           },
           "zerolinecolor": "#EBF0F8",
           "zerolinewidth": 2
          },
          "yaxis": {
           "automargin": true,
           "gridcolor": "#EBF0F8",
           "linecolor": "#EBF0F8",
           "ticks": "",
           "title": {
            "standoff": 15
           },
           "zerolinecolor": "#EBF0F8",
           "zerolinewidth": 2
          }
         }
        },
        "title": {
         "text": "Distribution of Tip Amounts by Gender<br><sup>Most tips are between $2–$3.50 for both men and women; men show more high-value outliers (up to $10)</sup>",
         "x": 0.5,
         "xanchor": "center"
        },
        "xaxis": {
         "anchor": "y",
         "domain": [
          0,
          0.49
         ],
         "title": {
          "text": "Tip Amount (USD)"
         }
        },
        "xaxis2": {
         "anchor": "y2",
         "domain": [
          0.51,
          1
         ],
         "matches": "x",
         "title": {
          "text": ""
         }
        },
        "yaxis": {
         "anchor": "x",
         "domain": [
          0,
          1
         ],
         "title": {
          "text": "count"
         }
        },
        "yaxis2": {
         "anchor": "x2",
         "domain": [
          0,
          1
         ],
         "matches": "y",
         "showticklabels": false
        }
       }
      }
     },
     "metadata": {},
     "output_type": "display_data"
    }
   ],
   "source": [
    "fig = px.histogram(\n",
    "    tip_df,\n",
    "    x=\"tip\",\n",
    "    facet_col=\"sex\",\n",
    "    color=\"sex\",\n",
    "    nbins=30,\n",
    "    opacity=0.85,\n",
    "    labels={\"tip\": \"Tip Amount (USD)\", \"sex\": \"Gender\"},\n",
    "    template=\"plotly_white\"\n",
    ")\n",
    "\n",
    "fig.update_traces(marker_line_width=1.5, marker_line_color=\"black\")\n",
    "\n",
    "fig.update_layout(\n",
    "    title={\n",
    "        \"text\": (\n",
    "            \"Distribution of Tip Amounts by Gender<br>\"\n",
    "            \"<sup>Most tips are between $2–$3.50 for both men and women; \"\n",
    "            \"men show more high-value outliers (up to $10)</sup>\"\n",
    "        ),\n",
    "        \"x\": 0.5,\n",
    "        \"xanchor\": \"center\"\n",
    "    },\n",
    "    font=dict(size=15, family=\"Arial\"),\n",
    "    bargap=0.1,\n",
    "    showlegend=False,\n",
    "    margin=dict(t=150, l=40, r=40, b=50)\n",
    ")\n",
    "\n",
    "# Remove x-axis title from the right facet\n",
    "fig.update_xaxes(title_text=\"\", row=1, col=2)\n",
    "# Keep x-axis title only on the left facet\n",
    "fig.update_xaxes(title_text=\"Tip Amount (USD)\", row=1, col=1)\n",
    "\n",
    "fig.for_each_annotation(lambda a: a.update(text=a.text.replace(\"sex=\", \"\")))\n",
    "fig.show()"
   ]
  },
  {
   "cell_type": "markdown",
   "id": "3ca28e7c",
   "metadata": {},
   "source": [
    "###  Does Smoking Status Influence Spending and Tipping?\n",
    "\n",
    "- **How does being a smoker or non-smoker impact the total bill and tip amounts?**\n",
    "- **Do smokers tend to have higher bills and leave larger tips compared to non-smokers?**"
   ]
  },
  {
   "cell_type": "code",
   "execution_count": 238,
   "id": "d1debc38",
   "metadata": {},
   "outputs": [
    {
     "data": {
      "application/vnd.plotly.v1+json": {
       "config": {
        "plotlyServerURL": "https://plot.ly"
       },
       "data": [
        {
         "alignmentgroup": "True",
         "hovertemplate": "smoker=%{x}<br>total_bill=%{y}<extra></extra>",
         "legendgroup": "No",
         "marker": {
          "color": "#636efa"
         },
         "name": "No",
         "notched": false,
         "offsetgroup": "No",
         "orientation": "v",
         "showlegend": true,
         "type": "box",
         "x": [
          "No",
          "No",
          "No",
          "No",
          "No",
          "No",
          "No",
          "No",
          "No",
          "No",
          "No",
          "No",
          "No",
          "No",
          "No",
          "No",
          "No",
          "No",
          "No",
          "No",
          "No",
          "No",
          "No",
          "No",
          "No",
          "No",
          "No",
          "No",
          "No",
          "No",
          "No",
          "No",
          "No",
          "No",
          "No",
          "No",
          "No",
          "No",
          "No",
          "No",
          "No",
          "No",
          "No",
          "No",
          "No",
          "No",
          "No",
          "No",
          "No",
          "No",
          "No",
          "No",
          "No",
          "No",
          "No",
          "No",
          "No",
          "No",
          "No",
          "No",
          "No",
          "No",
          "No",
          "No",
          "No",
          "No",
          "No",
          "No",
          "No",
          "No",
          "No",
          "No",
          "No",
          "No",
          "No",
          "No",
          "No",
          "No",
          "No",
          "No",
          "No",
          "No",
          "No",
          "No",
          "No",
          "No",
          "No",
          "No",
          "No",
          "No",
          "No",
          "No",
          "No",
          "No",
          "No",
          "No",
          "No",
          "No",
          "No",
          "No",
          "No",
          "No",
          "No",
          "No",
          "No",
          "No",
          "No",
          "No",
          "No",
          "No",
          "No",
          "No",
          "No",
          "No",
          "No",
          "No",
          "No",
          "No",
          "No",
          "No",
          "No",
          "No",
          "No",
          "No",
          "No",
          "No",
          "No",
          "No",
          "No",
          "No",
          "No",
          "No",
          "No",
          "No",
          "No",
          "No",
          "No",
          "No",
          "No",
          "No",
          "No",
          "No",
          "No",
          "No",
          "No",
          "No",
          "No",
          "No",
          "No",
          "No",
          "No"
         ],
         "x0": " ",
         "xaxis": "x",
         "y": {
          "bdata": "PQrXo3D9MECuR+F6FK4kQMP1KFyPAjVArkfhehSuN0DXo3A9Cpc4QArXo3A9SjlACtejcD2KIUDhehSuR+E6QBSuR+F6FC5Aj8L1KFyPLUAK16NwPYokQOF6FK5HoUFA16NwPQrXLkCuR+F6FG4yQClcj8L1qC1AFK5H4XqUNUApXI/C9agkQArXo3A9SjBAuB6F61H4MEBmZmZmZqY0QOxRuB6F6zFACtejcD1KNEAK16NwPYovQPYoXI/CtUNAUrgehevRM0CPwvUoXM8xQD0K16NwvSpA4XoUrkdhKUAzMzMzM7M1QGZmZmZmpjNAmpmZmZkZI0CamZmZmVkyQB+F61G4Hi5AcT0K16OwNEBI4XoUrscxQI/C9ShcDzhAj8L1KFxPMECuR+F6FO4wQHE9CtejsDJAhetRuB5FP0AK16NwPQowQPYoXI/CdTFA4XoUrkfhK0Bcj8L1KFwjQGZmZmZmZj5ACtejcD1KMkB7FK5H4To2QDMzMzMzM0BAzczMzMyMPEAK16NwPQoyQBSuR+F6FClAFK5H4XqUJEBI4XoUrmdBQOF6FK5H4SNAj8L1KFyPOUA9CtejcH0zQClcj8L1aDpAw/UoXI8iSEDXo3A9CpcxQBSuR+F6FDRAMzMzMzNzMEB7FK5H4To0QArXo3A9CihAUrgehesRMUD2KFyPwnUtQIXrUbgeBSVAMzMzMzMzO0DD9Shcj8I2QArXo3A9SjFAKVyPwvWoMECkcD0K1yMkQPYoXI/C9S9ACtejcD1qQUCPwvUoXA8qQEjhehSuRzJA9ihcj8K1OEApXI/C9Sg1QD0K16NwfTZAAAAAAADANkDsUbgehesoQOxRuB6F6zRAPQrXo3A9MkAAAAAAAAAsQAAAAAAAAB1AKVyPwvUIQ0AzMzMzM/M3QPYoXI/CtTlAj8L1KFxPMUCuR+F6FO49QM3MzMzMTCVAXI/C9SjcKEAUrkfhehQ4QOF6FK5HYSdA16NwPQrXKkCF61G4HoUsQGZmZmZm5i9A9ihcj8L1KEDNzMzMzMw9QArXo3A9CiFACtejcD0KLUDD9Shcj8ImQFK4HoXr0TZAFK5H4XoUM0CF61G4HkU0QNejcD0KVyZAhetRuB6FKEDD9Shcj0IyQIXrUbgeBSFAKVyPwvWoJEDNzMzMzEwsQFK4HoXrUSpAuB6F61F4MUBmZmZmZiZBQLgehetRmERAzczMzMwMO0CuR+F6FG4wQDMzMzMzsyBApHA9CtejMkA9CtejcL0nQI/C9ShcjyNACtejcD0KHkCkcD0K1yMsQMP1KFyPQipAw/UoXI9CMUDNzMzMzIw4QIXrUbgexTNAmpmZmZnZPUD2KFyPwhVIQAAAAAAAADlASOF6FK7HKkA9CtejcH0wQAAAAAAAgDVAUrgehetRKUD2KFyPwjUwQB+F61G4nitAhetRuB6FOEDD9Shcj8I0QPYoXI/CtT9AcT0K16OwNEA9CtejcD0eQArXo3A9KkhA9ihcj8L1L0AzMzMzM3M0QI/C9ShcjypAuB6F61E4J0AK16NwPYolQKRwPQrXIyRACtejcD3qQUBI4XoUrgc9QFK4HoXr0TFASOF6FK7HMkA=",
          "dtype": "f8"
         },
         "y0": " ",
         "yaxis": "y"
        },
        {
         "alignmentgroup": "True",
         "hovertemplate": "smoker=%{x}<br>total_bill=%{y}<extra></extra>",
         "legendgroup": "Yes",
         "marker": {
          "color": "#EF553B"
         },
         "name": "Yes",
         "notched": false,
         "offsetgroup": "Yes",
         "orientation": "v",
         "showlegend": true,
         "type": "box",
         "x": [
          "Yes",
          "Yes",
          "Yes",
          "Yes",
          "Yes",
          "Yes",
          "Yes",
          "Yes",
          "Yes",
          "Yes",
          "Yes",
          "Yes",
          "Yes",
          "Yes",
          "Yes",
          "Yes",
          "Yes",
          "Yes",
          "Yes",
          "Yes",
          "Yes",
          "Yes",
          "Yes",
          "Yes",
          "Yes",
          "Yes",
          "Yes",
          "Yes",
          "Yes",
          "Yes",
          "Yes",
          "Yes",
          "Yes",
          "Yes",
          "Yes",
          "Yes",
          "Yes",
          "Yes",
          "Yes",
          "Yes",
          "Yes",
          "Yes",
          "Yes",
          "Yes",
          "Yes",
          "Yes",
          "Yes",
          "Yes",
          "Yes",
          "Yes",
          "Yes",
          "Yes",
          "Yes",
          "Yes",
          "Yes",
          "Yes",
          "Yes",
          "Yes",
          "Yes",
          "Yes",
          "Yes",
          "Yes",
          "Yes",
          "Yes",
          "Yes",
          "Yes",
          "Yes",
          "Yes",
          "Yes",
          "Yes",
          "Yes",
          "Yes",
          "Yes",
          "Yes",
          "Yes",
          "Yes",
          "Yes",
          "Yes",
          "Yes",
          "Yes",
          "Yes",
          "Yes",
          "Yes",
          "Yes",
          "Yes",
          "Yes",
          "Yes",
          "Yes",
          "Yes",
          "Yes",
          "Yes",
          "Yes",
          "Yes"
         ],
         "x0": " ",
         "xaxis": "x",
         "y": {
          "bdata": "4XoUrkcBQ0B7FK5H4XomQArXo3A9SjRAH4XrUbieK0AK16NwPQomQArXo3A9SjJAj8L1KFyPCECF61G4HgUuQFyPwvUo3DpASOF6FK5HOUDsUbgehesxQHE9CtejcDNA16NwPQpXQEC4HoXrUfg8QAAAAAAAABdAUrgehetRMED2KFyPwhVEQEjhehSuRztAj8L1KFwPKEDD9ShcjwI1QDMzMzMzsyZAw/UoXI/CLkBmZmZmZiZGQOxRuB6FazZAuB6F61G4LkA9CtejcH00QPYoXI/CNTlAH4XrUbieLEAAAAAAAAAwQMP1KFyPgjFArkfhehQuJUDD9Shcj0IlQEjhehSuZ0lAH4XrUbieL0AAAAAAAAAdQJqZmZmZ2T9AUrgehevRMEAzMzMzM3NAQKRwPQrX4zFA9ihcj8L1LEAzMzMzMzMjQHE9CtejUEFAMzMzMzNTQUAUrkfhelQ3QM3MzMzMrEZA7FG4HoUrN0BmZmZmZkZEQGZmZmZm5jRA9ihcj8J1PkBmZmZmZiYyQJqZmZmZGTdA4XoUrkdhL0CPwvUoXM8zQHE9CtejcDxA9ihcj8L1LkAUrkfhepQwQK5H4XoUriRArkfhehSORUAAAAAAAAAqQIXrUbgeBStA9ihcj8K1MkB7FK5H4XopQAAAAAAAACpAZmZmZmZmMEBI4XoUroc0QLgehetReDBA16NwPQqXOkA9CtejcF1DQIXrUbgeRThAhetRuB6FKUCPwvUoXA8+QKRwPQrX4zlACtejcD2KKkDsUbgehSs8QM3MzMzMzClAZmZmZmYmPECuR+F6FC4nQPYoXI/C9R5ApHA9CtcjPkBSuB6F61EoQNejcD0K1ypAKVyPwvUoIUDXo3A9CtcqQIXrUbgeRTBArkfhehQuJEAfhetRuB42QMP1KFyPAjhA4XoUrkdhL0CPwvUoXA8vQDMzMzMzMylACtejcD1qQECuR+F6FC47QOxRuB6FqzZA",
          "dtype": "f8"
         },
         "y0": " ",
         "yaxis": "y"
        },
        {
         "alignmentgroup": "True",
         "hovertemplate": "smoker=%{x}<br>tip=%{y}<extra></extra>",
         "legendgroup": "No",
         "marker": {
          "color": "#636efa"
         },
         "name": "No",
         "notched": false,
         "offsetgroup": "No",
         "orientation": "v",
         "showlegend": true,
         "type": "box",
         "x": [
          "No",
          "No",
          "No",
          "No",
          "No",
          "No",
          "No",
          "No",
          "No",
          "No",
          "No",
          "No",
          "No",
          "No",
          "No",
          "No",
          "No",
          "No",
          "No",
          "No",
          "No",
          "No",
          "No",
          "No",
          "No",
          "No",
          "No",
          "No",
          "No",
          "No",
          "No",
          "No",
          "No",
          "No",
          "No",
          "No",
          "No",
          "No",
          "No",
          "No",
          "No",
          "No",
          "No",
          "No",
          "No",
          "No",
          "No",
          "No",
          "No",
          "No",
          "No",
          "No",
          "No",
          "No",
          "No",
          "No",
          "No",
          "No",
          "No",
          "No",
          "No",
          "No",
          "No",
          "No",
          "No",
          "No",
          "No",
          "No",
          "No",
          "No",
          "No",
          "No",
          "No",
          "No",
          "No",
          "No",
          "No",
          "No",
          "No",
          "No",
          "No",
          "No",
          "No",
          "No",
          "No",
          "No",
          "No",
          "No",
          "No",
          "No",
          "No",
          "No",
          "No",
          "No",
          "No",
          "No",
          "No",
          "No",
          "No",
          "No",
          "No",
          "No",
          "No",
          "No",
          "No",
          "No",
          "No",
          "No",
          "No",
          "No",
          "No",
          "No",
          "No",
          "No",
          "No",
          "No",
          "No",
          "No",
          "No",
          "No",
          "No",
          "No",
          "No",
          "No",
          "No",
          "No",
          "No",
          "No",
          "No",
          "No",
          "No",
          "No",
          "No",
          "No",
          "No",
          "No",
          "No",
          "No",
          "No",
          "No",
          "No",
          "No",
          "No",
          "No",
          "No",
          "No",
          "No",
          "No",
          "No",
          "No",
          "No"
         ],
         "x0": " ",
         "xaxis": "x2",
         "y": {
          "bdata": "KVyPwvUo8D+PwvUoXI/6PwAAAAAAAAxAexSuR+F6CkDhehSuR+EMQNejcD0K1xJAAAAAAAAAAED2KFyPwvUIQFyPwvUoXP8/16NwPQrXCUBcj8L1KFz7PwAAAAAAABRAH4XrUbge+T8AAAAAAAAIQClcj8L1KAhAXI/C9ShcD0C4HoXrUbj6P65H4XoUrg1AAAAAAAAADEDNzMzMzMwKQFK4HoXrURBAAAAAAAAABkDXo3A9CtcBQFK4HoXrUR5AcT0K16NwCUC4HoXrUbgCQAAAAAAAAABAAAAAAAAAAEAzMzMzMzMRQAAAAAAAAAhAMzMzMzMz9z8AAAAAAAAEQAAAAAAAAAhAmpmZmZmZA0ApXI/C9SgKQM3MzMzMzAxAAAAAAAAAAECPwvUoXI8IQHsUrkfhegJAAAAAAAAAFEDsUbgehesBQFK4HoXrUQRAexSuR+F6CEAfhetRuB71P2ZmZmZmZhZAAAAAAAAACEAAAAAAAAAUQAAAAAAAABhAZmZmZmZmAEAAAAAAAAAIQAAAAAAAAARAzczMzMzMBEDNzMzMzMwUQPYoXI/C9fg/XI/C9ShcEUAUrkfhehQMQAAAAAAAAPg/7FG4HoXrGkAfhetRuB4FQDMzMzMzMwlAw/UoXI/CA0AUrkfhehQAQIXrUbgehf8/AAAAAAAACECamZmZmZkBQAAAAAAAAPQ/AAAAAAAAEEAAAAAAAAAIQK5H4XoUrgVAMzMzMzMzC0BI4XoUrkf9Pz0K16NwPQBArkfhehSuFEAAAAAAAAAAQAAAAAAAABBAZmZmZmZmF0AAAAAAAAAIQAAAAAAAAAxAAAAAAAAACkAAAAAAAAD4P1K4HoXrURBAFK5H4XoUDkAAAAAAAAAIQAAAAAAAAPA/AAAAAAAAEEBmZmZmZmYEQAAAAAAAABBAAAAAAAAADEBI4XoUrkcUQAAAAAAAAPg/zczMzMzM/D9cj8L1KFwHQHsUrkfhegJA4XoUrkfh+j8AAAAAAAAEQAAAAAAAAABAKVyPwvUoBEDNzMzMzMwQQK5H4XoUrvc/AAAAAAAAAEAAAAAAAAAAQHE9CtejcAFAAAAAAAAA+D+kcD0K16MGQAAAAAAAAPg/AAAAAAAAAEAAAAAAAAAKQAAAAAAAAPQ/AAAAAAAAAEAAAAAAAAAAQAAAAAAAAAZAAAAAAAAADEDNzMzMzMwaQAAAAAAAABRAAAAAAAAAFEBmZmZmZmYCQAAAAAAAAPg/w/UoXI/C9T8UrkfhehT6P65H4XoUrvs/AAAAAAAAAEAAAAAAAAAEQAAAAAAAAABA7FG4HoXrBUAAAAAAAAAAQAAAAAAAAABAj8L1KFyPFEAAAAAAAAAUQAAAAAAAAA5A4XoUrkfhBEAAAAAAAAAAQAAAAAAAAAxAAAAAAAAABEAAAAAAAAAAQAAAAAAAAABA16NwPQrXC0DsUbgehesBQAAAAAAAABJAAAAAAAAAFEAK16NwPQr3PwAAAAAAACJAAAAAAAAACEAAAAAAAAAIQMP1KFyPwgVAH4XrUbgeC0CF61G4HoX3PwAAAAAAAPQ/rkfhehSuEkCuR+F6FK4XQAAAAAAAAPw/AAAAAAAACEA=",
          "dtype": "f8"
         },
         "y0": " ",
         "yaxis": "y2"
        },
        {
         "alignmentgroup": "True",
         "hovertemplate": "smoker=%{x}<br>tip=%{y}<extra></extra>",
         "legendgroup": "Yes",
         "marker": {
          "color": "#EF553B"
         },
         "name": "Yes",
         "notched": false,
         "offsetgroup": "Yes",
         "orientation": "v",
         "showlegend": true,
         "type": "box",
         "x": [
          "Yes",
          "Yes",
          "Yes",
          "Yes",
          "Yes",
          "Yes",
          "Yes",
          "Yes",
          "Yes",
          "Yes",
          "Yes",
          "Yes",
          "Yes",
          "Yes",
          "Yes",
          "Yes",
          "Yes",
          "Yes",
          "Yes",
          "Yes",
          "Yes",
          "Yes",
          "Yes",
          "Yes",
          "Yes",
          "Yes",
          "Yes",
          "Yes",
          "Yes",
          "Yes",
          "Yes",
          "Yes",
          "Yes",
          "Yes",
          "Yes",
          "Yes",
          "Yes",
          "Yes",
          "Yes",
          "Yes",
          "Yes",
          "Yes",
          "Yes",
          "Yes",
          "Yes",
          "Yes",
          "Yes",
          "Yes",
          "Yes",
          "Yes",
          "Yes",
          "Yes",
          "Yes",
          "Yes",
          "Yes",
          "Yes",
          "Yes",
          "Yes",
          "Yes",
          "Yes",
          "Yes",
          "Yes",
          "Yes",
          "Yes",
          "Yes",
          "Yes",
          "Yes",
          "Yes",
          "Yes",
          "Yes",
          "Yes",
          "Yes",
          "Yes",
          "Yes",
          "Yes",
          "Yes",
          "Yes",
          "Yes",
          "Yes",
          "Yes",
          "Yes",
          "Yes",
          "Yes",
          "Yes",
          "Yes",
          "Yes",
          "Yes",
          "Yes",
          "Yes",
          "Yes",
          "Yes",
          "Yes",
          "Yes"
         ],
         "x0": " ",
         "xaxis": "x2",
         "y": {
          "bdata": "AAAAAAAACEApXI/C9Sj8P65H4XoUrglAAAAAAAAAAECuR+F6FK7/PxSuR+F6FA5AAAAAAAAA8D+4HoXrUbgAQB+F61G4HglAAAAAAAAAFECkcD0K16MIQAAAAAAAAAhAAAAAAAAAFEAAAAAAAAAIQAAAAAAAAPA/MzMzMzMzEUDsUbgehesSQAAAAAAAABBAAAAAAAAA+D8AAAAAAAAIQAAAAAAAAARAAAAAAAAACEAAAAAAAAAEQNejcD0K1wtAPQrXo3A9+j89CtejcD0QQClcj8L1KBFAAAAAAAAAEEAAAAAAAAAAQAAAAAAAAAhAw/UoXI/C+T8AAAAAAAAAQAAAAAAAACRASOF6FK5HCUCamZmZmZkUQHE9CtejcAlAAAAAAAAAEEDhehSuR+EIQAAAAAAAAABAAAAAAAAAAEAAAAAAAAAQQGZmZmZmZgxAcT0K16NwDUCamZmZmZkWQAAAAAAAAAxAAAAAAAAAGkAAAAAAAAAIQAAAAAAAAAxAAAAAAAAAAEAAAAAAAAAMQAAAAAAAABBAAAAAAAAA+D/D9Shcj8IQQHsUrkfhegRAKVyPwvUoAEAAAAAAAAAQQAAAAAAAAABAAAAAAAAAFEAAAAAAAAAAQAAAAAAAAABAAAAAAAAAEEAUrkfhehQAQAAAAAAAAABAAAAAAAAABEAAAAAAAAAQQNejcD0K1wlASOF6FK5HC0AAAAAAAAAIQD0K16NwPQBA16NwPQrXAUAAAAAAAAAAQKRwPQrXoxRAAAAAAAAABEAAAAAAAAAaQJqZmZmZmfE/AAAAAAAACEAAAAAAAAD4PwrXo3A9Cvc/uB6F61G4CECamZmZmZkBQNejcD0K1wtAuB6F61G4/j9I4XoUrkf5PwAAAAAAAARAAAAAAAAAAEAK16NwPQoHQAAAAAAAAABAAAAAAAAACEAAAAAAAAAIQAAAAAAAAPA/uB6F61G48j8AAAAAAAAAQAAAAAAAAABA",
          "dtype": "f8"
         },
         "y0": " ",
         "yaxis": "y2"
        },
        {
         "hovertemplate": "Smoking Status=No<br>Total Bill (USD)=%{x}<br>Tip Amount (USD)=%{y}<extra></extra>",
         "legendgroup": "No",
         "marker": {
          "color": "#636efa",
          "symbol": "circle"
         },
         "mode": "markers",
         "name": "No",
         "orientation": "v",
         "showlegend": true,
         "type": "scatter",
         "x": {
          "bdata": "PQrXo3D9MECuR+F6FK4kQMP1KFyPAjVArkfhehSuN0DXo3A9Cpc4QArXo3A9SjlACtejcD2KIUDhehSuR+E6QBSuR+F6FC5Aj8L1KFyPLUAK16NwPYokQOF6FK5HoUFA16NwPQrXLkCuR+F6FG4yQClcj8L1qC1AFK5H4XqUNUApXI/C9agkQArXo3A9SjBAuB6F61H4MEBmZmZmZqY0QOxRuB6F6zFACtejcD1KNEAK16NwPYovQPYoXI/CtUNAUrgehevRM0CPwvUoXM8xQD0K16NwvSpA4XoUrkdhKUAzMzMzM7M1QGZmZmZmpjNAmpmZmZkZI0CamZmZmVkyQB+F61G4Hi5AcT0K16OwNEBI4XoUrscxQI/C9ShcDzhAj8L1KFxPMECuR+F6FO4wQHE9CtejsDJAhetRuB5FP0AK16NwPQowQPYoXI/CdTFA4XoUrkfhK0Bcj8L1KFwjQGZmZmZmZj5ACtejcD1KMkB7FK5H4To2QDMzMzMzM0BAzczMzMyMPEAK16NwPQoyQBSuR+F6FClAFK5H4XqUJEBI4XoUrmdBQOF6FK5H4SNAj8L1KFyPOUA9CtejcH0zQClcj8L1aDpAw/UoXI8iSEDXo3A9CpcxQBSuR+F6FDRAMzMzMzNzMEB7FK5H4To0QArXo3A9CihAUrgehesRMUD2KFyPwnUtQIXrUbgeBSVAMzMzMzMzO0DD9Shcj8I2QArXo3A9SjFAKVyPwvWoMECkcD0K1yMkQPYoXI/C9S9ACtejcD1qQUCPwvUoXA8qQEjhehSuRzJA9ihcj8K1OEApXI/C9Sg1QD0K16NwfTZAAAAAAADANkDsUbgehesoQOxRuB6F6zRAPQrXo3A9MkAAAAAAAAAsQAAAAAAAAB1AKVyPwvUIQ0AzMzMzM/M3QPYoXI/CtTlAj8L1KFxPMUCuR+F6FO49QM3MzMzMTCVAXI/C9SjcKEAUrkfhehQ4QOF6FK5HYSdA16NwPQrXKkCF61G4HoUsQGZmZmZm5i9A9ihcj8L1KEDNzMzMzMw9QArXo3A9CiFACtejcD0KLUDD9Shcj8ImQFK4HoXr0TZAFK5H4XoUM0CF61G4HkU0QNejcD0KVyZAhetRuB6FKEDD9Shcj0IyQIXrUbgeBSFAKVyPwvWoJEDNzMzMzEwsQFK4HoXrUSpAuB6F61F4MUBmZmZmZiZBQLgehetRmERAzczMzMwMO0CuR+F6FG4wQDMzMzMzsyBApHA9CtejMkA9CtejcL0nQI/C9ShcjyNACtejcD0KHkCkcD0K1yMsQMP1KFyPQipAw/UoXI9CMUDNzMzMzIw4QIXrUbgexTNAmpmZmZnZPUD2KFyPwhVIQAAAAAAAADlASOF6FK7HKkA9CtejcH0wQAAAAAAAgDVAUrgehetRKUD2KFyPwjUwQB+F61G4nitAhetRuB6FOEDD9Shcj8I0QPYoXI/CtT9AcT0K16OwNEA9CtejcD0eQArXo3A9KkhA9ihcj8L1L0AzMzMzM3M0QI/C9ShcjypAuB6F61E4J0AK16NwPYolQKRwPQrXIyRACtejcD3qQUBI4XoUrgc9QFK4HoXr0TFASOF6FK7HMkA=",
          "dtype": "f8"
         },
         "xaxis": "x3",
         "y": {
          "bdata": "KVyPwvUo8D+PwvUoXI/6PwAAAAAAAAxAexSuR+F6CkDhehSuR+EMQNejcD0K1xJAAAAAAAAAAED2KFyPwvUIQFyPwvUoXP8/16NwPQrXCUBcj8L1KFz7PwAAAAAAABRAH4XrUbge+T8AAAAAAAAIQClcj8L1KAhAXI/C9ShcD0C4HoXrUbj6P65H4XoUrg1AAAAAAAAADEDNzMzMzMwKQFK4HoXrURBAAAAAAAAABkDXo3A9CtcBQFK4HoXrUR5AcT0K16NwCUC4HoXrUbgCQAAAAAAAAABAAAAAAAAAAEAzMzMzMzMRQAAAAAAAAAhAMzMzMzMz9z8AAAAAAAAEQAAAAAAAAAhAmpmZmZmZA0ApXI/C9SgKQM3MzMzMzAxAAAAAAAAAAECPwvUoXI8IQHsUrkfhegJAAAAAAAAAFEDsUbgehesBQFK4HoXrUQRAexSuR+F6CEAfhetRuB71P2ZmZmZmZhZAAAAAAAAACEAAAAAAAAAUQAAAAAAAABhAZmZmZmZmAEAAAAAAAAAIQAAAAAAAAARAzczMzMzMBEDNzMzMzMwUQPYoXI/C9fg/XI/C9ShcEUAUrkfhehQMQAAAAAAAAPg/7FG4HoXrGkAfhetRuB4FQDMzMzMzMwlAw/UoXI/CA0AUrkfhehQAQIXrUbgehf8/AAAAAAAACECamZmZmZkBQAAAAAAAAPQ/AAAAAAAAEEAAAAAAAAAIQK5H4XoUrgVAMzMzMzMzC0BI4XoUrkf9Pz0K16NwPQBArkfhehSuFEAAAAAAAAAAQAAAAAAAABBAZmZmZmZmF0AAAAAAAAAIQAAAAAAAAAxAAAAAAAAACkAAAAAAAAD4P1K4HoXrURBAFK5H4XoUDkAAAAAAAAAIQAAAAAAAAPA/AAAAAAAAEEBmZmZmZmYEQAAAAAAAABBAAAAAAAAADEBI4XoUrkcUQAAAAAAAAPg/zczMzMzM/D9cj8L1KFwHQHsUrkfhegJA4XoUrkfh+j8AAAAAAAAEQAAAAAAAAABAKVyPwvUoBEDNzMzMzMwQQK5H4XoUrvc/AAAAAAAAAEAAAAAAAAAAQHE9CtejcAFAAAAAAAAA+D+kcD0K16MGQAAAAAAAAPg/AAAAAAAAAEAAAAAAAAAKQAAAAAAAAPQ/AAAAAAAAAEAAAAAAAAAAQAAAAAAAAAZAAAAAAAAADEDNzMzMzMwaQAAAAAAAABRAAAAAAAAAFEBmZmZmZmYCQAAAAAAAAPg/w/UoXI/C9T8UrkfhehT6P65H4XoUrvs/AAAAAAAAAEAAAAAAAAAEQAAAAAAAAABA7FG4HoXrBUAAAAAAAAAAQAAAAAAAAABAj8L1KFyPFEAAAAAAAAAUQAAAAAAAAA5A4XoUrkfhBEAAAAAAAAAAQAAAAAAAAAxAAAAAAAAABEAAAAAAAAAAQAAAAAAAAABA16NwPQrXC0DsUbgehesBQAAAAAAAABJAAAAAAAAAFEAK16NwPQr3PwAAAAAAACJAAAAAAAAACEAAAAAAAAAIQMP1KFyPwgVAH4XrUbgeC0CF61G4HoX3PwAAAAAAAPQ/rkfhehSuEkCuR+F6FK4XQAAAAAAAAPw/AAAAAAAACEA=",
          "dtype": "f8"
         },
         "yaxis": "y3"
        },
        {
         "hovertemplate": "Smoking Status=Yes<br>Total Bill (USD)=%{x}<br>Tip Amount (USD)=%{y}<extra></extra>",
         "legendgroup": "Yes",
         "marker": {
          "color": "#EF553B",
          "symbol": "circle"
         },
         "mode": "markers",
         "name": "Yes",
         "orientation": "v",
         "showlegend": true,
         "type": "scatter",
         "x": {
          "bdata": "4XoUrkcBQ0B7FK5H4XomQArXo3A9SjRAH4XrUbieK0AK16NwPQomQArXo3A9SjJAj8L1KFyPCECF61G4HgUuQFyPwvUo3DpASOF6FK5HOUDsUbgehesxQHE9CtejcDNA16NwPQpXQEC4HoXrUfg8QAAAAAAAABdAUrgehetRMED2KFyPwhVEQEjhehSuRztAj8L1KFwPKEDD9ShcjwI1QDMzMzMzsyZAw/UoXI/CLkBmZmZmZiZGQOxRuB6FazZAuB6F61G4LkA9CtejcH00QPYoXI/CNTlAH4XrUbieLEAAAAAAAAAwQMP1KFyPgjFArkfhehQuJUDD9Shcj0IlQEjhehSuZ0lAH4XrUbieL0AAAAAAAAAdQJqZmZmZ2T9AUrgehevRMEAzMzMzM3NAQKRwPQrX4zFA9ihcj8L1LEAzMzMzMzMjQHE9CtejUEFAMzMzMzNTQUAUrkfhelQ3QM3MzMzMrEZA7FG4HoUrN0BmZmZmZkZEQGZmZmZm5jRA9ihcj8J1PkBmZmZmZiYyQJqZmZmZGTdA4XoUrkdhL0CPwvUoXM8zQHE9CtejcDxA9ihcj8L1LkAUrkfhepQwQK5H4XoUriRArkfhehSORUAAAAAAAAAqQIXrUbgeBStA9ihcj8K1MkB7FK5H4XopQAAAAAAAACpAZmZmZmZmMEBI4XoUroc0QLgehetReDBA16NwPQqXOkA9CtejcF1DQIXrUbgeRThAhetRuB6FKUCPwvUoXA8+QKRwPQrX4zlACtejcD2KKkDsUbgehSs8QM3MzMzMzClAZmZmZmYmPECuR+F6FC4nQPYoXI/C9R5ApHA9CtcjPkBSuB6F61EoQNejcD0K1ypAKVyPwvUoIUDXo3A9CtcqQIXrUbgeRTBArkfhehQuJEAfhetRuB42QMP1KFyPAjhA4XoUrkdhL0CPwvUoXA8vQDMzMzMzMylACtejcD1qQECuR+F6FC47QOxRuB6FqzZA",
          "dtype": "f8"
         },
         "xaxis": "x3",
         "y": {
          "bdata": "AAAAAAAACEApXI/C9Sj8P65H4XoUrglAAAAAAAAAAECuR+F6FK7/PxSuR+F6FA5AAAAAAAAA8D+4HoXrUbgAQB+F61G4HglAAAAAAAAAFECkcD0K16MIQAAAAAAAAAhAAAAAAAAAFEAAAAAAAAAIQAAAAAAAAPA/MzMzMzMzEUDsUbgehesSQAAAAAAAABBAAAAAAAAA+D8AAAAAAAAIQAAAAAAAAARAAAAAAAAACEAAAAAAAAAEQNejcD0K1wtAPQrXo3A9+j89CtejcD0QQClcj8L1KBFAAAAAAAAAEEAAAAAAAAAAQAAAAAAAAAhAw/UoXI/C+T8AAAAAAAAAQAAAAAAAACRASOF6FK5HCUCamZmZmZkUQHE9CtejcAlAAAAAAAAAEEDhehSuR+EIQAAAAAAAAABAAAAAAAAAAEAAAAAAAAAQQGZmZmZmZgxAcT0K16NwDUCamZmZmZkWQAAAAAAAAAxAAAAAAAAAGkAAAAAAAAAIQAAAAAAAAAxAAAAAAAAAAEAAAAAAAAAMQAAAAAAAABBAAAAAAAAA+D/D9Shcj8IQQHsUrkfhegRAKVyPwvUoAEAAAAAAAAAQQAAAAAAAAABAAAAAAAAAFEAAAAAAAAAAQAAAAAAAAABAAAAAAAAAEEAUrkfhehQAQAAAAAAAAABAAAAAAAAABEAAAAAAAAAQQNejcD0K1wlASOF6FK5HC0AAAAAAAAAIQD0K16NwPQBA16NwPQrXAUAAAAAAAAAAQKRwPQrXoxRAAAAAAAAABEAAAAAAAAAaQJqZmZmZmfE/AAAAAAAACEAAAAAAAAD4PwrXo3A9Cvc/uB6F61G4CECamZmZmZkBQNejcD0K1wtAuB6F61G4/j9I4XoUrkf5PwAAAAAAAARAAAAAAAAAAEAK16NwPQoHQAAAAAAAAABAAAAAAAAACEAAAAAAAAAIQAAAAAAAAPA/uB6F61G48j8AAAAAAAAAQAAAAAAAAABA",
          "dtype": "f8"
         },
         "yaxis": "y3"
        }
       ],
       "layout": {
        "annotations": [
         {
          "font": {
           "size": 16
          },
          "showarrow": false,
          "text": "Total Bill by Smoking Status",
          "x": 0.13,
          "xanchor": "center",
          "xref": "paper",
          "y": 1,
          "yanchor": "bottom",
          "yref": "paper"
         },
         {
          "font": {
           "size": 16
          },
          "showarrow": false,
          "text": "Tip Amount by Smoking Status",
          "x": 0.45666666666666667,
          "xanchor": "center",
          "xref": "paper",
          "y": 1,
          "yanchor": "bottom",
          "yref": "paper"
         },
         {
          "font": {
           "size": 16
          },
          "showarrow": false,
          "text": "Tip vs. Total Bill",
          "x": 0.8266666666666667,
          "xanchor": "center",
          "xref": "paper",
          "y": 1,
          "yanchor": "bottom",
          "yref": "paper"
         }
        ],
        "font": {
         "size": 14
        },
        "height": 500,
        "margin": {
         "t": 200
        },
        "showlegend": false,
        "template": {
         "data": {
          "bar": [
           {
            "error_x": {
             "color": "#2a3f5f"
            },
            "error_y": {
             "color": "#2a3f5f"
            },
            "marker": {
             "line": {
              "color": "white",
              "width": 0.5
             },
             "pattern": {
              "fillmode": "overlay",
              "size": 10,
              "solidity": 0.2
             }
            },
            "type": "bar"
           }
          ],
          "barpolar": [
           {
            "marker": {
             "line": {
              "color": "white",
              "width": 0.5
             },
             "pattern": {
              "fillmode": "overlay",
              "size": 10,
              "solidity": 0.2
             }
            },
            "type": "barpolar"
           }
          ],
          "carpet": [
           {
            "aaxis": {
             "endlinecolor": "#2a3f5f",
             "gridcolor": "#C8D4E3",
             "linecolor": "#C8D4E3",
             "minorgridcolor": "#C8D4E3",
             "startlinecolor": "#2a3f5f"
            },
            "baxis": {
             "endlinecolor": "#2a3f5f",
             "gridcolor": "#C8D4E3",
             "linecolor": "#C8D4E3",
             "minorgridcolor": "#C8D4E3",
             "startlinecolor": "#2a3f5f"
            },
            "type": "carpet"
           }
          ],
          "choropleth": [
           {
            "colorbar": {
             "outlinewidth": 0,
             "ticks": ""
            },
            "type": "choropleth"
           }
          ],
          "contour": [
           {
            "colorbar": {
             "outlinewidth": 0,
             "ticks": ""
            },
            "colorscale": [
             [
              0,
              "#0d0887"
             ],
             [
              0.1111111111111111,
              "#46039f"
             ],
             [
              0.2222222222222222,
              "#7201a8"
             ],
             [
              0.3333333333333333,
              "#9c179e"
             ],
             [
              0.4444444444444444,
              "#bd3786"
             ],
             [
              0.5555555555555556,
              "#d8576b"
             ],
             [
              0.6666666666666666,
              "#ed7953"
             ],
             [
              0.7777777777777778,
              "#fb9f3a"
             ],
             [
              0.8888888888888888,
              "#fdca26"
             ],
             [
              1,
              "#f0f921"
             ]
            ],
            "type": "contour"
           }
          ],
          "contourcarpet": [
           {
            "colorbar": {
             "outlinewidth": 0,
             "ticks": ""
            },
            "type": "contourcarpet"
           }
          ],
          "heatmap": [
           {
            "colorbar": {
             "outlinewidth": 0,
             "ticks": ""
            },
            "colorscale": [
             [
              0,
              "#0d0887"
             ],
             [
              0.1111111111111111,
              "#46039f"
             ],
             [
              0.2222222222222222,
              "#7201a8"
             ],
             [
              0.3333333333333333,
              "#9c179e"
             ],
             [
              0.4444444444444444,
              "#bd3786"
             ],
             [
              0.5555555555555556,
              "#d8576b"
             ],
             [
              0.6666666666666666,
              "#ed7953"
             ],
             [
              0.7777777777777778,
              "#fb9f3a"
             ],
             [
              0.8888888888888888,
              "#fdca26"
             ],
             [
              1,
              "#f0f921"
             ]
            ],
            "type": "heatmap"
           }
          ],
          "histogram": [
           {
            "marker": {
             "pattern": {
              "fillmode": "overlay",
              "size": 10,
              "solidity": 0.2
             }
            },
            "type": "histogram"
           }
          ],
          "histogram2d": [
           {
            "colorbar": {
             "outlinewidth": 0,
             "ticks": ""
            },
            "colorscale": [
             [
              0,
              "#0d0887"
             ],
             [
              0.1111111111111111,
              "#46039f"
             ],
             [
              0.2222222222222222,
              "#7201a8"
             ],
             [
              0.3333333333333333,
              "#9c179e"
             ],
             [
              0.4444444444444444,
              "#bd3786"
             ],
             [
              0.5555555555555556,
              "#d8576b"
             ],
             [
              0.6666666666666666,
              "#ed7953"
             ],
             [
              0.7777777777777778,
              "#fb9f3a"
             ],
             [
              0.8888888888888888,
              "#fdca26"
             ],
             [
              1,
              "#f0f921"
             ]
            ],
            "type": "histogram2d"
           }
          ],
          "histogram2dcontour": [
           {
            "colorbar": {
             "outlinewidth": 0,
             "ticks": ""
            },
            "colorscale": [
             [
              0,
              "#0d0887"
             ],
             [
              0.1111111111111111,
              "#46039f"
             ],
             [
              0.2222222222222222,
              "#7201a8"
             ],
             [
              0.3333333333333333,
              "#9c179e"
             ],
             [
              0.4444444444444444,
              "#bd3786"
             ],
             [
              0.5555555555555556,
              "#d8576b"
             ],
             [
              0.6666666666666666,
              "#ed7953"
             ],
             [
              0.7777777777777778,
              "#fb9f3a"
             ],
             [
              0.8888888888888888,
              "#fdca26"
             ],
             [
              1,
              "#f0f921"
             ]
            ],
            "type": "histogram2dcontour"
           }
          ],
          "mesh3d": [
           {
            "colorbar": {
             "outlinewidth": 0,
             "ticks": ""
            },
            "type": "mesh3d"
           }
          ],
          "parcoords": [
           {
            "line": {
             "colorbar": {
              "outlinewidth": 0,
              "ticks": ""
             }
            },
            "type": "parcoords"
           }
          ],
          "pie": [
           {
            "automargin": true,
            "type": "pie"
           }
          ],
          "scatter": [
           {
            "fillpattern": {
             "fillmode": "overlay",
             "size": 10,
             "solidity": 0.2
            },
            "type": "scatter"
           }
          ],
          "scatter3d": [
           {
            "line": {
             "colorbar": {
              "outlinewidth": 0,
              "ticks": ""
             }
            },
            "marker": {
             "colorbar": {
              "outlinewidth": 0,
              "ticks": ""
             }
            },
            "type": "scatter3d"
           }
          ],
          "scattercarpet": [
           {
            "marker": {
             "colorbar": {
              "outlinewidth": 0,
              "ticks": ""
             }
            },
            "type": "scattercarpet"
           }
          ],
          "scattergeo": [
           {
            "marker": {
             "colorbar": {
              "outlinewidth": 0,
              "ticks": ""
             }
            },
            "type": "scattergeo"
           }
          ],
          "scattergl": [
           {
            "marker": {
             "colorbar": {
              "outlinewidth": 0,
              "ticks": ""
             }
            },
            "type": "scattergl"
           }
          ],
          "scattermap": [
           {
            "marker": {
             "colorbar": {
              "outlinewidth": 0,
              "ticks": ""
             }
            },
            "type": "scattermap"
           }
          ],
          "scattermapbox": [
           {
            "marker": {
             "colorbar": {
              "outlinewidth": 0,
              "ticks": ""
             }
            },
            "type": "scattermapbox"
           }
          ],
          "scatterpolar": [
           {
            "marker": {
             "colorbar": {
              "outlinewidth": 0,
              "ticks": ""
             }
            },
            "type": "scatterpolar"
           }
          ],
          "scatterpolargl": [
           {
            "marker": {
             "colorbar": {
              "outlinewidth": 0,
              "ticks": ""
             }
            },
            "type": "scatterpolargl"
           }
          ],
          "scatterternary": [
           {
            "marker": {
             "colorbar": {
              "outlinewidth": 0,
              "ticks": ""
             }
            },
            "type": "scatterternary"
           }
          ],
          "surface": [
           {
            "colorbar": {
             "outlinewidth": 0,
             "ticks": ""
            },
            "colorscale": [
             [
              0,
              "#0d0887"
             ],
             [
              0.1111111111111111,
              "#46039f"
             ],
             [
              0.2222222222222222,
              "#7201a8"
             ],
             [
              0.3333333333333333,
              "#9c179e"
             ],
             [
              0.4444444444444444,
              "#bd3786"
             ],
             [
              0.5555555555555556,
              "#d8576b"
             ],
             [
              0.6666666666666666,
              "#ed7953"
             ],
             [
              0.7777777777777778,
              "#fb9f3a"
             ],
             [
              0.8888888888888888,
              "#fdca26"
             ],
             [
              1,
              "#f0f921"
             ]
            ],
            "type": "surface"
           }
          ],
          "table": [
           {
            "cells": {
             "fill": {
              "color": "#EBF0F8"
             },
             "line": {
              "color": "white"
             }
            },
            "header": {
             "fill": {
              "color": "#C8D4E3"
             },
             "line": {
              "color": "white"
             }
            },
            "type": "table"
           }
          ]
         },
         "layout": {
          "annotationdefaults": {
           "arrowcolor": "#2a3f5f",
           "arrowhead": 0,
           "arrowwidth": 1
          },
          "autotypenumbers": "strict",
          "coloraxis": {
           "colorbar": {
            "outlinewidth": 0,
            "ticks": ""
           }
          },
          "colorscale": {
           "diverging": [
            [
             0,
             "#8e0152"
            ],
            [
             0.1,
             "#c51b7d"
            ],
            [
             0.2,
             "#de77ae"
            ],
            [
             0.3,
             "#f1b6da"
            ],
            [
             0.4,
             "#fde0ef"
            ],
            [
             0.5,
             "#f7f7f7"
            ],
            [
             0.6,
             "#e6f5d0"
            ],
            [
             0.7,
             "#b8e186"
            ],
            [
             0.8,
             "#7fbc41"
            ],
            [
             0.9,
             "#4d9221"
            ],
            [
             1,
             "#276419"
            ]
           ],
           "sequential": [
            [
             0,
             "#0d0887"
            ],
            [
             0.1111111111111111,
             "#46039f"
            ],
            [
             0.2222222222222222,
             "#7201a8"
            ],
            [
             0.3333333333333333,
             "#9c179e"
            ],
            [
             0.4444444444444444,
             "#bd3786"
            ],
            [
             0.5555555555555556,
             "#d8576b"
            ],
            [
             0.6666666666666666,
             "#ed7953"
            ],
            [
             0.7777777777777778,
             "#fb9f3a"
            ],
            [
             0.8888888888888888,
             "#fdca26"
            ],
            [
             1,
             "#f0f921"
            ]
           ],
           "sequentialminus": [
            [
             0,
             "#0d0887"
            ],
            [
             0.1111111111111111,
             "#46039f"
            ],
            [
             0.2222222222222222,
             "#7201a8"
            ],
            [
             0.3333333333333333,
             "#9c179e"
            ],
            [
             0.4444444444444444,
             "#bd3786"
            ],
            [
             0.5555555555555556,
             "#d8576b"
            ],
            [
             0.6666666666666666,
             "#ed7953"
            ],
            [
             0.7777777777777778,
             "#fb9f3a"
            ],
            [
             0.8888888888888888,
             "#fdca26"
            ],
            [
             1,
             "#f0f921"
            ]
           ]
          },
          "colorway": [
           "#636efa",
           "#EF553B",
           "#00cc96",
           "#ab63fa",
           "#FFA15A",
           "#19d3f3",
           "#FF6692",
           "#B6E880",
           "#FF97FF",
           "#FECB52"
          ],
          "font": {
           "color": "#2a3f5f"
          },
          "geo": {
           "bgcolor": "white",
           "lakecolor": "white",
           "landcolor": "white",
           "showlakes": true,
           "showland": true,
           "subunitcolor": "#C8D4E3"
          },
          "hoverlabel": {
           "align": "left"
          },
          "hovermode": "closest",
          "mapbox": {
           "style": "light"
          },
          "paper_bgcolor": "white",
          "plot_bgcolor": "white",
          "polar": {
           "angularaxis": {
            "gridcolor": "#EBF0F8",
            "linecolor": "#EBF0F8",
            "ticks": ""
           },
           "bgcolor": "white",
           "radialaxis": {
            "gridcolor": "#EBF0F8",
            "linecolor": "#EBF0F8",
            "ticks": ""
           }
          },
          "scene": {
           "xaxis": {
            "backgroundcolor": "white",
            "gridcolor": "#DFE8F3",
            "gridwidth": 2,
            "linecolor": "#EBF0F8",
            "showbackground": true,
            "ticks": "",
            "zerolinecolor": "#EBF0F8"
           },
           "yaxis": {
            "backgroundcolor": "white",
            "gridcolor": "#DFE8F3",
            "gridwidth": 2,
            "linecolor": "#EBF0F8",
            "showbackground": true,
            "ticks": "",
            "zerolinecolor": "#EBF0F8"
           },
           "zaxis": {
            "backgroundcolor": "white",
            "gridcolor": "#DFE8F3",
            "gridwidth": 2,
            "linecolor": "#EBF0F8",
            "showbackground": true,
            "ticks": "",
            "zerolinecolor": "#EBF0F8"
           }
          },
          "shapedefaults": {
           "line": {
            "color": "#2a3f5f"
           }
          },
          "ternary": {
           "aaxis": {
            "gridcolor": "#DFE8F3",
            "linecolor": "#A2B1C6",
            "ticks": ""
           },
           "baxis": {
            "gridcolor": "#DFE8F3",
            "linecolor": "#A2B1C6",
            "ticks": ""
           },
           "bgcolor": "white",
           "caxis": {
            "gridcolor": "#DFE8F3",
            "linecolor": "#A2B1C6",
            "ticks": ""
           }
          },
          "title": {
           "x": 0.05
          },
          "xaxis": {
           "automargin": true,
           "gridcolor": "#EBF0F8",
           "linecolor": "#EBF0F8",
           "ticks": "",
           "title": {
            "standoff": 15
           },
           "zerolinecolor": "#EBF0F8",
           "zerolinewidth": 2
          },
          "yaxis": {
           "automargin": true,
           "gridcolor": "#EBF0F8",
           "linecolor": "#EBF0F8",
           "ticks": "",
           "title": {
            "standoff": 15
           },
           "zerolinecolor": "#EBF0F8",
           "zerolinewidth": 2
          }
         }
        },
        "title": {
         "text": "Smoking Status Influences Spending and Tipping Behavior<br><sup>Smokers show higher bills and tips on average, but differences are modest with overlapping distributions.</sup>",
         "x": 0.5,
         "xanchor": "center"
        },
        "width": 1200,
        "xaxis": {
         "anchor": "y",
         "domain": [
          0,
          0.26
         ]
        },
        "xaxis2": {
         "anchor": "y2",
         "domain": [
          0.32666666666666666,
          0.5866666666666667
         ]
        },
        "xaxis3": {
         "anchor": "y3",
         "domain": [
          0.6533333333333333,
          1
         ]
        },
        "yaxis": {
         "anchor": "x",
         "domain": [
          0,
          1
         ]
        },
        "yaxis2": {
         "anchor": "x2",
         "domain": [
          0,
          1
         ]
        },
        "yaxis3": {
         "anchor": "x3",
         "domain": [
          0,
          1
         ]
        }
       }
      }
     },
     "metadata": {},
     "output_type": "display_data"
    }
   ],
   "source": [
    "\n",
    "\n",
    "# Create a subplot figure with 1 row and 3 columns\n",
    "fig = make_subplots(\n",
    "    rows=1, cols=3,\n",
    "    subplot_titles=(\"Total Bill by Smoking Status\", \"Tip Amount by Smoking Status\", \"Tip vs. Total Bill\"),\n",
    "    column_widths=[0.3, 0.3, 0.4],\n",
    "    shared_yaxes=False\n",
    ")\n",
    "\n",
    "# Box plot: Total bill by smoking status\n",
    "box1 = px.box(tip_df, x='smoker', y='total_bill', color='smoker')\n",
    "for trace in box1.data:\n",
    "    fig.add_trace(trace, row=1, col=1)\n",
    "\n",
    "# Box plot: Tip amount by smoking status\n",
    "box2 = px.box(tip_df, x='smoker', y='tip', color='smoker')\n",
    "for trace in box2.data:\n",
    "    fig.add_trace(trace, row=1, col=2)\n",
    "\n",
    "# Scatter plot with trendline: Tip vs. Total Bill by smoking status\n",
    "scatter = px.scatter(\n",
    "    tip_df,\n",
    "    x='total_bill',\n",
    "    y='tip',\n",
    "    color='smoker',\n",
    "    labels={'smoker': 'Smoking Status', 'total_bill': 'Total Bill (USD)', 'tip': 'Tip Amount (USD)'}\n",
    ")\n",
    "scatter.update_layout(\n",
    "    xaxis_title='Total Bill (USD)',\n",
    "    yaxis_title='Tip Amount (USD)'\n",
    ")\n",
    "for trace in scatter.data:\n",
    "    fig.add_trace(trace, row=1, col=3)\n",
    "\n",
    "# Update layout\n",
    "fig.update_layout(\n",
    "    title={\n",
    "        'text': (\n",
    "            'Smoking Status Influences Spending and Tipping Behavior<br>'\n",
    "            '<sup>Smokers show higher bills and tips on average, but differences are modest with overlapping distributions.</sup>'\n",
    "        ),\n",
    "        'x': 0.5,\n",
    "        'xanchor': 'center'\n",
    "    },\n",
    "    template='plotly_white',\n",
    "    height=500,\n",
    "    width=1200,\n",
    "    margin=dict(t=200),\n",
    "    font=dict(size=14),\n",
    "    showlegend=False,\n",
    "    \n",
    ")\n",
    "\n",
    "fig.show()\n"
   ]
  },
  {
   "cell_type": "markdown",
   "id": "b26da872",
   "metadata": {},
   "source": [
    "**Findings:**\n",
    "\n",
    "- **Smokers** tend to have higher total bill amounts and also leave higher tips compared to non-smokers.\n",
    "- The box plots show that both the median and the spread for total bill and tip are greater for smokers.\n",
    "- The scatter plot confirms that, for similar bill amounts, smokers often tip more than non-smokers.\n",
    "- However, the difference is not extreme—there is considerable overlap between the two groups."
   ]
  },
  {
   "cell_type": "markdown",
   "id": "080947c3",
   "metadata": {},
   "source": [
    ">## **Question:**  \n",
    "> **How does the distribution of meal times (lunch vs. dinner) vary across different days of the week?**  \n"
   ]
  },
  {
   "cell_type": "code",
   "execution_count": 239,
   "id": "9b0c2ca3",
   "metadata": {},
   "outputs": [
    {
     "data": {
      "image/png": "[encoded data removed]",
      "text/plain": [
       "<Figure size 1600x600 with 2 Axes>"
      ]
     },
     "metadata": {},
     "output_type": "display_data"
    }
   ],
   "source": [
    "fig, axes = plt.subplots(1, 2, figsize=(16, 6), sharey=True)\n",
    "\n",
    "# Actual counts plot\n",
    "actual_crosstab.plot(\n",
    "    kind=\"barh\",\n",
    "    stacked=True,\n",
    "    ax=axes[0],\n",
    "    colormap=\"viridis\"\n",
    ")\n",
    "axes[0].set_title(\"Meal Time by Day (Counts)\", fontsize=16, fontname=\"Arial\", pad=20)\n",
    "axes[0].set_xlabel(\"Count\", fontsize=13, fontname=\"Arial\")\n",
    "axes[0].set_ylabel(\"Day of Week\", fontsize=13, fontname=\"Arial\")\n",
    "axes[0].legend(title=\"Meal Time\", fontsize=11, title_fontsize=13, loc='lower right')\n",
    "axes[0].grid(axis='x', linestyle='--', color='lightgray', alpha=0.7)\n",
    "\n",
    "# Normalized plot\n",
    "normalized_crosstab.plot(\n",
    "    kind=\"barh\",\n",
    "    stacked=True,\n",
    "    ax=axes[1],\n",
    "    colormap=\"viridis\"\n",
    ")\n",
    "axes[1].set_title(\"Meal Time by Day (Proportion)\", fontsize=16, fontname=\"Arial\", pad=20)\n",
    "axes[1].set_xlabel(\"Proportion\", fontsize=13, fontname=\"Arial\")\n",
    "axes[1].set_ylabel(\"\")\n",
    "axes[1].legend('')\n",
    "axes[1].grid(axis='x', linestyle='--', color='lightgray', alpha=0.7)\n",
    "\n",
    "# Add a main title and subtitle\n",
    "fig.suptitle(\n",
    "    \"Meal Time Distribution by Day of Week\",\n",
    "    fontsize=22, fontname=\"Arial\", y=1.08\n",
    ")\n",
    "fig.text(\n",
    "    0.5, 1.02,\n",
    "    \"Dinner dominates on weekends; Thursday sees more lunch bills.\\nOther weekdays are not represented.\",\n",
    "    ha='center', va='top', fontsize=14, fontname=\"Arial\", color='dimgray'\n",
    ")\n",
    "\n",
    "plt.tight_layout(pad=4, rect=[0, 0, 1, 0.96])\n",
    "plt.show()\n"
   ]
  },
  {
   "cell_type": "markdown",
   "id": "342246fd",
   "metadata": {},
   "source": [
    "**Findings:**\n",
    "\n",
    "- On weekends (Saturday and Sunday) and Friday, the majority of billing occurs during dinner time.\n",
    "- On Thursday, most billing takes place at lunch.\n",
    "- The absence of data for other weekdays limits our ability to draw broader conclusions about weekday dining patterns.\n",
    "- This pattern may reflect typical restaurant behavior, where weekend evenings are busier, while weekday lunches (such as Thursday) see more activity, possibly due to work-related gatherings or lunch breaks."
   ]
  },
  {
   "cell_type": "markdown",
   "id": "c35ae58f",
   "metadata": {},
   "source": [
    "## How does the party size affected the `total bill` and `tips`?"
   ]
  },
  {
   "cell_type": "code",
   "execution_count": 240,
   "id": "a1ceb4b7",
   "metadata": {},
   "outputs": [
    {
     "data": {
      "application/vnd.plotly.v1+json": {
       "config": {
        "plotlyServerURL": "https://plot.ly"
       },
       "data": [
        {
         "alignmentgroup": "True",
         "hovertemplate": "Party Size=%{x}<br>Tip Amount ($)=%{y}<extra></extra>",
         "legendgroup": "",
         "marker": {
          "color": "#636efa",
          "line": {
           "color": "black",
           "width": 2
          }
         },
         "name": "",
         "notched": false,
         "offsetgroup": "",
         "orientation": "v",
         "showlegend": false,
         "type": "box",
         "x": [
          "1",
          "1",
          "1",
          "1",
          "2",
          "2",
          "2",
          "2",
          "2",
          "2",
          "2",
          "2",
          "2",
          "2",
          "2",
          "2",
          "2",
          "2",
          "2",
          "2",
          "2",
          "2",
          "2",
          "2",
          "2",
          "2",
          "2",
          "2",
          "2",
          "2",
          "2",
          "2",
          "2",
          "2",
          "2",
          "2",
          "2",
          "2",
          "2",
          "2",
          "2",
          "2",
          "2",
          "2",
          "2",
          "2",
          "2",
          "2",
          "2",
          "2",
          "2",
          "2",
          "2",
          "2",
          "2",
          "2",
          "2",
          "2",
          "2",
          "2",
          "2",
          "2",
          "2",
          "2",
          "2",
          "2",
          "2",
          "2",
          "2",
          "2",
          "2",
          "2",
          "2",
          "2",
          "2",
          "2",
          "2",
          "2",
          "2",
          "2",
          "2",
          "2",
          "2",
          "2",
          "2",
          "2",
          "2",
          "2",
          "2",
          "2",
          "2",
          "2",
          "2",
          "2",
          "2",
          "2",
          "2",
          "2",
          "2",
          "2",
          "2",
          "2",
          "2",
          "2",
          "2",
          "2",
          "2",
          "2",
          "2",
          "2",
          "2",
          "2",
          "2",
          "2",
          "2",
          "2",
          "2",
          "2",
          "2",
          "2",
          "2",
          "2",
          "2",
          "2",
          "2",
          "2",
          "2",
          "2",
          "2",
          "2",
          "2",
          "2",
          "2",
          "2",
          "2",
          "2",
          "2",
          "2",
          "2",
          "2",
          "2",
          "2",
          "2",
          "2",
          "2",
          "2",
          "2",
          "2",
          "2",
          "2",
          "2",
          "2",
          "2",
          "2",
          "2",
          "2",
          "2",
          "2",
          "2",
          "2",
          "3",
          "3",
          "3",
          "3",
          "3",
          "3",
          "3",
          "3",
          "3",
          "3",
          "3",
          "3",
          "3",
          "3",
          "3",
          "3",
          "3",
          "3",
          "3",
          "3",
          "3",
          "3",
          "3",
          "3",
          "3",
          "3",
          "3",
          "3",
          "3",
          "3",
          "3",
          "3",
          "3",
          "3",
          "3",
          "3",
          "3",
          "3",
          "4",
          "4",
          "4",
          "4",
          "4",
          "4",
          "4",
          "4",
          "4",
          "4",
          "4",
          "4",
          "4",
          "4",
          "4",
          "4",
          "4",
          "4",
          "4",
          "4",
          "4",
          "4",
          "4",
          "4",
          "4",
          "4",
          "4",
          "4",
          "4",
          "4",
          "4",
          "4",
          "4",
          "4",
          "4",
          "4",
          "4",
          "5",
          "5",
          "5",
          "5",
          "5",
          "6",
          "6",
          "6",
          "6"
         ],
         "x0": " ",
         "xaxis": "x",
         "y": {
          "bdata": "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",
          "dtype": "f8"
         },
         "y0": " ",
         "yaxis": "y"
        }
       ],
       "layout": {
        "boxmode": "group",
        "font": {
         "family": "Arial",
         "size": 14
        },
        "height": 450,
        "legend": {
         "tracegroupgap": 0
        },
        "margin": {
         "b": 50,
         "l": 50,
         "r": 50,
         "t": 100
        },
        "template": {
         "data": {
          "bar": [
           {
            "error_x": {
             "color": "#2a3f5f"
            },
            "error_y": {
             "color": "#2a3f5f"
            },
            "marker": {
             "line": {
              "color": "white",
              "width": 0.5
             },
             "pattern": {
              "fillmode": "overlay",
              "size": 10,
              "solidity": 0.2
             }
            },
            "type": "bar"
           }
          ],
          "barpolar": [
           {
            "marker": {
             "line": {
              "color": "white",
              "width": 0.5
             },
             "pattern": {
              "fillmode": "overlay",
              "size": 10,
              "solidity": 0.2
             }
            },
            "type": "barpolar"
           }
          ],
          "carpet": [
           {
            "aaxis": {
             "endlinecolor": "#2a3f5f",
             "gridcolor": "#C8D4E3",
             "linecolor": "#C8D4E3",
             "minorgridcolor": "#C8D4E3",
             "startlinecolor": "#2a3f5f"
            },
            "baxis": {
             "endlinecolor": "#2a3f5f",
             "gridcolor": "#C8D4E3",
             "linecolor": "#C8D4E3",
             "minorgridcolor": "#C8D4E3",
             "startlinecolor": "#2a3f5f"
            },
            "type": "carpet"
           }
          ],
          "choropleth": [
           {
            "colorbar": {
             "outlinewidth": 0,
             "ticks": ""
            },
            "type": "choropleth"
           }
          ],
          "contour": [
           {
            "colorbar": {
             "outlinewidth": 0,
             "ticks": ""
            },
            "colorscale": [
             [
              0,
              "#0d0887"
             ],
             [
              0.1111111111111111,
              "#46039f"
             ],
             [
              0.2222222222222222,
              "#7201a8"
             ],
             [
              0.3333333333333333,
              "#9c179e"
             ],
             [
              0.4444444444444444,
              "#bd3786"
             ],
             [
              0.5555555555555556,
              "#d8576b"
             ],
             [
              0.6666666666666666,
              "#ed7953"
             ],
             [
              0.7777777777777778,
              "#fb9f3a"
             ],
             [
              0.8888888888888888,
              "#fdca26"
             ],
             [
              1,
              "#f0f921"
             ]
            ],
            "type": "contour"
           }
          ],
          "contourcarpet": [
           {
            "colorbar": {
             "outlinewidth": 0,
             "ticks": ""
            },
            "type": "contourcarpet"
           }
          ],
          "heatmap": [
           {
            "colorbar": {
             "outlinewidth": 0,
             "ticks": ""
            },
            "colorscale": [
             [
              0,
              "#0d0887"
             ],
             [
              0.1111111111111111,
              "#46039f"
             ],
             [
              0.2222222222222222,
              "#7201a8"
             ],
             [
              0.3333333333333333,
              "#9c179e"
             ],
             [
              0.4444444444444444,
              "#bd3786"
             ],
             [
              0.5555555555555556,
              "#d8576b"
             ],
             [
              0.6666666666666666,
              "#ed7953"
             ],
             [
              0.7777777777777778,
              "#fb9f3a"
             ],
             [
              0.8888888888888888,
              "#fdca26"
             ],
             [
              1,
              "#f0f921"
             ]
            ],
            "type": "heatmap"
           }
          ],
          "histogram": [
           {
            "marker": {
             "pattern": {
              "fillmode": "overlay",
              "size": 10,
              "solidity": 0.2
             }
            },
            "type": "histogram"
           }
          ],
          "histogram2d": [
           {
            "colorbar": {
             "outlinewidth": 0,
             "ticks": ""
            },
            "colorscale": [
             [
              0,
              "#0d0887"
             ],
             [
              0.1111111111111111,
              "#46039f"
             ],
             [
              0.2222222222222222,
              "#7201a8"
             ],
             [
              0.3333333333333333,
              "#9c179e"
             ],
             [
              0.4444444444444444,
              "#bd3786"
             ],
             [
              0.5555555555555556,
              "#d8576b"
             ],
             [
              0.6666666666666666,
              "#ed7953"
             ],
             [
              0.7777777777777778,
              "#fb9f3a"
             ],
             [
              0.8888888888888888,
              "#fdca26"
             ],
             [
              1,
              "#f0f921"
             ]
            ],
            "type": "histogram2d"
           }
          ],
          "histogram2dcontour": [
           {
            "colorbar": {
             "outlinewidth": 0,
             "ticks": ""
            },
            "colorscale": [
             [
              0,
              "#0d0887"
             ],
             [
              0.1111111111111111,
              "#46039f"
             ],
             [
              0.2222222222222222,
              "#7201a8"
             ],
             [
              0.3333333333333333,
              "#9c179e"
             ],
             [
              0.4444444444444444,
              "#bd3786"
             ],
             [
              0.5555555555555556,
              "#d8576b"
             ],
             [
              0.6666666666666666,
              "#ed7953"
             ],
             [
              0.7777777777777778,
              "#fb9f3a"
             ],
             [
              0.8888888888888888,
              "#fdca26"
             ],
             [
              1,
              "#f0f921"
             ]
            ],
            "type": "histogram2dcontour"
           }
          ],
          "mesh3d": [
           {
            "colorbar": {
             "outlinewidth": 0,
             "ticks": ""
            },
            "type": "mesh3d"
           }
          ],
          "parcoords": [
           {
            "line": {
             "colorbar": {
              "outlinewidth": 0,
              "ticks": ""
             }
            },
            "type": "parcoords"
           }
          ],
          "pie": [
           {
            "automargin": true,
            "type": "pie"
           }
          ],
          "scatter": [
           {
            "fillpattern": {
             "fillmode": "overlay",
             "size": 10,
             "solidity": 0.2
            },
            "type": "scatter"
           }
          ],
          "scatter3d": [
           {
            "line": {
             "colorbar": {
              "outlinewidth": 0,
              "ticks": ""
             }
            },
            "marker": {
             "colorbar": {
              "outlinewidth": 0,
              "ticks": ""
             }
            },
            "type": "scatter3d"
           }
          ],
          "scattercarpet": [
           {
            "marker": {
             "colorbar": {
              "outlinewidth": 0,
              "ticks": ""
             }
            },
            "type": "scattercarpet"
           }
          ],
          "scattergeo": [
           {
            "marker": {
             "colorbar": {
              "outlinewidth": 0,
              "ticks": ""
             }
            },
            "type": "scattergeo"
           }
          ],
          "scattergl": [
           {
            "marker": {
             "colorbar": {
              "outlinewidth": 0,
              "ticks": ""
             }
            },
            "type": "scattergl"
           }
          ],
          "scattermap": [
           {
            "marker": {
             "colorbar": {
              "outlinewidth": 0,
              "ticks": ""
             }
            },
            "type": "scattermap"
           }
          ],
          "scattermapbox": [
           {
            "marker": {
             "colorbar": {
              "outlinewidth": 0,
              "ticks": ""
             }
            },
            "type": "scattermapbox"
           }
          ],
          "scatterpolar": [
           {
            "marker": {
             "colorbar": {
              "outlinewidth": 0,
              "ticks": ""
             }
            },
            "type": "scatterpolar"
           }
          ],
          "scatterpolargl": [
           {
            "marker": {
             "colorbar": {
              "outlinewidth": 0,
              "ticks": ""
             }
            },
            "type": "scatterpolargl"
           }
          ],
          "scatterternary": [
           {
            "marker": {
             "colorbar": {
              "outlinewidth": 0,
              "ticks": ""
             }
            },
            "type": "scatterternary"
           }
          ],
          "surface": [
           {
            "colorbar": {
             "outlinewidth": 0,
             "ticks": ""
            },
            "colorscale": [
             [
              0,
              "#0d0887"
             ],
             [
              0.1111111111111111,
              "#46039f"
             ],
             [
              0.2222222222222222,
              "#7201a8"
             ],
             [
              0.3333333333333333,
              "#9c179e"
             ],
             [
              0.4444444444444444,
              "#bd3786"
             ],
             [
              0.5555555555555556,
              "#d8576b"
             ],
             [
              0.6666666666666666,
              "#ed7953"
             ],
             [
              0.7777777777777778,
              "#fb9f3a"
             ],
             [
              0.8888888888888888,
              "#fdca26"
             ],
             [
              1,
              "#f0f921"
             ]
            ],
            "type": "surface"
           }
          ],
          "table": [
           {
            "cells": {
             "fill": {
              "color": "#EBF0F8"
             },
             "line": {
              "color": "white"
             }
            },
            "header": {
             "fill": {
              "color": "#C8D4E3"
             },
             "line": {
              "color": "white"
             }
            },
            "type": "table"
           }
          ]
         },
         "layout": {
          "annotationdefaults": {
           "arrowcolor": "#2a3f5f",
           "arrowhead": 0,
           "arrowwidth": 1
          },
          "autotypenumbers": "strict",
          "coloraxis": {
           "colorbar": {
            "outlinewidth": 0,
            "ticks": ""
           }
          },
          "colorscale": {
           "diverging": [
            [
             0,
             "#8e0152"
            ],
            [
             0.1,
             "#c51b7d"
            ],
            [
             0.2,
             "#de77ae"
            ],
            [
             0.3,
             "#f1b6da"
            ],
            [
             0.4,
             "#fde0ef"
            ],
            [
             0.5,
             "#f7f7f7"
            ],
            [
             0.6,
             "#e6f5d0"
            ],
            [
             0.7,
             "#b8e186"
            ],
            [
             0.8,
             "#7fbc41"
            ],
            [
             0.9,
             "#4d9221"
            ],
            [
             1,
             "#276419"
            ]
           ],
           "sequential": [
            [
             0,
             "#0d0887"
            ],
            [
             0.1111111111111111,
             "#46039f"
            ],
            [
             0.2222222222222222,
             "#7201a8"
            ],
            [
             0.3333333333333333,
             "#9c179e"
            ],
            [
             0.4444444444444444,
             "#bd3786"
            ],
            [
             0.5555555555555556,
             "#d8576b"
            ],
            [
             0.6666666666666666,
             "#ed7953"
            ],
            [
             0.7777777777777778,
             "#fb9f3a"
            ],
            [
             0.8888888888888888,
             "#fdca26"
            ],
            [
             1,
             "#f0f921"
            ]
           ],
           "sequentialminus": [
            [
             0,
             "#0d0887"
            ],
            [
             0.1111111111111111,
             "#46039f"
            ],
            [
             0.2222222222222222,
             "#7201a8"
            ],
            [
             0.3333333333333333,
             "#9c179e"
            ],
            [
             0.4444444444444444,
             "#bd3786"
            ],
            [
             0.5555555555555556,
             "#d8576b"
            ],
            [
             0.6666666666666666,
             "#ed7953"
            ],
            [
             0.7777777777777778,
             "#fb9f3a"
            ],
            [
             0.8888888888888888,
             "#fdca26"
            ],
            [
             1,
             "#f0f921"
            ]
           ]
          },
          "colorway": [
           "#636efa",
           "#EF553B",
           "#00cc96",
           "#ab63fa",
           "#FFA15A",
           "#19d3f3",
           "#FF6692",
           "#B6E880",
           "#FF97FF",
           "#FECB52"
          ],
          "font": {
           "color": "#2a3f5f"
          },
          "geo": {
           "bgcolor": "white",
           "lakecolor": "white",
           "landcolor": "white",
           "showlakes": true,
           "showland": true,
           "subunitcolor": "#C8D4E3"
          },
          "hoverlabel": {
           "align": "left"
          },
          "hovermode": "closest",
          "mapbox": {
           "style": "light"
          },
          "paper_bgcolor": "white",
          "plot_bgcolor": "white",
          "polar": {
           "angularaxis": {
            "gridcolor": "#EBF0F8",
            "linecolor": "#EBF0F8",
            "ticks": ""
           },
           "bgcolor": "white",
           "radialaxis": {
            "gridcolor": "#EBF0F8",
            "linecolor": "#EBF0F8",
            "ticks": ""
           }
          },
          "scene": {
           "xaxis": {
            "backgroundcolor": "white",
            "gridcolor": "#DFE8F3",
            "gridwidth": 2,
            "linecolor": "#EBF0F8",
            "showbackground": true,
            "ticks": "",
            "zerolinecolor": "#EBF0F8"
           },
           "yaxis": {
            "backgroundcolor": "white",
            "gridcolor": "#DFE8F3",
            "gridwidth": 2,
            "linecolor": "#EBF0F8",
            "showbackground": true,
            "ticks": "",
            "zerolinecolor": "#EBF0F8"
           },
           "zaxis": {
            "backgroundcolor": "white",
            "gridcolor": "#DFE8F3",
            "gridwidth": 2,
            "linecolor": "#EBF0F8",
            "showbackground": true,
            "ticks": "",
            "zerolinecolor": "#EBF0F8"
           }
          },
          "shapedefaults": {
           "line": {
            "color": "#2a3f5f"
           }
          },
          "ternary": {
           "aaxis": {
            "gridcolor": "#DFE8F3",
            "linecolor": "#A2B1C6",
            "ticks": ""
           },
           "baxis": {
            "gridcolor": "#DFE8F3",
            "linecolor": "#A2B1C6",
            "ticks": ""
           },
           "bgcolor": "white",
           "caxis": {
            "gridcolor": "#DFE8F3",
            "linecolor": "#A2B1C6",
            "ticks": ""
           }
          },
          "title": {
           "x": 0.05
          },
          "xaxis": {
           "automargin": true,
           "gridcolor": "#EBF0F8",
           "linecolor": "#EBF0F8",
           "ticks": "",
           "title": {
            "standoff": 15
           },
           "zerolinecolor": "#EBF0F8",
           "zerolinewidth": 2
          },
          "yaxis": {
           "automargin": true,
           "gridcolor": "#EBF0F8",
           "linecolor": "#EBF0F8",
           "ticks": "",
           "title": {
            "standoff": 15
           },
           "zerolinecolor": "#EBF0F8",
           "zerolinewidth": 2
          }
         }
        },
        "title": {
         "font": {
          "family": "Arial",
          "size": 22
         },
         "text": "Tip Amount Distribution by Party Size<br><sup>Larger parties tend to leave higher tips, but variability increases with size</sup>",
         "x": 0.5,
         "xanchor": "center"
        },
        "width": 700,
        "xaxis": {
         "anchor": "y",
         "domain": [
          0,
          1
         ],
         "tickfont": {
          "size": 13
         },
         "title": {
          "font": {
           "size": 16
          },
          "text": "Party Size"
         }
        },
        "yaxis": {
         "anchor": "x",
         "domain": [
          0,
          1
         ],
         "tickfont": {
          "size": 13
         },
         "title": {
          "font": {
           "size": 16
          },
          "text": "Tip Amount ($)"
         }
        }
       }
      }
     },
     "metadata": {},
     "output_type": "display_data"
    }
   ],
   "source": [
    "tips = tip_df.copy()\n",
    "tips['size'] = tips['size'].astype(str)\n",
    "tips = tips.sort_values('size')\n",
    "\n",
    "fig2 = px.box(\n",
    "    tips,\n",
    "    x=\"size\",\n",
    "    y=\"tip\",\n",
    "    labels={\"size\": \"Party Size\", \"tip\": \"Tip Amount ($)\"},\n",
    "    template=\"plotly_white\"\n",
    ")\n",
    "\n",
    "fig2.update_traces(marker=dict(line=dict(width=2, color='black')))\n",
    "\n",
    "fig2.update_layout(\n",
    "    title={\n",
    "        'text': (\n",
    "            \"Tip Amount Distribution by Party Size<br>\"\n",
    "            \"<sup>Larger parties tend to leave higher tips, but variability increases with size</sup>\"\n",
    "        ),\n",
    "        'x': 0.5,\n",
    "        'xanchor': 'center'\n",
    "    },\n",
    "    title_font=dict(size=22, family='Arial'),\n",
    "    font=dict(size=14, family='Arial'),\n",
    "    xaxis=dict(\n",
    "        title='Party Size',\n",
    "        tickfont=dict(size=13),\n",
    "        title_font=dict(size=16)\n",
    "    ),\n",
    "    yaxis=dict(\n",
    "        title='Tip Amount ($)',\n",
    "        tickfont=dict(size=13),\n",
    "        title_font=dict(size=16)\n",
    "    ),\n",
    "    width=700,\n",
    "    height=450,\n",
    "    margin=dict(l=50, r=50, t=100, b=50)\n",
    ")\n",
    "\n",
    "fig2.show()\n"
   ]
  },
  {
   "cell_type": "markdown",
   "id": "f7c1de24",
   "metadata": {},
   "source": [
    "**Findings:**  \n",
    "- The average tip amount generally increases as the party size increases, though there is some fluctuation due to the presence of outliers.\n",
    "- Larger parties tend to leave higher tips, but the variability in tip amounts also grows with party size.\n",
    "- This trend aligns with the observation that total bill amounts also rise with party size, as seen in previous plots.\n",
    "\n",
    "\n"
   ]
  },
  {
   "cell_type": "markdown",
   "id": "f8c49aff",
   "metadata": {},
   "source": [
    "----"
   ]
  },
  {
   "cell_type": "markdown",
   "id": "47768dac",
   "metadata": {},
   "source": [
    "### **Summary of Tipping Behavior in the Seaborn `tips` Dataset**\n",
    "\n",
    "The `tips` dataset offers a comprehensive look at restaurant tipping habits in the U.S., with 244 complete records. It captures total bill, tip, gender, smoking status, day, time, and party size.\n",
    "\n",
    "- **Customer Demographics:**  \n",
    "    - Most customers are male (157/244) and non-smokers (151/244).\n",
    "    - The majority of visits are for dinner (176/244), especially on weekends (Saturday and Sunday).\n",
    "    - Typical party size is 2–3 people.\n",
    "\n",
    "- **Spending and Tipping Patterns:**  \n",
    "    - Average total bill: \\$19.78 (max \\$50.81); most bills are \\$10–\\$20.\n",
    "    - Average tip: \\$2.99 (max \\$10.00); most tips are \\$2–\\$3.50.\n",
    "    - Tips increase with total bill, and a few high-value outliers exist, especially among men.\n",
    "\n",
    "- **Gender Differences in Tipping:**  \n",
    "    - Men tip slightly more than women on average (\\$3.00 vs. \\$2.75).\n",
    "    - Men are more likely to leave large tips (max \\$10.00 vs. \\$6.50 for women).\n",
    "    - Male tipping shows greater variability and more high-value outliers.\n",
    "\n",
    "- **Other Influences:**  \n",
    "    - **Smokers** tend to have higher bills and tips, but the difference is modest and distributions overlap.\n",
    "    - **Meal time:** Dinner dominates on weekends; Thursday has more lunch bills.\n",
    "    - **Party size:** Larger parties leave higher and more variable tips, reflecting higher total bills.\n",
    "---\n",
    "\n",
    "**Conclusion:**  \n",
    "Tipping is moderately generous, with men tending to leave higher and more variable tips. The dataset is skewed toward male, non-smoking, dinner-time customers, and most parties are small. Outliers in tipping are more frequent among male patrons."
   ]
  }
 ],
 "metadata": {
  "kernelspec": {
   "display_name": ".venv",
   "language": "python",
   "name": "python3"
  },
  "language_info": {
   "codemirror_mode": {
    "name": "ipython",
    "version": 3
   },
   "file_extension": ".py",
   "mimetype": "text/x-python",
   "name": "python",
   "nbconvert_exporter": "python",
   "pygments_lexer": "ipython3",
   "version": "3.13.1"
  }
 },
 "nbformat": 4,
 "nbformat_minor": 5
}
